{
  "cells": [
    {
      "cell_type": "markdown",
      "metadata": {
        "id": "Zo6Nr9ApAOMF"
      },
      "source": [
        "# **Práctica 3: Análisis exploratorio de datos**\n",
        "\n",
        "Nombre: Casasola García Oscar\n",
        "\n",
        "No. Cuenta: 316123747\n",
        "\n",
        "Email: oscar.casasola.g7@gmail.com"
      ]
    },
    {
      "cell_type": "markdown",
      "metadata": {
        "id": "ULNJnL1hDiT5"
      },
      "source": [
        "### **Contexto**\n",
        "\n",
        "Yahoo Finance ofrece una amplia variedad de datos de mercado sobre acciones, bonos, divisas y criptomonedas. También proporciona informes de noticias con varios puntos de vista sobre diferentes mercados de todo el mundo, todos accesibles a través de la biblioteca yfinance.\n",
        "\n",
        "**Objetivo:** Hacer un análisis exploratorio de datos con base en información obtenida de Yahoo Finanzas. Por ejemplo, datos de Spotify, Facebook, Amazon y Aeromexico.\n",
        "\n",
        "**Fuente de datos**\n",
        "\n",
        "De Yahoo Finanzas se utiliza el Ticker -Etiqueta de cotización- de la acción bursatil."
      ]
    },
    {
      "cell_type": "markdown",
      "metadata": {
        "id": "uoY99zJ29vPO"
      },
      "source": [
        "### **Importar las bibliotecas y los datos**"
      ]
    },
    {
      "cell_type": "code",
      "execution_count": 1,
      "metadata": {
        "id": "bZHtqYVPxJmf",
        "outputId": "f77d7234-c0c5-414b-e807-a227033f1dfb"
      },
      "outputs": [
        {
          "name": "stdout",
          "output_type": "stream",
          "text": [
            "Requirement already satisfied: yfinance in c:\\users\\johnc\\anaconda3\\envs\\ia\\lib\\site-packages (0.1.67)\n",
            "Requirement already satisfied: pandas>=0.24 in c:\\users\\johnc\\anaconda3\\envs\\ia\\lib\\site-packages (from yfinance) (1.3.4)\n",
            "Requirement already satisfied: multitasking>=0.0.7 in c:\\users\\johnc\\anaconda3\\envs\\ia\\lib\\site-packages (from yfinance) (0.0.10)\n",
            "Requirement already satisfied: lxml>=4.5.1 in c:\\users\\johnc\\anaconda3\\envs\\ia\\lib\\site-packages (from yfinance) (4.6.4)\n",
            "Requirement already satisfied: requests>=2.20 in c:\\users\\johnc\\anaconda3\\envs\\ia\\lib\\site-packages (from yfinance) (2.26.0)\n",
            "Requirement already satisfied: numpy>=1.15 in c:\\users\\johnc\\anaconda3\\envs\\ia\\lib\\site-packages (from yfinance) (1.21.2)\n",
            "Requirement already satisfied: python-dateutil>=2.7.3 in c:\\users\\johnc\\anaconda3\\envs\\ia\\lib\\site-packages (from pandas>=0.24->yfinance) (2.8.2)\n",
            "Requirement already satisfied: pytz>=2017.3 in c:\\users\\johnc\\anaconda3\\envs\\ia\\lib\\site-packages (from pandas>=0.24->yfinance) (2021.3)\n",
            "Requirement already satisfied: six>=1.5 in c:\\users\\johnc\\anaconda3\\envs\\ia\\lib\\site-packages (from python-dateutil>=2.7.3->pandas>=0.24->yfinance) (1.15.0)\n",
            "Requirement already satisfied: certifi>=2017.4.17 in c:\\users\\johnc\\anaconda3\\envs\\ia\\lib\\site-packages (from requests>=2.20->yfinance) (2021.10.8)\n",
            "Requirement already satisfied: urllib3<1.27,>=1.21.1 in c:\\users\\johnc\\anaconda3\\envs\\ia\\lib\\site-packages (from requests>=2.20->yfinance) (1.26.7)\n",
            "Requirement already satisfied: charset-normalizer~=2.0.0 in c:\\users\\johnc\\anaconda3\\envs\\ia\\lib\\site-packages (from requests>=2.20->yfinance) (2.0.4)\n",
            "Requirement already satisfied: idna<4,>=2.5 in c:\\users\\johnc\\anaconda3\\envs\\ia\\lib\\site-packages (from requests>=2.20->yfinance) (2.10)\n",
            "Note: you may need to restart the kernel to use updated packages.\n"
          ]
        }
      ],
      "source": [
        "%pip install yfinance\n",
        "#!pip install googlefinance"
      ]
    },
    {
      "cell_type": "code",
      "execution_count": 1,
      "metadata": {
        "id": "s4Uf32pf_8NH"
      },
      "outputs": [],
      "source": [
        "import pandas as pd               # Para la manipulación y análisis de datos\n",
        "import numpy as np                # Para crear vectores y matrices n dimensionales\n",
        "import matplotlib.pyplot as plt   # Para la generación de gráficas a partir de los datos\n",
        "import seaborn as sns             # Para la visualización de datos basado en matplotlib\n",
        "%matplotlib inline             \n",
        "# Para generar y almacenar los gráficos dentro del cuaderno\n",
        "import yfinance as yf"
      ]
    },
    {
      "cell_type": "code",
      "execution_count": 2,
      "metadata": {
        "colab": {
          "base_uri": "https://localhost:8080/",
          "height": 713
        },
        "id": "Fj60_dEpDnCU",
        "outputId": "cc12a43b-8634-4a80-fc6a-da71eb487861"
      },
      "outputs": [
        {
          "data": {
            "text/plain": [
              "yfinance.Ticker object <SPOT>"
            ]
          },
          "execution_count": 2,
          "metadata": {},
          "output_type": "execute_result"
        }
      ],
      "source": [
        "# Para Spotify\n",
        "DataSpotify = yf.Ticker('SPOT')\n",
        "DataSpotify"
      ]
    },
    {
      "cell_type": "code",
      "execution_count": 3,
      "metadata": {
        "id": "HdZJeuVOxJmh",
        "outputId": "d1d56108-e93e-4282-ba16-62286def14e8"
      },
      "outputs": [
        {
          "ename": "ConnectionError",
          "evalue": "HTTPSConnectionPool(host='query2.finance.yahoo.com', port=443): Max retries exceeded with url: /v8/finance/chart/SPOT?period1=1546322400&period2=1662440400&interval=1d&includePrePost=False&events=div%2Csplits (Caused by NewConnectionError('<urllib3.connection.HTTPSConnection object at 0x000001390999F7C0>: Failed to establish a new connection: [Errno 11001] getaddrinfo failed'))",
          "output_type": "error",
          "traceback": [
            "\u001b[1;31m---------------------------------------------------------------------------\u001b[0m",
            "\u001b[1;31mgaierror\u001b[0m                                  Traceback (most recent call last)",
            "\u001b[1;32mc:\\Users\\johnc\\anaconda3\\envs\\IA\\lib\\site-packages\\urllib3\\connection.py\u001b[0m in \u001b[0;36m_new_conn\u001b[1;34m(self)\u001b[0m\n\u001b[0;32m    173\u001b[0m         \u001b[1;32mtry\u001b[0m\u001b[1;33m:\u001b[0m\u001b[1;33m\u001b[0m\u001b[1;33m\u001b[0m\u001b[0m\n\u001b[1;32m--> 174\u001b[1;33m             conn = connection.create_connection(\n\u001b[0m\u001b[0;32m    175\u001b[0m                 \u001b[1;33m(\u001b[0m\u001b[0mself\u001b[0m\u001b[1;33m.\u001b[0m\u001b[0m_dns_host\u001b[0m\u001b[1;33m,\u001b[0m \u001b[0mself\u001b[0m\u001b[1;33m.\u001b[0m\u001b[0mport\u001b[0m\u001b[1;33m)\u001b[0m\u001b[1;33m,\u001b[0m \u001b[0mself\u001b[0m\u001b[1;33m.\u001b[0m\u001b[0mtimeout\u001b[0m\u001b[1;33m,\u001b[0m \u001b[1;33m**\u001b[0m\u001b[0mextra_kw\u001b[0m\u001b[1;33m\u001b[0m\u001b[1;33m\u001b[0m\u001b[0m\n",
            "\u001b[1;32mc:\\Users\\johnc\\anaconda3\\envs\\IA\\lib\\site-packages\\urllib3\\util\\connection.py\u001b[0m in \u001b[0;36mcreate_connection\u001b[1;34m(address, timeout, source_address, socket_options)\u001b[0m\n\u001b[0;32m     72\u001b[0m \u001b[1;33m\u001b[0m\u001b[0m\n\u001b[1;32m---> 73\u001b[1;33m     \u001b[1;32mfor\u001b[0m \u001b[0mres\u001b[0m \u001b[1;32min\u001b[0m \u001b[0msocket\u001b[0m\u001b[1;33m.\u001b[0m\u001b[0mgetaddrinfo\u001b[0m\u001b[1;33m(\u001b[0m\u001b[0mhost\u001b[0m\u001b[1;33m,\u001b[0m \u001b[0mport\u001b[0m\u001b[1;33m,\u001b[0m \u001b[0mfamily\u001b[0m\u001b[1;33m,\u001b[0m \u001b[0msocket\u001b[0m\u001b[1;33m.\u001b[0m\u001b[0mSOCK_STREAM\u001b[0m\u001b[1;33m)\u001b[0m\u001b[1;33m:\u001b[0m\u001b[1;33m\u001b[0m\u001b[1;33m\u001b[0m\u001b[0m\n\u001b[0m\u001b[0;32m     74\u001b[0m         \u001b[0maf\u001b[0m\u001b[1;33m,\u001b[0m \u001b[0msocktype\u001b[0m\u001b[1;33m,\u001b[0m \u001b[0mproto\u001b[0m\u001b[1;33m,\u001b[0m \u001b[0mcanonname\u001b[0m\u001b[1;33m,\u001b[0m \u001b[0msa\u001b[0m \u001b[1;33m=\u001b[0m \u001b[0mres\u001b[0m\u001b[1;33m\u001b[0m\u001b[1;33m\u001b[0m\u001b[0m\n",
            "\u001b[1;32mc:\\Users\\johnc\\anaconda3\\envs\\IA\\lib\\socket.py\u001b[0m in \u001b[0;36mgetaddrinfo\u001b[1;34m(host, port, family, type, proto, flags)\u001b[0m\n\u001b[0;32m    917\u001b[0m     \u001b[0maddrlist\u001b[0m \u001b[1;33m=\u001b[0m \u001b[1;33m[\u001b[0m\u001b[1;33m]\u001b[0m\u001b[1;33m\u001b[0m\u001b[1;33m\u001b[0m\u001b[0m\n\u001b[1;32m--> 918\u001b[1;33m     \u001b[1;32mfor\u001b[0m \u001b[0mres\u001b[0m \u001b[1;32min\u001b[0m \u001b[0m_socket\u001b[0m\u001b[1;33m.\u001b[0m\u001b[0mgetaddrinfo\u001b[0m\u001b[1;33m(\u001b[0m\u001b[0mhost\u001b[0m\u001b[1;33m,\u001b[0m \u001b[0mport\u001b[0m\u001b[1;33m,\u001b[0m \u001b[0mfamily\u001b[0m\u001b[1;33m,\u001b[0m \u001b[0mtype\u001b[0m\u001b[1;33m,\u001b[0m \u001b[0mproto\u001b[0m\u001b[1;33m,\u001b[0m \u001b[0mflags\u001b[0m\u001b[1;33m)\u001b[0m\u001b[1;33m:\u001b[0m\u001b[1;33m\u001b[0m\u001b[1;33m\u001b[0m\u001b[0m\n\u001b[0m\u001b[0;32m    919\u001b[0m         \u001b[0maf\u001b[0m\u001b[1;33m,\u001b[0m \u001b[0msocktype\u001b[0m\u001b[1;33m,\u001b[0m \u001b[0mproto\u001b[0m\u001b[1;33m,\u001b[0m \u001b[0mcanonname\u001b[0m\u001b[1;33m,\u001b[0m \u001b[0msa\u001b[0m \u001b[1;33m=\u001b[0m \u001b[0mres\u001b[0m\u001b[1;33m\u001b[0m\u001b[1;33m\u001b[0m\u001b[0m\n",
            "\u001b[1;31mgaierror\u001b[0m: [Errno 11001] getaddrinfo failed",
            "\nDuring handling of the above exception, another exception occurred:\n",
            "\u001b[1;31mNewConnectionError\u001b[0m                        Traceback (most recent call last)",
            "\u001b[1;32mc:\\Users\\johnc\\anaconda3\\envs\\IA\\lib\\site-packages\\urllib3\\connectionpool.py\u001b[0m in \u001b[0;36murlopen\u001b[1;34m(self, method, url, body, headers, retries, redirect, assert_same_host, timeout, pool_timeout, release_conn, chunked, body_pos, **response_kw)\u001b[0m\n\u001b[0;32m    698\u001b[0m             \u001b[1;31m# Make the request on the httplib connection object.\u001b[0m\u001b[1;33m\u001b[0m\u001b[1;33m\u001b[0m\u001b[1;33m\u001b[0m\u001b[0m\n\u001b[1;32m--> 699\u001b[1;33m             httplib_response = self._make_request(\n\u001b[0m\u001b[0;32m    700\u001b[0m                 \u001b[0mconn\u001b[0m\u001b[1;33m,\u001b[0m\u001b[1;33m\u001b[0m\u001b[1;33m\u001b[0m\u001b[0m\n",
            "\u001b[1;32mc:\\Users\\johnc\\anaconda3\\envs\\IA\\lib\\site-packages\\urllib3\\connectionpool.py\u001b[0m in \u001b[0;36m_make_request\u001b[1;34m(self, conn, method, url, timeout, chunked, **httplib_request_kw)\u001b[0m\n\u001b[0;32m    381\u001b[0m         \u001b[1;32mtry\u001b[0m\u001b[1;33m:\u001b[0m\u001b[1;33m\u001b[0m\u001b[1;33m\u001b[0m\u001b[0m\n\u001b[1;32m--> 382\u001b[1;33m             \u001b[0mself\u001b[0m\u001b[1;33m.\u001b[0m\u001b[0m_validate_conn\u001b[0m\u001b[1;33m(\u001b[0m\u001b[0mconn\u001b[0m\u001b[1;33m)\u001b[0m\u001b[1;33m\u001b[0m\u001b[1;33m\u001b[0m\u001b[0m\n\u001b[0m\u001b[0;32m    383\u001b[0m         \u001b[1;32mexcept\u001b[0m \u001b[1;33m(\u001b[0m\u001b[0mSocketTimeout\u001b[0m\u001b[1;33m,\u001b[0m \u001b[0mBaseSSLError\u001b[0m\u001b[1;33m)\u001b[0m \u001b[1;32mas\u001b[0m \u001b[0me\u001b[0m\u001b[1;33m:\u001b[0m\u001b[1;33m\u001b[0m\u001b[1;33m\u001b[0m\u001b[0m\n",
            "\u001b[1;32mc:\\Users\\johnc\\anaconda3\\envs\\IA\\lib\\site-packages\\urllib3\\connectionpool.py\u001b[0m in \u001b[0;36m_validate_conn\u001b[1;34m(self, conn)\u001b[0m\n\u001b[0;32m   1009\u001b[0m         \u001b[1;32mif\u001b[0m \u001b[1;32mnot\u001b[0m \u001b[0mgetattr\u001b[0m\u001b[1;33m(\u001b[0m\u001b[0mconn\u001b[0m\u001b[1;33m,\u001b[0m \u001b[1;34m\"sock\"\u001b[0m\u001b[1;33m,\u001b[0m \u001b[1;32mNone\u001b[0m\u001b[1;33m)\u001b[0m\u001b[1;33m:\u001b[0m  \u001b[1;31m# AppEngine might not have  `.sock`\u001b[0m\u001b[1;33m\u001b[0m\u001b[1;33m\u001b[0m\u001b[0m\n\u001b[1;32m-> 1010\u001b[1;33m             \u001b[0mconn\u001b[0m\u001b[1;33m.\u001b[0m\u001b[0mconnect\u001b[0m\u001b[1;33m(\u001b[0m\u001b[1;33m)\u001b[0m\u001b[1;33m\u001b[0m\u001b[1;33m\u001b[0m\u001b[0m\n\u001b[0m\u001b[0;32m   1011\u001b[0m \u001b[1;33m\u001b[0m\u001b[0m\n",
            "\u001b[1;32mc:\\Users\\johnc\\anaconda3\\envs\\IA\\lib\\site-packages\\urllib3\\connection.py\u001b[0m in \u001b[0;36mconnect\u001b[1;34m(self)\u001b[0m\n\u001b[0;32m    357\u001b[0m         \u001b[1;31m# Add certificate verification\u001b[0m\u001b[1;33m\u001b[0m\u001b[1;33m\u001b[0m\u001b[1;33m\u001b[0m\u001b[0m\n\u001b[1;32m--> 358\u001b[1;33m         \u001b[0mconn\u001b[0m \u001b[1;33m=\u001b[0m \u001b[0mself\u001b[0m\u001b[1;33m.\u001b[0m\u001b[0m_new_conn\u001b[0m\u001b[1;33m(\u001b[0m\u001b[1;33m)\u001b[0m\u001b[1;33m\u001b[0m\u001b[1;33m\u001b[0m\u001b[0m\n\u001b[0m\u001b[0;32m    359\u001b[0m         \u001b[0mhostname\u001b[0m \u001b[1;33m=\u001b[0m \u001b[0mself\u001b[0m\u001b[1;33m.\u001b[0m\u001b[0mhost\u001b[0m\u001b[1;33m\u001b[0m\u001b[1;33m\u001b[0m\u001b[0m\n",
            "\u001b[1;32mc:\\Users\\johnc\\anaconda3\\envs\\IA\\lib\\site-packages\\urllib3\\connection.py\u001b[0m in \u001b[0;36m_new_conn\u001b[1;34m(self)\u001b[0m\n\u001b[0;32m    185\u001b[0m         \u001b[1;32mexcept\u001b[0m \u001b[0mSocketError\u001b[0m \u001b[1;32mas\u001b[0m \u001b[0me\u001b[0m\u001b[1;33m:\u001b[0m\u001b[1;33m\u001b[0m\u001b[1;33m\u001b[0m\u001b[0m\n\u001b[1;32m--> 186\u001b[1;33m             raise NewConnectionError(\n\u001b[0m\u001b[0;32m    187\u001b[0m                 \u001b[0mself\u001b[0m\u001b[1;33m,\u001b[0m \u001b[1;34m\"Failed to establish a new connection: %s\"\u001b[0m \u001b[1;33m%\u001b[0m \u001b[0me\u001b[0m\u001b[1;33m\u001b[0m\u001b[1;33m\u001b[0m\u001b[0m\n",
            "\u001b[1;31mNewConnectionError\u001b[0m: <urllib3.connection.HTTPSConnection object at 0x000001390999F7C0>: Failed to establish a new connection: [Errno 11001] getaddrinfo failed",
            "\nDuring handling of the above exception, another exception occurred:\n",
            "\u001b[1;31mMaxRetryError\u001b[0m                             Traceback (most recent call last)",
            "\u001b[1;32mc:\\Users\\johnc\\anaconda3\\envs\\IA\\lib\\site-packages\\requests\\adapters.py\u001b[0m in \u001b[0;36msend\u001b[1;34m(self, request, stream, timeout, verify, cert, proxies)\u001b[0m\n\u001b[0;32m    438\u001b[0m             \u001b[1;32mif\u001b[0m \u001b[1;32mnot\u001b[0m \u001b[0mchunked\u001b[0m\u001b[1;33m:\u001b[0m\u001b[1;33m\u001b[0m\u001b[1;33m\u001b[0m\u001b[0m\n\u001b[1;32m--> 439\u001b[1;33m                 resp = conn.urlopen(\n\u001b[0m\u001b[0;32m    440\u001b[0m                     \u001b[0mmethod\u001b[0m\u001b[1;33m=\u001b[0m\u001b[0mrequest\u001b[0m\u001b[1;33m.\u001b[0m\u001b[0mmethod\u001b[0m\u001b[1;33m,\u001b[0m\u001b[1;33m\u001b[0m\u001b[1;33m\u001b[0m\u001b[0m\n",
            "\u001b[1;32mc:\\Users\\johnc\\anaconda3\\envs\\IA\\lib\\site-packages\\urllib3\\connectionpool.py\u001b[0m in \u001b[0;36murlopen\u001b[1;34m(self, method, url, body, headers, retries, redirect, assert_same_host, timeout, pool_timeout, release_conn, chunked, body_pos, **response_kw)\u001b[0m\n\u001b[0;32m    754\u001b[0m \u001b[1;33m\u001b[0m\u001b[0m\n\u001b[1;32m--> 755\u001b[1;33m             retries = retries.increment(\n\u001b[0m\u001b[0;32m    756\u001b[0m                 \u001b[0mmethod\u001b[0m\u001b[1;33m,\u001b[0m \u001b[0murl\u001b[0m\u001b[1;33m,\u001b[0m \u001b[0merror\u001b[0m\u001b[1;33m=\u001b[0m\u001b[0me\u001b[0m\u001b[1;33m,\u001b[0m \u001b[0m_pool\u001b[0m\u001b[1;33m=\u001b[0m\u001b[0mself\u001b[0m\u001b[1;33m,\u001b[0m \u001b[0m_stacktrace\u001b[0m\u001b[1;33m=\u001b[0m\u001b[0msys\u001b[0m\u001b[1;33m.\u001b[0m\u001b[0mexc_info\u001b[0m\u001b[1;33m(\u001b[0m\u001b[1;33m)\u001b[0m\u001b[1;33m[\u001b[0m\u001b[1;36m2\u001b[0m\u001b[1;33m]\u001b[0m\u001b[1;33m\u001b[0m\u001b[1;33m\u001b[0m\u001b[0m\n",
            "\u001b[1;32mc:\\Users\\johnc\\anaconda3\\envs\\IA\\lib\\site-packages\\urllib3\\util\\retry.py\u001b[0m in \u001b[0;36mincrement\u001b[1;34m(self, method, url, response, error, _pool, _stacktrace)\u001b[0m\n\u001b[0;32m    573\u001b[0m         \u001b[1;32mif\u001b[0m \u001b[0mnew_retry\u001b[0m\u001b[1;33m.\u001b[0m\u001b[0mis_exhausted\u001b[0m\u001b[1;33m(\u001b[0m\u001b[1;33m)\u001b[0m\u001b[1;33m:\u001b[0m\u001b[1;33m\u001b[0m\u001b[1;33m\u001b[0m\u001b[0m\n\u001b[1;32m--> 574\u001b[1;33m             \u001b[1;32mraise\u001b[0m \u001b[0mMaxRetryError\u001b[0m\u001b[1;33m(\u001b[0m\u001b[0m_pool\u001b[0m\u001b[1;33m,\u001b[0m \u001b[0murl\u001b[0m\u001b[1;33m,\u001b[0m \u001b[0merror\u001b[0m \u001b[1;32mor\u001b[0m \u001b[0mResponseError\u001b[0m\u001b[1;33m(\u001b[0m\u001b[0mcause\u001b[0m\u001b[1;33m)\u001b[0m\u001b[1;33m)\u001b[0m\u001b[1;33m\u001b[0m\u001b[1;33m\u001b[0m\u001b[0m\n\u001b[0m\u001b[0;32m    575\u001b[0m \u001b[1;33m\u001b[0m\u001b[0m\n",
            "\u001b[1;31mMaxRetryError\u001b[0m: HTTPSConnectionPool(host='query2.finance.yahoo.com', port=443): Max retries exceeded with url: /v8/finance/chart/SPOT?period1=1546322400&period2=1662440400&interval=1d&includePrePost=False&events=div%2Csplits (Caused by NewConnectionError('<urllib3.connection.HTTPSConnection object at 0x000001390999F7C0>: Failed to establish a new connection: [Errno 11001] getaddrinfo failed'))",
            "\nDuring handling of the above exception, another exception occurred:\n",
            "\u001b[1;31mConnectionError\u001b[0m                           Traceback (most recent call last)",
            "\u001b[1;32m~\\AppData\\Local\\Temp/ipykernel_12864/1117347533.py\u001b[0m in \u001b[0;36m<module>\u001b[1;34m\u001b[0m\n\u001b[1;32m----> 1\u001b[1;33m \u001b[0mSpotifyHist\u001b[0m \u001b[1;33m=\u001b[0m \u001b[0mDataSpotify\u001b[0m\u001b[1;33m.\u001b[0m\u001b[0mhistory\u001b[0m\u001b[1;33m(\u001b[0m\u001b[0mstart\u001b[0m \u001b[1;33m=\u001b[0m \u001b[1;34m'2019-1-1'\u001b[0m\u001b[1;33m,\u001b[0m \u001b[0mend\u001b[0m \u001b[1;33m=\u001b[0m \u001b[1;34m'2022-9-6'\u001b[0m\u001b[1;33m,\u001b[0m \u001b[0minterval\u001b[0m \u001b[1;33m=\u001b[0m \u001b[1;34m'1d'\u001b[0m\u001b[1;33m)\u001b[0m\u001b[1;33m\u001b[0m\u001b[1;33m\u001b[0m\u001b[0m\n\u001b[0m\u001b[0;32m      2\u001b[0m \u001b[0mSpotifyHist\u001b[0m\u001b[1;33m\u001b[0m\u001b[1;33m\u001b[0m\u001b[0m\n",
            "\u001b[1;32mc:\\Users\\johnc\\anaconda3\\envs\\IA\\lib\\site-packages\\yfinance\\base.py\u001b[0m in \u001b[0;36mhistory\u001b[1;34m(self, period, interval, start, end, prepost, actions, auto_adjust, back_adjust, proxy, rounding, tz, timeout, **kwargs)\u001b[0m\n\u001b[0;32m    181\u001b[0m \u001b[1;33m\u001b[0m\u001b[0m\n\u001b[0;32m    182\u001b[0m         \u001b[0msession\u001b[0m \u001b[1;33m=\u001b[0m \u001b[0mself\u001b[0m\u001b[1;33m.\u001b[0m\u001b[0msession\u001b[0m \u001b[1;32mor\u001b[0m \u001b[0m_requests\u001b[0m\u001b[1;33m\u001b[0m\u001b[1;33m\u001b[0m\u001b[0m\n\u001b[1;32m--> 183\u001b[1;33m         data = session.get(\n\u001b[0m\u001b[0;32m    184\u001b[0m             \u001b[0murl\u001b[0m\u001b[1;33m=\u001b[0m\u001b[0murl\u001b[0m\u001b[1;33m,\u001b[0m\u001b[1;33m\u001b[0m\u001b[1;33m\u001b[0m\u001b[0m\n\u001b[0;32m    185\u001b[0m             \u001b[0mparams\u001b[0m\u001b[1;33m=\u001b[0m\u001b[0mparams\u001b[0m\u001b[1;33m,\u001b[0m\u001b[1;33m\u001b[0m\u001b[1;33m\u001b[0m\u001b[0m\n",
            "\u001b[1;32mc:\\Users\\johnc\\anaconda3\\envs\\IA\\lib\\site-packages\\requests\\api.py\u001b[0m in \u001b[0;36mget\u001b[1;34m(url, params, **kwargs)\u001b[0m\n\u001b[0;32m     73\u001b[0m     \"\"\"\n\u001b[0;32m     74\u001b[0m \u001b[1;33m\u001b[0m\u001b[0m\n\u001b[1;32m---> 75\u001b[1;33m     \u001b[1;32mreturn\u001b[0m \u001b[0mrequest\u001b[0m\u001b[1;33m(\u001b[0m\u001b[1;34m'get'\u001b[0m\u001b[1;33m,\u001b[0m \u001b[0murl\u001b[0m\u001b[1;33m,\u001b[0m \u001b[0mparams\u001b[0m\u001b[1;33m=\u001b[0m\u001b[0mparams\u001b[0m\u001b[1;33m,\u001b[0m \u001b[1;33m**\u001b[0m\u001b[0mkwargs\u001b[0m\u001b[1;33m)\u001b[0m\u001b[1;33m\u001b[0m\u001b[1;33m\u001b[0m\u001b[0m\n\u001b[0m\u001b[0;32m     76\u001b[0m \u001b[1;33m\u001b[0m\u001b[0m\n\u001b[0;32m     77\u001b[0m \u001b[1;33m\u001b[0m\u001b[0m\n",
            "\u001b[1;32mc:\\Users\\johnc\\anaconda3\\envs\\IA\\lib\\site-packages\\requests\\api.py\u001b[0m in \u001b[0;36mrequest\u001b[1;34m(method, url, **kwargs)\u001b[0m\n\u001b[0;32m     59\u001b[0m     \u001b[1;31m# cases, and look like a memory leak in others.\u001b[0m\u001b[1;33m\u001b[0m\u001b[1;33m\u001b[0m\u001b[1;33m\u001b[0m\u001b[0m\n\u001b[0;32m     60\u001b[0m     \u001b[1;32mwith\u001b[0m \u001b[0msessions\u001b[0m\u001b[1;33m.\u001b[0m\u001b[0mSession\u001b[0m\u001b[1;33m(\u001b[0m\u001b[1;33m)\u001b[0m \u001b[1;32mas\u001b[0m \u001b[0msession\u001b[0m\u001b[1;33m:\u001b[0m\u001b[1;33m\u001b[0m\u001b[1;33m\u001b[0m\u001b[0m\n\u001b[1;32m---> 61\u001b[1;33m         \u001b[1;32mreturn\u001b[0m \u001b[0msession\u001b[0m\u001b[1;33m.\u001b[0m\u001b[0mrequest\u001b[0m\u001b[1;33m(\u001b[0m\u001b[0mmethod\u001b[0m\u001b[1;33m=\u001b[0m\u001b[0mmethod\u001b[0m\u001b[1;33m,\u001b[0m \u001b[0murl\u001b[0m\u001b[1;33m=\u001b[0m\u001b[0murl\u001b[0m\u001b[1;33m,\u001b[0m \u001b[1;33m**\u001b[0m\u001b[0mkwargs\u001b[0m\u001b[1;33m)\u001b[0m\u001b[1;33m\u001b[0m\u001b[1;33m\u001b[0m\u001b[0m\n\u001b[0m\u001b[0;32m     62\u001b[0m \u001b[1;33m\u001b[0m\u001b[0m\n\u001b[0;32m     63\u001b[0m \u001b[1;33m\u001b[0m\u001b[0m\n",
            "\u001b[1;32mc:\\Users\\johnc\\anaconda3\\envs\\IA\\lib\\site-packages\\requests\\sessions.py\u001b[0m in \u001b[0;36mrequest\u001b[1;34m(self, method, url, params, data, headers, cookies, files, auth, timeout, allow_redirects, proxies, hooks, stream, verify, cert, json)\u001b[0m\n\u001b[0;32m    540\u001b[0m         }\n\u001b[0;32m    541\u001b[0m         \u001b[0msend_kwargs\u001b[0m\u001b[1;33m.\u001b[0m\u001b[0mupdate\u001b[0m\u001b[1;33m(\u001b[0m\u001b[0msettings\u001b[0m\u001b[1;33m)\u001b[0m\u001b[1;33m\u001b[0m\u001b[1;33m\u001b[0m\u001b[0m\n\u001b[1;32m--> 542\u001b[1;33m         \u001b[0mresp\u001b[0m \u001b[1;33m=\u001b[0m \u001b[0mself\u001b[0m\u001b[1;33m.\u001b[0m\u001b[0msend\u001b[0m\u001b[1;33m(\u001b[0m\u001b[0mprep\u001b[0m\u001b[1;33m,\u001b[0m \u001b[1;33m**\u001b[0m\u001b[0msend_kwargs\u001b[0m\u001b[1;33m)\u001b[0m\u001b[1;33m\u001b[0m\u001b[1;33m\u001b[0m\u001b[0m\n\u001b[0m\u001b[0;32m    543\u001b[0m \u001b[1;33m\u001b[0m\u001b[0m\n\u001b[0;32m    544\u001b[0m         \u001b[1;32mreturn\u001b[0m \u001b[0mresp\u001b[0m\u001b[1;33m\u001b[0m\u001b[1;33m\u001b[0m\u001b[0m\n",
            "\u001b[1;32mc:\\Users\\johnc\\anaconda3\\envs\\IA\\lib\\site-packages\\requests\\sessions.py\u001b[0m in \u001b[0;36msend\u001b[1;34m(self, request, **kwargs)\u001b[0m\n\u001b[0;32m    653\u001b[0m \u001b[1;33m\u001b[0m\u001b[0m\n\u001b[0;32m    654\u001b[0m         \u001b[1;31m# Send the request\u001b[0m\u001b[1;33m\u001b[0m\u001b[1;33m\u001b[0m\u001b[1;33m\u001b[0m\u001b[0m\n\u001b[1;32m--> 655\u001b[1;33m         \u001b[0mr\u001b[0m \u001b[1;33m=\u001b[0m \u001b[0madapter\u001b[0m\u001b[1;33m.\u001b[0m\u001b[0msend\u001b[0m\u001b[1;33m(\u001b[0m\u001b[0mrequest\u001b[0m\u001b[1;33m,\u001b[0m \u001b[1;33m**\u001b[0m\u001b[0mkwargs\u001b[0m\u001b[1;33m)\u001b[0m\u001b[1;33m\u001b[0m\u001b[1;33m\u001b[0m\u001b[0m\n\u001b[0m\u001b[0;32m    656\u001b[0m \u001b[1;33m\u001b[0m\u001b[0m\n\u001b[0;32m    657\u001b[0m         \u001b[1;31m# Total elapsed time of the request (approximately)\u001b[0m\u001b[1;33m\u001b[0m\u001b[1;33m\u001b[0m\u001b[1;33m\u001b[0m\u001b[0m\n",
            "\u001b[1;32mc:\\Users\\johnc\\anaconda3\\envs\\IA\\lib\\site-packages\\requests\\adapters.py\u001b[0m in \u001b[0;36msend\u001b[1;34m(self, request, stream, timeout, verify, cert, proxies)\u001b[0m\n\u001b[0;32m    514\u001b[0m                 \u001b[1;32mraise\u001b[0m \u001b[0mSSLError\u001b[0m\u001b[1;33m(\u001b[0m\u001b[0me\u001b[0m\u001b[1;33m,\u001b[0m \u001b[0mrequest\u001b[0m\u001b[1;33m=\u001b[0m\u001b[0mrequest\u001b[0m\u001b[1;33m)\u001b[0m\u001b[1;33m\u001b[0m\u001b[1;33m\u001b[0m\u001b[0m\n\u001b[0;32m    515\u001b[0m \u001b[1;33m\u001b[0m\u001b[0m\n\u001b[1;32m--> 516\u001b[1;33m             \u001b[1;32mraise\u001b[0m \u001b[0mConnectionError\u001b[0m\u001b[1;33m(\u001b[0m\u001b[0me\u001b[0m\u001b[1;33m,\u001b[0m \u001b[0mrequest\u001b[0m\u001b[1;33m=\u001b[0m\u001b[0mrequest\u001b[0m\u001b[1;33m)\u001b[0m\u001b[1;33m\u001b[0m\u001b[1;33m\u001b[0m\u001b[0m\n\u001b[0m\u001b[0;32m    517\u001b[0m \u001b[1;33m\u001b[0m\u001b[0m\n\u001b[0;32m    518\u001b[0m         \u001b[1;32mexcept\u001b[0m \u001b[0mClosedPoolError\u001b[0m \u001b[1;32mas\u001b[0m \u001b[0me\u001b[0m\u001b[1;33m:\u001b[0m\u001b[1;33m\u001b[0m\u001b[1;33m\u001b[0m\u001b[0m\n",
            "\u001b[1;31mConnectionError\u001b[0m: HTTPSConnectionPool(host='query2.finance.yahoo.com', port=443): Max retries exceeded with url: /v8/finance/chart/SPOT?period1=1546322400&period2=1662440400&interval=1d&includePrePost=False&events=div%2Csplits (Caused by NewConnectionError('<urllib3.connection.HTTPSConnection object at 0x000001390999F7C0>: Failed to establish a new connection: [Errno 11001] getaddrinfo failed'))"
          ]
        }
      ],
      "source": [
        "SpotifyHist = DataSpotify.history(start = '2019-1-1', end = '2022-9-6', interval = '1d')\n",
        "SpotifyHist"
      ]
    },
    {
      "cell_type": "markdown",
      "metadata": {
        "id": "qVrYEOOxFGJs"
      },
      "source": [
        "Descripción:\n",
        "\n",
        "* En el comercio de acciones, 'alto' y 'bajo' se refieren a los precios máximos y mínimos en un período determinado.\n",
        "* 'Apertura' y 'cierre' son los precios en los que una acción comenzó y terminó cotizando en el mismo período. \n",
        "* El 'volumen' es la cantidad total de la actividad comercial. \n",
        "* Los valores ajustados tienen en cuenta las acciones corporativas, como los 'dividendos', la 'división de acciones' y la emisión de nuevas acciones."
      ]
    },
    {
      "cell_type": "code",
      "execution_count": 5,
      "metadata": {
        "colab": {
          "base_uri": "https://localhost:8080/",
          "height": 653
        },
        "id": "vZohACVGEzMr",
        "outputId": "899e5045-fc7d-42dc-865d-15ebb0dd8160"
      },
      "outputs": [
        {
          "data": {
            "text/html": [
              "<div>\n",
              "<style scoped>\n",
              "    .dataframe tbody tr th:only-of-type {\n",
              "        vertical-align: middle;\n",
              "    }\n",
              "\n",
              "    .dataframe tbody tr th {\n",
              "        vertical-align: top;\n",
              "    }\n",
              "\n",
              "    .dataframe thead th {\n",
              "        text-align: right;\n",
              "    }\n",
              "</style>\n",
              "<table border=\"1\" class=\"dataframe\">\n",
              "  <thead>\n",
              "    <tr style=\"text-align: right;\">\n",
              "      <th></th>\n",
              "      <th>Open</th>\n",
              "      <th>High</th>\n",
              "      <th>Low</th>\n",
              "      <th>Close</th>\n",
              "      <th>Volume</th>\n",
              "      <th>Dividends</th>\n",
              "      <th>Stock Splits</th>\n",
              "    </tr>\n",
              "    <tr>\n",
              "      <th>Date</th>\n",
              "      <th></th>\n",
              "      <th></th>\n",
              "      <th></th>\n",
              "      <th></th>\n",
              "      <th></th>\n",
              "      <th></th>\n",
              "      <th></th>\n",
              "    </tr>\n",
              "  </thead>\n",
              "  <tbody>\n",
              "    <tr>\n",
              "      <th>2019-01-02</th>\n",
              "      <td>111.660004</td>\n",
              "      <td>115.629997</td>\n",
              "      <td>110.360001</td>\n",
              "      <td>113.739998</td>\n",
              "      <td>861100</td>\n",
              "      <td>0</td>\n",
              "      <td>0</td>\n",
              "    </tr>\n",
              "    <tr>\n",
              "      <th>2019-01-03</th>\n",
              "      <td>112.080002</td>\n",
              "      <td>113.345001</td>\n",
              "      <td>108.589996</td>\n",
              "      <td>109.019997</td>\n",
              "      <td>1082300</td>\n",
              "      <td>0</td>\n",
              "      <td>0</td>\n",
              "    </tr>\n",
              "    <tr>\n",
              "      <th>2019-01-04</th>\n",
              "      <td>112.059998</td>\n",
              "      <td>121.470001</td>\n",
              "      <td>111.500000</td>\n",
              "      <td>118.510002</td>\n",
              "      <td>2484800</td>\n",
              "      <td>0</td>\n",
              "      <td>0</td>\n",
              "    </tr>\n",
              "    <tr>\n",
              "      <th>2019-01-07</th>\n",
              "      <td>115.040001</td>\n",
              "      <td>123.865997</td>\n",
              "      <td>113.279999</td>\n",
              "      <td>119.360001</td>\n",
              "      <td>2516200</td>\n",
              "      <td>0</td>\n",
              "      <td>0</td>\n",
              "    </tr>\n",
              "    <tr>\n",
              "      <th>2019-01-08</th>\n",
              "      <td>121.440002</td>\n",
              "      <td>122.769997</td>\n",
              "      <td>114.699997</td>\n",
              "      <td>117.480003</td>\n",
              "      <td>1257100</td>\n",
              "      <td>0</td>\n",
              "      <td>0</td>\n",
              "    </tr>\n",
              "    <tr>\n",
              "      <th>2019-01-09</th>\n",
              "      <td>118.599998</td>\n",
              "      <td>124.379997</td>\n",
              "      <td>118.161003</td>\n",
              "      <td>122.690002</td>\n",
              "      <td>1276700</td>\n",
              "      <td>0</td>\n",
              "      <td>0</td>\n",
              "    </tr>\n",
              "    <tr>\n",
              "      <th>2019-01-10</th>\n",
              "      <td>122.349998</td>\n",
              "      <td>124.970001</td>\n",
              "      <td>119.589996</td>\n",
              "      <td>123.930000</td>\n",
              "      <td>1347100</td>\n",
              "      <td>0</td>\n",
              "      <td>0</td>\n",
              "    </tr>\n",
              "    <tr>\n",
              "      <th>2019-01-11</th>\n",
              "      <td>123.000000</td>\n",
              "      <td>124.360001</td>\n",
              "      <td>118.290001</td>\n",
              "      <td>120.519997</td>\n",
              "      <td>1414400</td>\n",
              "      <td>0</td>\n",
              "      <td>0</td>\n",
              "    </tr>\n",
              "    <tr>\n",
              "      <th>2019-01-14</th>\n",
              "      <td>120.199997</td>\n",
              "      <td>128.000000</td>\n",
              "      <td>118.570000</td>\n",
              "      <td>126.709999</td>\n",
              "      <td>2474200</td>\n",
              "      <td>0</td>\n",
              "      <td>0</td>\n",
              "    </tr>\n",
              "    <tr>\n",
              "      <th>2019-01-15</th>\n",
              "      <td>129.270004</td>\n",
              "      <td>132.419998</td>\n",
              "      <td>128.639999</td>\n",
              "      <td>131.250000</td>\n",
              "      <td>2979900</td>\n",
              "      <td>0</td>\n",
              "      <td>0</td>\n",
              "    </tr>\n",
              "  </tbody>\n",
              "</table>\n",
              "</div>"
            ],
            "text/plain": [
              "                  Open        High         Low       Close   Volume  \\\n",
              "Date                                                                  \n",
              "2019-01-02  111.660004  115.629997  110.360001  113.739998   861100   \n",
              "2019-01-03  112.080002  113.345001  108.589996  109.019997  1082300   \n",
              "2019-01-04  112.059998  121.470001  111.500000  118.510002  2484800   \n",
              "2019-01-07  115.040001  123.865997  113.279999  119.360001  2516200   \n",
              "2019-01-08  121.440002  122.769997  114.699997  117.480003  1257100   \n",
              "2019-01-09  118.599998  124.379997  118.161003  122.690002  1276700   \n",
              "2019-01-10  122.349998  124.970001  119.589996  123.930000  1347100   \n",
              "2019-01-11  123.000000  124.360001  118.290001  120.519997  1414400   \n",
              "2019-01-14  120.199997  128.000000  118.570000  126.709999  2474200   \n",
              "2019-01-15  129.270004  132.419998  128.639999  131.250000  2979900   \n",
              "\n",
              "            Dividends  Stock Splits  \n",
              "Date                                 \n",
              "2019-01-02          0             0  \n",
              "2019-01-03          0             0  \n",
              "2019-01-04          0             0  \n",
              "2019-01-07          0             0  \n",
              "2019-01-08          0             0  \n",
              "2019-01-09          0             0  \n",
              "2019-01-10          0             0  \n",
              "2019-01-11          0             0  \n",
              "2019-01-14          0             0  \n",
              "2019-01-15          0             0  "
            ]
          },
          "execution_count": 5,
          "metadata": {},
          "output_type": "execute_result"
        }
      ],
      "source": [
        "SpotifyHist.head(10)"
      ]
    },
    {
      "cell_type": "markdown",
      "metadata": {
        "id": "GcezVK6oH-uv"
      },
      "source": [
        "### **Paso 1: Descripción de la estructura de los datos**\n",
        "\n",
        "1) Forma (dimensiones) del DataFrame\n",
        "\n",
        "El atributo .shape de Pandas proporciona una estructura general de los datos. Devuelve la cantidad de filas y columnas que tiene el conjunto de datos."
      ]
    },
    {
      "cell_type": "code",
      "execution_count": 6,
      "metadata": {
        "colab": {
          "base_uri": "https://localhost:8080/"
        },
        "id": "PEqJIhlxIzVZ",
        "outputId": "31536880-d0c3-431d-824b-bd12f75deba0"
      },
      "outputs": [
        {
          "data": {
            "text/plain": [
              "(926, 7)"
            ]
          },
          "execution_count": 6,
          "metadata": {},
          "output_type": "execute_result"
        }
      ],
      "source": [
        "SpotifyHist.shape"
      ]
    },
    {
      "cell_type": "markdown",
      "metadata": {
        "id": "8-cnllY2JTV1"
      },
      "source": [
        "2) Tipos de datos (variables)\n",
        "\n",
        "El atributo .dtypes muestra los tipos de datos de las columnas (variables y tipos)."
      ]
    },
    {
      "cell_type": "code",
      "execution_count": 8,
      "metadata": {
        "colab": {
          "base_uri": "https://localhost:8080/"
        },
        "id": "BFYuK9rQJXn6",
        "outputId": "7b135c22-3707-4fdf-eee1-ed0c018029b0"
      },
      "outputs": [
        {
          "data": {
            "text/plain": [
              "Open            float64\n",
              "High            float64\n",
              "Low             float64\n",
              "Close           float64\n",
              "Volume            int64\n",
              "Dividends         int64\n",
              "Stock Splits      int64\n",
              "dtype: object"
            ]
          },
          "execution_count": 8,
          "metadata": {},
          "output_type": "execute_result"
        }
      ],
      "source": [
        "SpotifyHist.dtypes"
      ]
    },
    {
      "cell_type": "markdown",
      "metadata": {
        "id": "LqPT5W0xJksm"
      },
      "source": [
        "Se observa que los datos son numéricos (flotante y entero)."
      ]
    },
    {
      "cell_type": "markdown",
      "metadata": {
        "id": "fbdpOwumIrDp"
      },
      "source": [
        "### **Paso 2: Identificación de datos faltantes**\n",
        "\n",
        "Una función útil de pandas es **.isnull().sum()** que regresa la suma de todos los valores nulos en cada variable."
      ]
    },
    {
      "cell_type": "code",
      "execution_count": 9,
      "metadata": {
        "colab": {
          "base_uri": "https://localhost:8080/"
        },
        "id": "nI1d8izYJ9ni",
        "outputId": "d08c826b-5972-47d5-faa1-dd70898465da"
      },
      "outputs": [
        {
          "data": {
            "text/plain": [
              "Open            0\n",
              "High            0\n",
              "Low             0\n",
              "Close           0\n",
              "Volume          0\n",
              "Dividends       0\n",
              "Stock Splits    0\n",
              "dtype: int64"
            ]
          },
          "execution_count": 9,
          "metadata": {},
          "output_type": "execute_result"
        }
      ],
      "source": [
        "SpotifyHist.isnull().sum()"
      ]
    },
    {
      "cell_type": "markdown",
      "metadata": {
        "id": "DSeHVLdbH9BF"
      },
      "source": [
        "También se puede usar **info()** para obtener el tipo de datos y la suma de valores nulos."
      ]
    },
    {
      "cell_type": "code",
      "execution_count": 10,
      "metadata": {
        "colab": {
          "base_uri": "https://localhost:8080/"
        },
        "id": "3i0-YIF0KMzF",
        "outputId": "63459b2f-7d13-4b99-846e-309b55c65933"
      },
      "outputs": [
        {
          "name": "stdout",
          "output_type": "stream",
          "text": [
            "<class 'pandas.core.frame.DataFrame'>\n",
            "DatetimeIndex: 926 entries, 2019-01-02 to 2022-09-02\n",
            "Data columns (total 7 columns):\n",
            " #   Column        Non-Null Count  Dtype  \n",
            "---  ------        --------------  -----  \n",
            " 0   Open          926 non-null    float64\n",
            " 1   High          926 non-null    float64\n",
            " 2   Low           926 non-null    float64\n",
            " 3   Close         926 non-null    float64\n",
            " 4   Volume        926 non-null    int64  \n",
            " 5   Dividends     926 non-null    int64  \n",
            " 6   Stock Splits  926 non-null    int64  \n",
            "dtypes: float64(4), int64(3)\n",
            "memory usage: 57.9 KB\n"
          ]
        }
      ],
      "source": [
        "SpotifyHist.info()"
      ]
    },
    {
      "cell_type": "markdown",
      "metadata": {
        "id": "3UFHKSG2It_D"
      },
      "source": [
        "### **Paso 3: Detección de valores atípicos**\n",
        "\n",
        "Se pueden utilizar gráficos para tener una idea general de las distribuciones de los datos, y se sacan estadísticas para resumir los datos. Estas dos estrategias son recomendables y se complementan.\n",
        "\n",
        "La distribución se refiere a cómo se distribuyen los valores en una variable o con qué frecuencia ocurren.\n",
        "\n",
        "Para las variables numéricas, se observa cuántas veces aparecen grupos de números en una columna. Mientras que para las variables categóricas, son las clases de cada columna y su frecuencia."
      ]
    },
    {
      "cell_type": "markdown",
      "metadata": {
        "id": "XXGWHIN8hcEk"
      },
      "source": [
        "**1) Distribución de variables numéricas**\n",
        "\n",
        "* Se utilizan histogramas que agrupan los números en rangos.\n",
        "* La altura de una barra muestra cuántos números caen en ese rango. \n",
        "* Se emplea **hist()** para trazar el histograma de las variables numéricas. También se pueden usar los parámetros: **figsize** y **xrot** para aumentar el tamaño de la cuadrícula y rotar el eje x 45 grados."
      ]
    },
    {
      "cell_type": "code",
      "execution_count": 11,
      "metadata": {
        "colab": {
          "base_uri": "https://localhost:8080/",
          "height": 844
        },
        "id": "gPZ2ls_VhqXm",
        "outputId": "32b2abab-d184-4f85-80e9-d78349f66a17"
      },
      "outputs": [
        {
          "data": {
            "image/png": "[encoded data removed]",
            "text/plain": [
              "<Figure size 1008x1008 with 9 Axes>"
            ]
          },
          "metadata": {
            "needs_background": "light"
          },
          "output_type": "display_data"
        }
      ],
      "source": [
        "SpotifyHist.hist(figsize=(14,14), xrot=45)\n",
        "plt.show()"
      ]
    },
    {
      "cell_type": "markdown",
      "metadata": {
        "id": "Png--NKNigVz"
      },
      "source": [
        "**Qué buscar:**\n",
        "\n",
        "* Posibles valores atípicos, que pueden ser errores de medición.\n",
        "* Límites que no tienen sentido, como valores porcentuales > 100.\n",
        "\n",
        "En el histograma se observa que **Volume** tiene valores sesgados a la izquierda. Las variables **Dividens** y **Stock Splits** presentan valores en 'cero'."
      ]
    },
    {
      "cell_type": "markdown",
      "metadata": {
        "id": "kcoFF4zwi5Z3"
      },
      "source": [
        "**2) Resumen estadístico de variables numéricas**\n",
        "\n",
        "Se sacan estadísticas usando **describe()** que muestra un resumen estadístico de las variables numéricas."
      ]
    },
    {
      "cell_type": "code",
      "execution_count": 12,
      "metadata": {
        "colab": {
          "base_uri": "https://localhost:8080/",
          "height": 364
        },
        "id": "iMYq7Xjki6_0",
        "outputId": "98060c12-ceda-41f2-835a-ccf8becc5f8f"
      },
      "outputs": [
        {
          "data": {
            "text/html": [
              "<div>\n",
              "<style scoped>\n",
              "    .dataframe tbody tr th:only-of-type {\n",
              "        vertical-align: middle;\n",
              "    }\n",
              "\n",
              "    .dataframe tbody tr th {\n",
              "        vertical-align: top;\n",
              "    }\n",
              "\n",
              "    .dataframe thead th {\n",
              "        text-align: right;\n",
              "    }\n",
              "</style>\n",
              "<table border=\"1\" class=\"dataframe\">\n",
              "  <thead>\n",
              "    <tr style=\"text-align: right;\">\n",
              "      <th></th>\n",
              "      <th>Open</th>\n",
              "      <th>High</th>\n",
              "      <th>Low</th>\n",
              "      <th>Close</th>\n",
              "      <th>Volume</th>\n",
              "      <th>Dividends</th>\n",
              "      <th>Stock Splits</th>\n",
              "    </tr>\n",
              "  </thead>\n",
              "  <tbody>\n",
              "    <tr>\n",
              "      <th>count</th>\n",
              "      <td>926.000000</td>\n",
              "      <td>926.000000</td>\n",
              "      <td>926.000000</td>\n",
              "      <td>926.000000</td>\n",
              "      <td>9.260000e+02</td>\n",
              "      <td>926.0</td>\n",
              "      <td>926.0</td>\n",
              "    </tr>\n",
              "    <tr>\n",
              "      <th>mean</th>\n",
              "      <td>191.837408</td>\n",
              "      <td>195.800918</td>\n",
              "      <td>187.823677</td>\n",
              "      <td>191.856620</td>\n",
              "      <td>1.740220e+06</td>\n",
              "      <td>0.0</td>\n",
              "      <td>0.0</td>\n",
              "    </tr>\n",
              "    <tr>\n",
              "      <th>std</th>\n",
              "      <td>68.522499</td>\n",
              "      <td>69.960136</td>\n",
              "      <td>66.931007</td>\n",
              "      <td>68.428768</td>\n",
              "      <td>1.318591e+06</td>\n",
              "      <td>0.0</td>\n",
              "      <td>0.0</td>\n",
              "    </tr>\n",
              "    <tr>\n",
              "      <th>min</th>\n",
              "      <td>90.440002</td>\n",
              "      <td>97.070000</td>\n",
              "      <td>89.029999</td>\n",
              "      <td>91.940002</td>\n",
              "      <td>3.945000e+05</td>\n",
              "      <td>0.0</td>\n",
              "      <td>0.0</td>\n",
              "    </tr>\n",
              "    <tr>\n",
              "      <th>25%</th>\n",
              "      <td>136.582497</td>\n",
              "      <td>139.794994</td>\n",
              "      <td>134.344997</td>\n",
              "      <td>137.260006</td>\n",
              "      <td>1.051575e+06</td>\n",
              "      <td>0.0</td>\n",
              "      <td>0.0</td>\n",
              "    </tr>\n",
              "    <tr>\n",
              "      <th>50%</th>\n",
              "      <td>153.875000</td>\n",
              "      <td>156.955002</td>\n",
              "      <td>151.032501</td>\n",
              "      <td>154.459999</td>\n",
              "      <td>1.385450e+06</td>\n",
              "      <td>0.0</td>\n",
              "      <td>0.0</td>\n",
              "    </tr>\n",
              "    <tr>\n",
              "      <th>75%</th>\n",
              "      <td>249.799995</td>\n",
              "      <td>254.610001</td>\n",
              "      <td>245.392498</td>\n",
              "      <td>249.770000</td>\n",
              "      <td>1.989075e+06</td>\n",
              "      <td>0.0</td>\n",
              "      <td>0.0</td>\n",
              "    </tr>\n",
              "    <tr>\n",
              "      <th>max</th>\n",
              "      <td>360.910004</td>\n",
              "      <td>387.440002</td>\n",
              "      <td>354.178009</td>\n",
              "      <td>364.589996</td>\n",
              "      <td>1.404930e+07</td>\n",
              "      <td>0.0</td>\n",
              "      <td>0.0</td>\n",
              "    </tr>\n",
              "  </tbody>\n",
              "</table>\n",
              "</div>"
            ],
            "text/plain": [
              "             Open        High         Low       Close        Volume  \\\n",
              "count  926.000000  926.000000  926.000000  926.000000  9.260000e+02   \n",
              "mean   191.837408  195.800918  187.823677  191.856620  1.740220e+06   \n",
              "std     68.522499   69.960136   66.931007   68.428768  1.318591e+06   \n",
              "min     90.440002   97.070000   89.029999   91.940002  3.945000e+05   \n",
              "25%    136.582497  139.794994  134.344997  137.260006  1.051575e+06   \n",
              "50%    153.875000  156.955002  151.032501  154.459999  1.385450e+06   \n",
              "75%    249.799995  254.610001  245.392498  249.770000  1.989075e+06   \n",
              "max    360.910004  387.440002  354.178009  364.589996  1.404930e+07   \n",
              "\n",
              "       Dividends  Stock Splits  \n",
              "count      926.0         926.0  \n",
              "mean         0.0           0.0  \n",
              "std          0.0           0.0  \n",
              "min          0.0           0.0  \n",
              "25%          0.0           0.0  \n",
              "50%          0.0           0.0  \n",
              "75%          0.0           0.0  \n",
              "max          0.0           0.0  "
            ]
          },
          "execution_count": 12,
          "metadata": {},
          "output_type": "execute_result"
        }
      ],
      "source": [
        "SpotifyHist.describe()"
      ]
    },
    {
      "cell_type": "markdown",
      "metadata": {
        "id": "xM7pCf-VjHfX"
      },
      "source": [
        "* Se incluye un recuento, media, desviación, valor mínimo, valor máximo, percentil inferior (25%), 50% y percentil superior (75%).\n",
        "* Por defecto, el percentil 50 es lo mismo que la mediana.\n",
        "* Se observa que para cada variable, el recuento también ayuda a identificar variables con valores nulos o vacios. Estos son: **Dividends** y **Stock Splits**."
      ]
    },
    {
      "cell_type": "markdown",
      "metadata": {
        "id": "PcOVoZsvjToG"
      },
      "source": [
        "**3) Diagramas para detectar posibles valores atípicos**\n",
        "\n",
        "Para este tipo de gráficos se utiliza **Seaborn**, que permite generar diagramas de cajas para detectar valores atípicos."
      ]
    },
    {
      "cell_type": "code",
      "execution_count": 13,
      "metadata": {
        "colab": {
          "base_uri": "https://localhost:8080/",
          "height": 1000
        },
        "id": "ANZprC0sjhgu",
        "outputId": "034b1488-8f75-44fb-838b-8786a84dc350"
      },
      "outputs": [
        {
          "name": "stderr",
          "output_type": "stream",
          "text": [
            "c:\\Users\\johnc\\anaconda3\\envs\\IA\\lib\\site-packages\\seaborn\\_decorators.py:36: FutureWarning: Pass the following variable as a keyword arg: x. From version 0.12, the only valid positional argument will be `data`, and passing other arguments without an explicit keyword will result in an error or misinterpretation.\n",
            "  warnings.warn(\n"
          ]
        },
        {
          "data": {
            "image/png": "[encoded data removed]",
            "text/plain": [
              "<Figure size 432x288 with 1 Axes>"
            ]
          },
          "metadata": {
            "needs_background": "light"
          },
          "output_type": "display_data"
        },
        {
          "name": "stderr",
          "output_type": "stream",
          "text": [
            "c:\\Users\\johnc\\anaconda3\\envs\\IA\\lib\\site-packages\\seaborn\\_decorators.py:36: FutureWarning: Pass the following variable as a keyword arg: x. From version 0.12, the only valid positional argument will be `data`, and passing other arguments without an explicit keyword will result in an error or misinterpretation.\n",
            "  warnings.warn(\n"
          ]
        },
        {
          "data": {
            "image/png": "[encoded data removed]",
            "text/plain": [
              "<Figure size 432x288 with 1 Axes>"
            ]
          },
          "metadata": {
            "needs_background": "light"
          },
          "output_type": "display_data"
        },
        {
          "name": "stderr",
          "output_type": "stream",
          "text": [
            "c:\\Users\\johnc\\anaconda3\\envs\\IA\\lib\\site-packages\\seaborn\\_decorators.py:36: FutureWarning: Pass the following variable as a keyword arg: x. From version 0.12, the only valid positional argument will be `data`, and passing other arguments without an explicit keyword will result in an error or misinterpretation.\n",
            "  warnings.warn(\n"
          ]
        },
        {
          "data": {
            "image/png": "[encoded data removed]",
            "text/plain": [
              "<Figure size 432x288 with 1 Axes>"
            ]
          },
          "metadata": {
            "needs_background": "light"
          },
          "output_type": "display_data"
        },
        {
          "name": "stderr",
          "output_type": "stream",
          "text": [
            "c:\\Users\\johnc\\anaconda3\\envs\\IA\\lib\\site-packages\\seaborn\\_decorators.py:36: FutureWarning: Pass the following variable as a keyword arg: x. From version 0.12, the only valid positional argument will be `data`, and passing other arguments without an explicit keyword will result in an error or misinterpretation.\n",
            "  warnings.warn(\n"
          ]
        },
        {
          "data": {
            "image/png": "[encoded data removed]",
            "text/plain": [
              "<Figure size 432x288 with 1 Axes>"
            ]
          },
          "metadata": {
            "needs_background": "light"
          },
          "output_type": "display_data"
        },
        {
          "name": "stderr",
          "output_type": "stream",
          "text": [
            "c:\\Users\\johnc\\anaconda3\\envs\\IA\\lib\\site-packages\\seaborn\\_decorators.py:36: FutureWarning: Pass the following variable as a keyword arg: x. From version 0.12, the only valid positional argument will be `data`, and passing other arguments without an explicit keyword will result in an error or misinterpretation.\n",
            "  warnings.warn(\n"
          ]
        },
        {
          "data": {
            "image/png": "[encoded data removed]",
            "text/plain": [
              "<Figure size 432x288 with 1 Axes>"
            ]
          },
          "metadata": {
            "needs_background": "light"
          },
          "output_type": "display_data"
        }
      ],
      "source": [
        "VariablesValoresAtipicos = ['Open', 'High', 'Low', 'Close', 'Volume']\n",
        "for col in VariablesValoresAtipicos:\n",
        "  sns.boxplot(col, data=SpotifyHist)\n",
        "  plt.show()"
      ]
    },
    {
      "cell_type": "markdown",
      "metadata": {
        "id": "l8cl8XN6oq1-"
      },
      "source": [
        "Se observa que en Volume se tienen valores atípicos que están lejos de los otros valores."
      ]
    },
    {
      "cell_type": "markdown",
      "metadata": {
        "id": "44ZG1kAGmInT"
      },
      "source": [
        "**3. Plot**\n",
        "\n",
        "* Para este tipo de gráficos se utiliza Seaborn, que permite generar un histograma para variables categóricas. Cada barra en el gráfico de conteo representa una clase.\n",
        "* Se crea un bucle para el conteo y distribución de las clases. La sentencia select_dtypes(include = ’object’) selecciona las columnas categóricas con sus valores y las muestra.\n",
        "* Se incluye también If para elegir solo las tres columnas con 10 o menos clases usando series.**nunique() < 10**.\n"
      ]
    },
    {
      "cell_type": "code",
      "execution_count": 14,
      "metadata": {
        "colab": {
          "base_uri": "https://localhost:8080/",
          "height": 803
        },
        "id": "g2Yd8brJnSl1",
        "outputId": "9c450085-5f8c-46a2-8bbc-3ebe4f67de2e"
      },
      "outputs": [
        {
          "data": {
            "image/png": "[encoded data removed]",
            "text/plain": [
              "<Figure size 1440x360 with 1 Axes>"
            ]
          },
          "metadata": {
            "needs_background": "light"
          },
          "output_type": "display_data"
        }
      ],
      "source": [
        "plt.figure(figsize=(20, 5))\n",
        "plt.plot(SpotifyHist['Open'], color='red', marker='+', label='Open')\n",
        "plt.plot(SpotifyHist['Close'], color='blue', marker='+', label='Close')\n",
        "plt.xlabel('Fecha')\n",
        "plt.ylabel('Precio de las acciones')\n",
        "plt.title('Spotify')\n",
        "plt.grid(True)\n",
        "plt.legend()\n",
        "plt.show()"
      ]
    },
    {
      "cell_type": "markdown",
      "metadata": {
        "id": "koHr8LNKIwc8"
      },
      "source": [
        "### **Paso 4: Identificación de relaciones entre pares variables**\n",
        "\n",
        "Una matriz de correlaciones es útil para analizar la relación entre las variables numéricas.\n",
        "Se emplea la función corr()"
      ]
    },
    {
      "cell_type": "code",
      "execution_count": 15,
      "metadata": {
        "colab": {
          "base_uri": "https://localhost:8080/",
          "height": 501
        },
        "id": "RT2Uqg7c0K2U",
        "outputId": "d798df13-59d5-4fd9-a5c9-00dcda4e7596"
      },
      "outputs": [
        {
          "data": {
            "text/html": [
              "<div>\n",
              "<style scoped>\n",
              "    .dataframe tbody tr th:only-of-type {\n",
              "        vertical-align: middle;\n",
              "    }\n",
              "\n",
              "    .dataframe tbody tr th {\n",
              "        vertical-align: top;\n",
              "    }\n",
              "\n",
              "    .dataframe thead th {\n",
              "        text-align: right;\n",
              "    }\n",
              "</style>\n",
              "<table border=\"1\" class=\"dataframe\">\n",
              "  <thead>\n",
              "    <tr style=\"text-align: right;\">\n",
              "      <th></th>\n",
              "      <th>Open</th>\n",
              "      <th>High</th>\n",
              "      <th>Low</th>\n",
              "      <th>Close</th>\n",
              "      <th>Volume</th>\n",
              "      <th>Dividends</th>\n",
              "      <th>Stock Splits</th>\n",
              "    </tr>\n",
              "  </thead>\n",
              "  <tbody>\n",
              "    <tr>\n",
              "      <th>Open</th>\n",
              "      <td>1.000000</td>\n",
              "      <td>0.998366</td>\n",
              "      <td>0.998509</td>\n",
              "      <td>0.996610</td>\n",
              "      <td>-0.028911</td>\n",
              "      <td>NaN</td>\n",
              "      <td>NaN</td>\n",
              "    </tr>\n",
              "    <tr>\n",
              "      <th>High</th>\n",
              "      <td>0.998366</td>\n",
              "      <td>1.000000</td>\n",
              "      <td>0.998179</td>\n",
              "      <td>0.998530</td>\n",
              "      <td>-0.006329</td>\n",
              "      <td>NaN</td>\n",
              "      <td>NaN</td>\n",
              "    </tr>\n",
              "    <tr>\n",
              "      <th>Low</th>\n",
              "      <td>0.998509</td>\n",
              "      <td>0.998179</td>\n",
              "      <td>1.000000</td>\n",
              "      <td>0.998472</td>\n",
              "      <td>-0.038467</td>\n",
              "      <td>NaN</td>\n",
              "      <td>NaN</td>\n",
              "    </tr>\n",
              "    <tr>\n",
              "      <th>Close</th>\n",
              "      <td>0.996610</td>\n",
              "      <td>0.998530</td>\n",
              "      <td>0.998472</td>\n",
              "      <td>1.000000</td>\n",
              "      <td>-0.019512</td>\n",
              "      <td>NaN</td>\n",
              "      <td>NaN</td>\n",
              "    </tr>\n",
              "    <tr>\n",
              "      <th>Volume</th>\n",
              "      <td>-0.028911</td>\n",
              "      <td>-0.006329</td>\n",
              "      <td>-0.038467</td>\n",
              "      <td>-0.019512</td>\n",
              "      <td>1.000000</td>\n",
              "      <td>NaN</td>\n",
              "      <td>NaN</td>\n",
              "    </tr>\n",
              "    <tr>\n",
              "      <th>Dividends</th>\n",
              "      <td>NaN</td>\n",
              "      <td>NaN</td>\n",
              "      <td>NaN</td>\n",
              "      <td>NaN</td>\n",
              "      <td>NaN</td>\n",
              "      <td>NaN</td>\n",
              "      <td>NaN</td>\n",
              "    </tr>\n",
              "    <tr>\n",
              "      <th>Stock Splits</th>\n",
              "      <td>NaN</td>\n",
              "      <td>NaN</td>\n",
              "      <td>NaN</td>\n",
              "      <td>NaN</td>\n",
              "      <td>NaN</td>\n",
              "      <td>NaN</td>\n",
              "      <td>NaN</td>\n",
              "    </tr>\n",
              "  </tbody>\n",
              "</table>\n",
              "</div>"
            ],
            "text/plain": [
              "                  Open      High       Low     Close    Volume  Dividends  \\\n",
              "Open          1.000000  0.998366  0.998509  0.996610 -0.028911        NaN   \n",
              "High          0.998366  1.000000  0.998179  0.998530 -0.006329        NaN   \n",
              "Low           0.998509  0.998179  1.000000  0.998472 -0.038467        NaN   \n",
              "Close         0.996610  0.998530  0.998472  1.000000 -0.019512        NaN   \n",
              "Volume       -0.028911 -0.006329 -0.038467 -0.019512  1.000000        NaN   \n",
              "Dividends          NaN       NaN       NaN       NaN       NaN        NaN   \n",
              "Stock Splits       NaN       NaN       NaN       NaN       NaN        NaN   \n",
              "\n",
              "              Stock Splits  \n",
              "Open                   NaN  \n",
              "High                   NaN  \n",
              "Low                    NaN  \n",
              "Close                  NaN  \n",
              "Volume                 NaN  \n",
              "Dividends              NaN  \n",
              "Stock Splits           NaN  "
            ]
          },
          "execution_count": 15,
          "metadata": {},
          "output_type": "execute_result"
        }
      ],
      "source": [
        "SpotifyHist.corr()"
      ]
    },
    {
      "cell_type": "code",
      "execution_count": 16,
      "metadata": {
        "colab": {
          "base_uri": "https://localhost:8080/",
          "height": 493
        },
        "id": "WxRCmEDNv2va",
        "outputId": "bd8cbaf3-9bfe-49a5-b023-88eac0d15152"
      },
      "outputs": [
        {
          "data": {
            "image/png": "[encoded data removed]",
            "text/plain": [
              "<Figure size 1008x504 with 2 Axes>"
            ]
          },
          "metadata": {
            "needs_background": "light"
          },
          "output_type": "display_data"
        }
      ],
      "source": [
        "plt.figure(figsize=(14,7))\n",
        "sns.heatmap(SpotifyHist.corr(), cmap='RdBu_r', annot=True)\n",
        "plt.show()"
      ]
    },
    {
      "cell_type": "code",
      "execution_count": 17,
      "metadata": {
        "colab": {
          "base_uri": "https://localhost:8080/",
          "height": 489
        },
        "id": "ZYoVHKJENzJ4",
        "outputId": "f073f3b6-0e9f-4044-abcd-f5ddd0e86a78"
      },
      "outputs": [
        {
          "data": {
            "image/png": "[encoded data removed]",
            "text/plain": [
              "<Figure size 1008x504 with 2 Axes>"
            ]
          },
          "metadata": {
            "needs_background": "light"
          },
          "output_type": "display_data"
        }
      ],
      "source": [
        "plt.figure(figsize=(14,7))\n",
        "MatrizInf = np.triu(SpotifyHist.corr())\n",
        "sns.heatmap(SpotifyHist.corr(), cmap='RdBu_r', annot=True, mask=MatrizInf)\n",
        "plt.show()"
      ]
    },
    {
      "cell_type": "markdown",
      "metadata": {
        "id": "O3EFccfqTUz8"
      },
      "source": [
        "* Una correlación es un valor entre -1 y 1 que equivale a qué tan cerca se mueven simultáneamente los valores de dos variables. \n",
        "* Una correlación positiva significa que a medida que una característica aumenta, la otra también aumenta.\n",
        "* Una correlación negativa significa que a medida que una característica disminuye, la otra también disminuye. \n",
        "* Las correlaciones cercanas a 0 indican una relación débil, mientras que las más cercanas a -1 o 1 significan una relación fuerte.\n"
      ]
    },
    {
      "cell_type": "markdown",
      "metadata": {
        "id": "k_mmsrjsxJmo"
      },
      "source": [
        "### Se incluyen otras fuentes de datos"
      ]
    },
    {
      "cell_type": "code",
      "execution_count": 18,
      "metadata": {
        "id": "lqDUmbJsxJmo"
      },
      "outputs": [],
      "source": [
        "# Para Facebook\n",
        "DataFacebook = yf.Ticker('META')"
      ]
    },
    {
      "cell_type": "code",
      "execution_count": 19,
      "metadata": {
        "id": "x_QiotjaxJmp",
        "outputId": "04833d16-d8d3-4354-b558-9b656653d12c"
      },
      "outputs": [
        {
          "data": {
            "text/html": [
              "<div>\n",
              "<style scoped>\n",
              "    .dataframe tbody tr th:only-of-type {\n",
              "        vertical-align: middle;\n",
              "    }\n",
              "\n",
              "    .dataframe tbody tr th {\n",
              "        vertical-align: top;\n",
              "    }\n",
              "\n",
              "    .dataframe thead th {\n",
              "        text-align: right;\n",
              "    }\n",
              "</style>\n",
              "<table border=\"1\" class=\"dataframe\">\n",
              "  <thead>\n",
              "    <tr style=\"text-align: right;\">\n",
              "      <th></th>\n",
              "      <th>Open</th>\n",
              "      <th>High</th>\n",
              "      <th>Low</th>\n",
              "      <th>Close</th>\n",
              "      <th>Volume</th>\n",
              "      <th>Dividends</th>\n",
              "      <th>Stock Splits</th>\n",
              "    </tr>\n",
              "    <tr>\n",
              "      <th>Date</th>\n",
              "      <th></th>\n",
              "      <th></th>\n",
              "      <th></th>\n",
              "      <th></th>\n",
              "      <th></th>\n",
              "      <th></th>\n",
              "      <th></th>\n",
              "    </tr>\n",
              "  </thead>\n",
              "  <tbody>\n",
              "    <tr>\n",
              "      <th>2019-01-02</th>\n",
              "      <td>128.990005</td>\n",
              "      <td>137.509995</td>\n",
              "      <td>128.559998</td>\n",
              "      <td>135.679993</td>\n",
              "      <td>28146200</td>\n",
              "      <td>0</td>\n",
              "      <td>0</td>\n",
              "    </tr>\n",
              "    <tr>\n",
              "      <th>2019-01-03</th>\n",
              "      <td>134.690002</td>\n",
              "      <td>137.169998</td>\n",
              "      <td>131.119995</td>\n",
              "      <td>131.740005</td>\n",
              "      <td>22717900</td>\n",
              "      <td>0</td>\n",
              "      <td>0</td>\n",
              "    </tr>\n",
              "    <tr>\n",
              "      <th>2019-01-04</th>\n",
              "      <td>134.009995</td>\n",
              "      <td>138.000000</td>\n",
              "      <td>133.750000</td>\n",
              "      <td>137.949997</td>\n",
              "      <td>29002100</td>\n",
              "      <td>0</td>\n",
              "      <td>0</td>\n",
              "    </tr>\n",
              "    <tr>\n",
              "      <th>2019-01-07</th>\n",
              "      <td>137.559998</td>\n",
              "      <td>138.869995</td>\n",
              "      <td>135.910004</td>\n",
              "      <td>138.050003</td>\n",
              "      <td>20089300</td>\n",
              "      <td>0</td>\n",
              "      <td>0</td>\n",
              "    </tr>\n",
              "    <tr>\n",
              "      <th>2019-01-08</th>\n",
              "      <td>139.889999</td>\n",
              "      <td>143.139999</td>\n",
              "      <td>139.539993</td>\n",
              "      <td>142.529999</td>\n",
              "      <td>26263800</td>\n",
              "      <td>0</td>\n",
              "      <td>0</td>\n",
              "    </tr>\n",
              "    <tr>\n",
              "      <th>...</th>\n",
              "      <td>...</td>\n",
              "      <td>...</td>\n",
              "      <td>...</td>\n",
              "      <td>...</td>\n",
              "      <td>...</td>\n",
              "      <td>...</td>\n",
              "      <td>...</td>\n",
              "    </tr>\n",
              "    <tr>\n",
              "      <th>2022-08-29</th>\n",
              "      <td>160.660004</td>\n",
              "      <td>163.050003</td>\n",
              "      <td>159.009995</td>\n",
              "      <td>159.169998</td>\n",
              "      <td>20052700</td>\n",
              "      <td>0</td>\n",
              "      <td>0</td>\n",
              "    </tr>\n",
              "    <tr>\n",
              "      <th>2022-08-30</th>\n",
              "      <td>160.350006</td>\n",
              "      <td>161.660004</td>\n",
              "      <td>155.910004</td>\n",
              "      <td>157.160004</td>\n",
              "      <td>19567900</td>\n",
              "      <td>0</td>\n",
              "      <td>0</td>\n",
              "    </tr>\n",
              "    <tr>\n",
              "      <th>2022-08-31</th>\n",
              "      <td>167.070007</td>\n",
              "      <td>167.839996</td>\n",
              "      <td>162.139999</td>\n",
              "      <td>162.929993</td>\n",
              "      <td>40953000</td>\n",
              "      <td>0</td>\n",
              "      <td>0</td>\n",
              "    </tr>\n",
              "    <tr>\n",
              "      <th>2022-09-01</th>\n",
              "      <td>163.580002</td>\n",
              "      <td>167.360001</td>\n",
              "      <td>160.350006</td>\n",
              "      <td>165.360001</td>\n",
              "      <td>30145700</td>\n",
              "      <td>0</td>\n",
              "      <td>0</td>\n",
              "    </tr>\n",
              "    <tr>\n",
              "      <th>2022-09-02</th>\n",
              "      <td>167.449997</td>\n",
              "      <td>167.929993</td>\n",
              "      <td>159.220001</td>\n",
              "      <td>160.320007</td>\n",
              "      <td>22609100</td>\n",
              "      <td>0</td>\n",
              "      <td>0</td>\n",
              "    </tr>\n",
              "  </tbody>\n",
              "</table>\n",
              "<p>926 rows × 7 columns</p>\n",
              "</div>"
            ],
            "text/plain": [
              "                  Open        High         Low       Close    Volume  \\\n",
              "Date                                                                   \n",
              "2019-01-02  128.990005  137.509995  128.559998  135.679993  28146200   \n",
              "2019-01-03  134.690002  137.169998  131.119995  131.740005  22717900   \n",
              "2019-01-04  134.009995  138.000000  133.750000  137.949997  29002100   \n",
              "2019-01-07  137.559998  138.869995  135.910004  138.050003  20089300   \n",
              "2019-01-08  139.889999  143.139999  139.539993  142.529999  26263800   \n",
              "...                ...         ...         ...         ...       ...   \n",
              "2022-08-29  160.660004  163.050003  159.009995  159.169998  20052700   \n",
              "2022-08-30  160.350006  161.660004  155.910004  157.160004  19567900   \n",
              "2022-08-31  167.070007  167.839996  162.139999  162.929993  40953000   \n",
              "2022-09-01  163.580002  167.360001  160.350006  165.360001  30145700   \n",
              "2022-09-02  167.449997  167.929993  159.220001  160.320007  22609100   \n",
              "\n",
              "            Dividends  Stock Splits  \n",
              "Date                                 \n",
              "2019-01-02          0             0  \n",
              "2019-01-03          0             0  \n",
              "2019-01-04          0             0  \n",
              "2019-01-07          0             0  \n",
              "2019-01-08          0             0  \n",
              "...               ...           ...  \n",
              "2022-08-29          0             0  \n",
              "2022-08-30          0             0  \n",
              "2022-08-31          0             0  \n",
              "2022-09-01          0             0  \n",
              "2022-09-02          0             0  \n",
              "\n",
              "[926 rows x 7 columns]"
            ]
          },
          "execution_count": 19,
          "metadata": {},
          "output_type": "execute_result"
        }
      ],
      "source": [
        "FacebookHist = DataFacebook.history(start = '2019-1-1', end = '2022-9-6', interval='1d')\n",
        "FacebookHist"
      ]
    },
    {
      "cell_type": "code",
      "execution_count": 20,
      "metadata": {
        "id": "2S2-Hg8bxJmp",
        "outputId": "f4a17347-f799-4780-c245-983d41db552a"
      },
      "outputs": [
        {
          "data": {
            "image/png": "[encoded data removed]",
            "text/plain": [
              "<Figure size 1440x360 with 1 Axes>"
            ]
          },
          "metadata": {
            "needs_background": "light"
          },
          "output_type": "display_data"
        }
      ],
      "source": [
        "plt.figure(figsize=(20, 5))\n",
        "plt.plot(FacebookHist['Open'], color='red', marker='+', label='Open')\n",
        "plt.plot(FacebookHist['Close'], color='blue', marker='+', label='Close')\n",
        "plt.xlabel('Fecha')\n",
        "plt.ylabel('Precio de las acciones')\n",
        "plt.title('Facebook')\n",
        "plt.grid(True)\n",
        "plt.legend()\n",
        "plt.show()"
      ]
    },
    {
      "cell_type": "code",
      "execution_count": 21,
      "metadata": {
        "id": "W1tSM7WOxJmp"
      },
      "outputs": [],
      "source": [
        "# Para Amazon\n",
        "DataAmazon = yf.Ticker('AMZN')"
      ]
    },
    {
      "cell_type": "code",
      "execution_count": 22,
      "metadata": {
        "id": "7F7Tnv7sxJmp",
        "outputId": "a0ad807e-e5c6-4802-9076-589643ebdcf4"
      },
      "outputs": [
        {
          "data": {
            "text/html": [
              "<div>\n",
              "<style scoped>\n",
              "    .dataframe tbody tr th:only-of-type {\n",
              "        vertical-align: middle;\n",
              "    }\n",
              "\n",
              "    .dataframe tbody tr th {\n",
              "        vertical-align: top;\n",
              "    }\n",
              "\n",
              "    .dataframe thead th {\n",
              "        text-align: right;\n",
              "    }\n",
              "</style>\n",
              "<table border=\"1\" class=\"dataframe\">\n",
              "  <thead>\n",
              "    <tr style=\"text-align: right;\">\n",
              "      <th></th>\n",
              "      <th>Open</th>\n",
              "      <th>High</th>\n",
              "      <th>Low</th>\n",
              "      <th>Close</th>\n",
              "      <th>Volume</th>\n",
              "      <th>Dividends</th>\n",
              "      <th>Stock Splits</th>\n",
              "    </tr>\n",
              "    <tr>\n",
              "      <th>Date</th>\n",
              "      <th></th>\n",
              "      <th></th>\n",
              "      <th></th>\n",
              "      <th></th>\n",
              "      <th></th>\n",
              "      <th></th>\n",
              "      <th></th>\n",
              "    </tr>\n",
              "  </thead>\n",
              "  <tbody>\n",
              "    <tr>\n",
              "      <th>2019-01-02</th>\n",
              "      <td>73.260002</td>\n",
              "      <td>77.667999</td>\n",
              "      <td>73.046501</td>\n",
              "      <td>76.956497</td>\n",
              "      <td>159662000</td>\n",
              "      <td>0</td>\n",
              "      <td>0.0</td>\n",
              "    </tr>\n",
              "    <tr>\n",
              "      <th>2019-01-03</th>\n",
              "      <td>76.000504</td>\n",
              "      <td>76.900002</td>\n",
              "      <td>74.855499</td>\n",
              "      <td>75.014000</td>\n",
              "      <td>139512000</td>\n",
              "      <td>0</td>\n",
              "      <td>0.0</td>\n",
              "    </tr>\n",
              "    <tr>\n",
              "      <th>2019-01-04</th>\n",
              "      <td>76.500000</td>\n",
              "      <td>79.699997</td>\n",
              "      <td>75.915497</td>\n",
              "      <td>78.769501</td>\n",
              "      <td>183652000</td>\n",
              "      <td>0</td>\n",
              "      <td>0.0</td>\n",
              "    </tr>\n",
              "    <tr>\n",
              "      <th>2019-01-07</th>\n",
              "      <td>80.115501</td>\n",
              "      <td>81.727997</td>\n",
              "      <td>79.459503</td>\n",
              "      <td>81.475502</td>\n",
              "      <td>159864000</td>\n",
              "      <td>0</td>\n",
              "      <td>0.0</td>\n",
              "    </tr>\n",
              "    <tr>\n",
              "      <th>2019-01-08</th>\n",
              "      <td>83.234497</td>\n",
              "      <td>83.830498</td>\n",
              "      <td>80.830498</td>\n",
              "      <td>82.829002</td>\n",
              "      <td>177628000</td>\n",
              "      <td>0</td>\n",
              "      <td>0.0</td>\n",
              "    </tr>\n",
              "    <tr>\n",
              "      <th>...</th>\n",
              "      <td>...</td>\n",
              "      <td>...</td>\n",
              "      <td>...</td>\n",
              "      <td>...</td>\n",
              "      <td>...</td>\n",
              "      <td>...</td>\n",
              "      <td>...</td>\n",
              "    </tr>\n",
              "    <tr>\n",
              "      <th>2022-08-29</th>\n",
              "      <td>129.899994</td>\n",
              "      <td>131.949997</td>\n",
              "      <td>128.770004</td>\n",
              "      <td>129.789993</td>\n",
              "      <td>48101600</td>\n",
              "      <td>0</td>\n",
              "      <td>0.0</td>\n",
              "    </tr>\n",
              "    <tr>\n",
              "      <th>2022-08-30</th>\n",
              "      <td>131.250000</td>\n",
              "      <td>132.070007</td>\n",
              "      <td>126.849998</td>\n",
              "      <td>128.729996</td>\n",
              "      <td>49203000</td>\n",
              "      <td>0</td>\n",
              "      <td>0.0</td>\n",
              "    </tr>\n",
              "    <tr>\n",
              "      <th>2022-08-31</th>\n",
              "      <td>129.449997</td>\n",
              "      <td>130.589996</td>\n",
              "      <td>126.739998</td>\n",
              "      <td>126.769997</td>\n",
              "      <td>53648700</td>\n",
              "      <td>0</td>\n",
              "      <td>0.0</td>\n",
              "    </tr>\n",
              "    <tr>\n",
              "      <th>2022-09-01</th>\n",
              "      <td>126.000000</td>\n",
              "      <td>128.020004</td>\n",
              "      <td>123.660004</td>\n",
              "      <td>127.820000</td>\n",
              "      <td>56636100</td>\n",
              "      <td>0</td>\n",
              "      <td>0.0</td>\n",
              "    </tr>\n",
              "    <tr>\n",
              "      <th>2022-09-02</th>\n",
              "      <td>129.500000</td>\n",
              "      <td>131.380005</td>\n",
              "      <td>126.389999</td>\n",
              "      <td>127.510002</td>\n",
              "      <td>57378500</td>\n",
              "      <td>0</td>\n",
              "      <td>0.0</td>\n",
              "    </tr>\n",
              "  </tbody>\n",
              "</table>\n",
              "<p>926 rows × 7 columns</p>\n",
              "</div>"
            ],
            "text/plain": [
              "                  Open        High         Low       Close     Volume  \\\n",
              "Date                                                                    \n",
              "2019-01-02   73.260002   77.667999   73.046501   76.956497  159662000   \n",
              "2019-01-03   76.000504   76.900002   74.855499   75.014000  139512000   \n",
              "2019-01-04   76.500000   79.699997   75.915497   78.769501  183652000   \n",
              "2019-01-07   80.115501   81.727997   79.459503   81.475502  159864000   \n",
              "2019-01-08   83.234497   83.830498   80.830498   82.829002  177628000   \n",
              "...                ...         ...         ...         ...        ...   \n",
              "2022-08-29  129.899994  131.949997  128.770004  129.789993   48101600   \n",
              "2022-08-30  131.250000  132.070007  126.849998  128.729996   49203000   \n",
              "2022-08-31  129.449997  130.589996  126.739998  126.769997   53648700   \n",
              "2022-09-01  126.000000  128.020004  123.660004  127.820000   56636100   \n",
              "2022-09-02  129.500000  131.380005  126.389999  127.510002   57378500   \n",
              "\n",
              "            Dividends  Stock Splits  \n",
              "Date                                 \n",
              "2019-01-02          0           0.0  \n",
              "2019-01-03          0           0.0  \n",
              "2019-01-04          0           0.0  \n",
              "2019-01-07          0           0.0  \n",
              "2019-01-08          0           0.0  \n",
              "...               ...           ...  \n",
              "2022-08-29          0           0.0  \n",
              "2022-08-30          0           0.0  \n",
              "2022-08-31          0           0.0  \n",
              "2022-09-01          0           0.0  \n",
              "2022-09-02          0           0.0  \n",
              "\n",
              "[926 rows x 7 columns]"
            ]
          },
          "execution_count": 22,
          "metadata": {},
          "output_type": "execute_result"
        }
      ],
      "source": [
        "AmazonHist = DataAmazon.history(start = '2019-1-1', end = '2022-9-6', interval='1d')\n",
        "AmazonHist"
      ]
    },
    {
      "cell_type": "code",
      "execution_count": 23,
      "metadata": {
        "id": "0AcJlZi8xJmp",
        "outputId": "2c06adf3-f656-4e65-911a-0db1c8decc63"
      },
      "outputs": [
        {
          "data": {
            "image/png": "[encoded data removed]",
            "text/plain": [
              "<Figure size 1440x360 with 1 Axes>"
            ]
          },
          "metadata": {
            "needs_background": "light"
          },
          "output_type": "display_data"
        }
      ],
      "source": [
        "plt.figure(figsize=(20, 5))\n",
        "plt.plot(AmazonHist['Open'], color='red', marker='+', label='Open')\n",
        "plt.plot(AmazonHist['Close'], color='blue', marker='+', label='Close')\n",
        "plt.xlabel('Fecha')\n",
        "plt.ylabel('Precio de las acciones')\n",
        "plt.title('Amazon')\n",
        "plt.grid(True)\n",
        "plt.legend()\n",
        "plt.show()"
      ]
    },
    {
      "cell_type": "code",
      "execution_count": 24,
      "metadata": {
        "id": "tYkbm_upxJmq"
      },
      "outputs": [],
      "source": [
        "# Para Aeroméxico\n",
        "DataAeromex = yf.Ticker('AEROMEX.MX')"
      ]
    },
    {
      "cell_type": "code",
      "execution_count": 25,
      "metadata": {
        "id": "e6yymXcQxJmq",
        "outputId": "48be1fe7-2b6e-42bd-fe5f-75ebc1c9a9e7"
      },
      "outputs": [
        {
          "data": {
            "text/html": [
              "<div>\n",
              "<style scoped>\n",
              "    .dataframe tbody tr th:only-of-type {\n",
              "        vertical-align: middle;\n",
              "    }\n",
              "\n",
              "    .dataframe tbody tr th {\n",
              "        vertical-align: top;\n",
              "    }\n",
              "\n",
              "    .dataframe thead th {\n",
              "        text-align: right;\n",
              "    }\n",
              "</style>\n",
              "<table border=\"1\" class=\"dataframe\">\n",
              "  <thead>\n",
              "    <tr style=\"text-align: right;\">\n",
              "      <th></th>\n",
              "      <th>Open</th>\n",
              "      <th>High</th>\n",
              "      <th>Low</th>\n",
              "      <th>Close</th>\n",
              "      <th>Volume</th>\n",
              "      <th>Dividends</th>\n",
              "      <th>Stock Splits</th>\n",
              "    </tr>\n",
              "    <tr>\n",
              "      <th>Date</th>\n",
              "      <th></th>\n",
              "      <th></th>\n",
              "      <th></th>\n",
              "      <th></th>\n",
              "      <th></th>\n",
              "      <th></th>\n",
              "      <th></th>\n",
              "    </tr>\n",
              "  </thead>\n",
              "  <tbody>\n",
              "    <tr>\n",
              "      <th>2019-01-02</th>\n",
              "      <td>22.000000</td>\n",
              "      <td>23.080000</td>\n",
              "      <td>22.000000</td>\n",
              "      <td>22.530001</td>\n",
              "      <td>54890</td>\n",
              "      <td>0</td>\n",
              "      <td>0</td>\n",
              "    </tr>\n",
              "    <tr>\n",
              "      <th>2019-01-03</th>\n",
              "      <td>22.500000</td>\n",
              "      <td>23.049999</td>\n",
              "      <td>22.500000</td>\n",
              "      <td>22.770000</td>\n",
              "      <td>88098</td>\n",
              "      <td>0</td>\n",
              "      <td>0</td>\n",
              "    </tr>\n",
              "    <tr>\n",
              "      <th>2019-01-04</th>\n",
              "      <td>23.430000</td>\n",
              "      <td>23.840000</td>\n",
              "      <td>22.780001</td>\n",
              "      <td>23.160000</td>\n",
              "      <td>69569</td>\n",
              "      <td>0</td>\n",
              "      <td>0</td>\n",
              "    </tr>\n",
              "    <tr>\n",
              "      <th>2019-01-07</th>\n",
              "      <td>23.180000</td>\n",
              "      <td>24.500000</td>\n",
              "      <td>23.100000</td>\n",
              "      <td>23.270000</td>\n",
              "      <td>160120</td>\n",
              "      <td>0</td>\n",
              "      <td>0</td>\n",
              "    </tr>\n",
              "    <tr>\n",
              "      <th>2019-01-08</th>\n",
              "      <td>23.219999</td>\n",
              "      <td>23.870001</td>\n",
              "      <td>22.820000</td>\n",
              "      <td>23.230000</td>\n",
              "      <td>190421</td>\n",
              "      <td>0</td>\n",
              "      <td>0</td>\n",
              "    </tr>\n",
              "    <tr>\n",
              "      <th>...</th>\n",
              "      <td>...</td>\n",
              "      <td>...</td>\n",
              "      <td>...</td>\n",
              "      <td>...</td>\n",
              "      <td>...</td>\n",
              "      <td>...</td>\n",
              "      <td>...</td>\n",
              "    </tr>\n",
              "    <tr>\n",
              "      <th>2022-08-30</th>\n",
              "      <td>194.809998</td>\n",
              "      <td>194.809998</td>\n",
              "      <td>194.809998</td>\n",
              "      <td>194.809998</td>\n",
              "      <td>0</td>\n",
              "      <td>0</td>\n",
              "      <td>0</td>\n",
              "    </tr>\n",
              "    <tr>\n",
              "      <th>2022-08-31</th>\n",
              "      <td>195.509995</td>\n",
              "      <td>199.990005</td>\n",
              "      <td>195.000000</td>\n",
              "      <td>198.979996</td>\n",
              "      <td>789</td>\n",
              "      <td>0</td>\n",
              "      <td>0</td>\n",
              "    </tr>\n",
              "    <tr>\n",
              "      <th>2022-09-01</th>\n",
              "      <td>198.979996</td>\n",
              "      <td>198.979996</td>\n",
              "      <td>198.979996</td>\n",
              "      <td>198.979996</td>\n",
              "      <td>0</td>\n",
              "      <td>0</td>\n",
              "      <td>0</td>\n",
              "    </tr>\n",
              "    <tr>\n",
              "      <th>2022-09-02</th>\n",
              "      <td>198.979996</td>\n",
              "      <td>198.979996</td>\n",
              "      <td>198.979996</td>\n",
              "      <td>198.979996</td>\n",
              "      <td>0</td>\n",
              "      <td>0</td>\n",
              "      <td>0</td>\n",
              "    </tr>\n",
              "    <tr>\n",
              "      <th>2022-09-05</th>\n",
              "      <td>198.979996</td>\n",
              "      <td>198.979996</td>\n",
              "      <td>198.979996</td>\n",
              "      <td>198.979996</td>\n",
              "      <td>0</td>\n",
              "      <td>0</td>\n",
              "      <td>0</td>\n",
              "    </tr>\n",
              "  </tbody>\n",
              "</table>\n",
              "<p>928 rows × 7 columns</p>\n",
              "</div>"
            ],
            "text/plain": [
              "                  Open        High         Low       Close  Volume  Dividends  \\\n",
              "Date                                                                            \n",
              "2019-01-02   22.000000   23.080000   22.000000   22.530001   54890          0   \n",
              "2019-01-03   22.500000   23.049999   22.500000   22.770000   88098          0   \n",
              "2019-01-04   23.430000   23.840000   22.780001   23.160000   69569          0   \n",
              "2019-01-07   23.180000   24.500000   23.100000   23.270000  160120          0   \n",
              "2019-01-08   23.219999   23.870001   22.820000   23.230000  190421          0   \n",
              "...                ...         ...         ...         ...     ...        ...   \n",
              "2022-08-30  194.809998  194.809998  194.809998  194.809998       0          0   \n",
              "2022-08-31  195.509995  199.990005  195.000000  198.979996     789          0   \n",
              "2022-09-01  198.979996  198.979996  198.979996  198.979996       0          0   \n",
              "2022-09-02  198.979996  198.979996  198.979996  198.979996       0          0   \n",
              "2022-09-05  198.979996  198.979996  198.979996  198.979996       0          0   \n",
              "\n",
              "            Stock Splits  \n",
              "Date                      \n",
              "2019-01-02             0  \n",
              "2019-01-03             0  \n",
              "2019-01-04             0  \n",
              "2019-01-07             0  \n",
              "2019-01-08             0  \n",
              "...                  ...  \n",
              "2022-08-30             0  \n",
              "2022-08-31             0  \n",
              "2022-09-01             0  \n",
              "2022-09-02             0  \n",
              "2022-09-05             0  \n",
              "\n",
              "[928 rows x 7 columns]"
            ]
          },
          "execution_count": 25,
          "metadata": {},
          "output_type": "execute_result"
        }
      ],
      "source": [
        "AeromexHist = DataAeromex.history(start = '2019-1-1', end = '2022-9-6', interval='1d')\n",
        "AeromexHist"
      ]
    },
    {
      "cell_type": "code",
      "execution_count": 26,
      "metadata": {
        "id": "HZwxKbayxJmq",
        "outputId": "655403d8-fafd-4345-9910-9b3612d0c7a1"
      },
      "outputs": [
        {
          "data": {
            "image/png": "[encoded data removed]",
            "text/plain": [
              "<Figure size 1440x360 with 1 Axes>"
            ]
          },
          "metadata": {
            "needs_background": "light"
          },
          "output_type": "display_data"
        }
      ],
      "source": [
        "plt.figure(figsize=(20, 5))\n",
        "plt.plot(AeromexHist['Open'], color='red', marker='+', label='Open')\n",
        "plt.plot(AeromexHist['Close'], color='blue', marker='+', label='Close')\n",
        "plt.xlabel('Fecha')\n",
        "plt.ylabel('Precio de las acciones')\n",
        "plt.title('Aeroméxico')\n",
        "plt.grid(True)\n",
        "plt.legend()\n",
        "plt.show()"
      ]
    },
    {
      "cell_type": "markdown",
      "metadata": {
        "id": "b6aNUUSGxJmq"
      },
      "source": [
        "### Integración"
      ]
    },
    {
      "cell_type": "code",
      "execution_count": 27,
      "metadata": {
        "id": "JFDLNW2PxJmq",
        "outputId": "3a646169-122b-47a4-adf5-568bb171465e"
      },
      "outputs": [
        {
          "data": {
            "text/html": [
              "<div>\n",
              "<style scoped>\n",
              "    .dataframe tbody tr th:only-of-type {\n",
              "        vertical-align: middle;\n",
              "    }\n",
              "\n",
              "    .dataframe tbody tr th {\n",
              "        vertical-align: top;\n",
              "    }\n",
              "\n",
              "    .dataframe thead th {\n",
              "        text-align: right;\n",
              "    }\n",
              "</style>\n",
              "<table border=\"1\" class=\"dataframe\">\n",
              "  <thead>\n",
              "    <tr style=\"text-align: right;\">\n",
              "      <th></th>\n",
              "      <th>Spotify</th>\n",
              "    </tr>\n",
              "    <tr>\n",
              "      <th>Date</th>\n",
              "      <th></th>\n",
              "    </tr>\n",
              "  </thead>\n",
              "  <tbody>\n",
              "    <tr>\n",
              "      <th>2019-01-02</th>\n",
              "      <td>113.739998</td>\n",
              "    </tr>\n",
              "    <tr>\n",
              "      <th>2019-01-03</th>\n",
              "      <td>109.019997</td>\n",
              "    </tr>\n",
              "    <tr>\n",
              "      <th>2019-01-04</th>\n",
              "      <td>118.510002</td>\n",
              "    </tr>\n",
              "    <tr>\n",
              "      <th>2019-01-07</th>\n",
              "      <td>119.360001</td>\n",
              "    </tr>\n",
              "    <tr>\n",
              "      <th>2019-01-08</th>\n",
              "      <td>117.480003</td>\n",
              "    </tr>\n",
              "    <tr>\n",
              "      <th>...</th>\n",
              "      <td>...</td>\n",
              "    </tr>\n",
              "    <tr>\n",
              "      <th>2022-08-29</th>\n",
              "      <td>108.559998</td>\n",
              "    </tr>\n",
              "    <tr>\n",
              "      <th>2022-08-30</th>\n",
              "      <td>107.230003</td>\n",
              "    </tr>\n",
              "    <tr>\n",
              "      <th>2022-08-31</th>\n",
              "      <td>108.150002</td>\n",
              "    </tr>\n",
              "    <tr>\n",
              "      <th>2022-09-01</th>\n",
              "      <td>106.519997</td>\n",
              "    </tr>\n",
              "    <tr>\n",
              "      <th>2022-09-02</th>\n",
              "      <td>104.419998</td>\n",
              "    </tr>\n",
              "  </tbody>\n",
              "</table>\n",
              "<p>926 rows × 1 columns</p>\n",
              "</div>"
            ],
            "text/plain": [
              "               Spotify\n",
              "Date                  \n",
              "2019-01-02  113.739998\n",
              "2019-01-03  109.019997\n",
              "2019-01-04  118.510002\n",
              "2019-01-07  119.360001\n",
              "2019-01-08  117.480003\n",
              "...                ...\n",
              "2022-08-29  108.559998\n",
              "2022-08-30  107.230003\n",
              "2022-08-31  108.150002\n",
              "2022-09-01  106.519997\n",
              "2022-09-02  104.419998\n",
              "\n",
              "[926 rows x 1 columns]"
            ]
          },
          "execution_count": 27,
          "metadata": {},
          "output_type": "execute_result"
        }
      ],
      "source": [
        "SpotifyClose = SpotifyHist.drop(columns = ['Open', 'High', 'Low', 'Volume', \n",
        "                                        'Dividends', 'Stock Splits'])\n",
        "SpotifyClose.rename(columns = {'Close': 'Spotify'}, inplace = True)\n",
        "SpotifyClose"
      ]
    },
    {
      "cell_type": "code",
      "execution_count": 28,
      "metadata": {
        "id": "WF0bYucjxJmr",
        "outputId": "ebcbec7c-b884-48a1-ac27-c5052e3de5ce"
      },
      "outputs": [
        {
          "data": {
            "text/html": [
              "<div>\n",
              "<style scoped>\n",
              "    .dataframe tbody tr th:only-of-type {\n",
              "        vertical-align: middle;\n",
              "    }\n",
              "\n",
              "    .dataframe tbody tr th {\n",
              "        vertical-align: top;\n",
              "    }\n",
              "\n",
              "    .dataframe thead th {\n",
              "        text-align: right;\n",
              "    }\n",
              "</style>\n",
              "<table border=\"1\" class=\"dataframe\">\n",
              "  <thead>\n",
              "    <tr style=\"text-align: right;\">\n",
              "      <th></th>\n",
              "      <th>Facebook</th>\n",
              "    </tr>\n",
              "    <tr>\n",
              "      <th>Date</th>\n",
              "      <th></th>\n",
              "    </tr>\n",
              "  </thead>\n",
              "  <tbody>\n",
              "    <tr>\n",
              "      <th>2019-01-02</th>\n",
              "      <td>135.679993</td>\n",
              "    </tr>\n",
              "    <tr>\n",
              "      <th>2019-01-03</th>\n",
              "      <td>131.740005</td>\n",
              "    </tr>\n",
              "    <tr>\n",
              "      <th>2019-01-04</th>\n",
              "      <td>137.949997</td>\n",
              "    </tr>\n",
              "    <tr>\n",
              "      <th>2019-01-07</th>\n",
              "      <td>138.050003</td>\n",
              "    </tr>\n",
              "    <tr>\n",
              "      <th>2019-01-08</th>\n",
              "      <td>142.529999</td>\n",
              "    </tr>\n",
              "    <tr>\n",
              "      <th>...</th>\n",
              "      <td>...</td>\n",
              "    </tr>\n",
              "    <tr>\n",
              "      <th>2022-08-29</th>\n",
              "      <td>159.169998</td>\n",
              "    </tr>\n",
              "    <tr>\n",
              "      <th>2022-08-30</th>\n",
              "      <td>157.160004</td>\n",
              "    </tr>\n",
              "    <tr>\n",
              "      <th>2022-08-31</th>\n",
              "      <td>162.929993</td>\n",
              "    </tr>\n",
              "    <tr>\n",
              "      <th>2022-09-01</th>\n",
              "      <td>165.360001</td>\n",
              "    </tr>\n",
              "    <tr>\n",
              "      <th>2022-09-02</th>\n",
              "      <td>160.320007</td>\n",
              "    </tr>\n",
              "  </tbody>\n",
              "</table>\n",
              "<p>926 rows × 1 columns</p>\n",
              "</div>"
            ],
            "text/plain": [
              "              Facebook\n",
              "Date                  \n",
              "2019-01-02  135.679993\n",
              "2019-01-03  131.740005\n",
              "2019-01-04  137.949997\n",
              "2019-01-07  138.050003\n",
              "2019-01-08  142.529999\n",
              "...                ...\n",
              "2022-08-29  159.169998\n",
              "2022-08-30  157.160004\n",
              "2022-08-31  162.929993\n",
              "2022-09-01  165.360001\n",
              "2022-09-02  160.320007\n",
              "\n",
              "[926 rows x 1 columns]"
            ]
          },
          "execution_count": 28,
          "metadata": {},
          "output_type": "execute_result"
        }
      ],
      "source": [
        "FacebookClose = FacebookHist.drop(columns = ['Open', 'High', 'Low', 'Volume', \n",
        "                                        'Dividends', 'Stock Splits'])\n",
        "FacebookClose.rename(columns = {'Close': 'Facebook'}, inplace = True)\n",
        "FacebookClose"
      ]
    },
    {
      "cell_type": "code",
      "execution_count": 29,
      "metadata": {
        "id": "EjUF3ItjxJmr",
        "outputId": "853e769a-4441-4b75-eefc-d485ab75637a"
      },
      "outputs": [
        {
          "data": {
            "text/html": [
              "<div>\n",
              "<style scoped>\n",
              "    .dataframe tbody tr th:only-of-type {\n",
              "        vertical-align: middle;\n",
              "    }\n",
              "\n",
              "    .dataframe tbody tr th {\n",
              "        vertical-align: top;\n",
              "    }\n",
              "\n",
              "    .dataframe thead th {\n",
              "        text-align: right;\n",
              "    }\n",
              "</style>\n",
              "<table border=\"1\" class=\"dataframe\">\n",
              "  <thead>\n",
              "    <tr style=\"text-align: right;\">\n",
              "      <th></th>\n",
              "      <th>Amazon</th>\n",
              "    </tr>\n",
              "    <tr>\n",
              "      <th>Date</th>\n",
              "      <th></th>\n",
              "    </tr>\n",
              "  </thead>\n",
              "  <tbody>\n",
              "    <tr>\n",
              "      <th>2019-01-02</th>\n",
              "      <td>76.956497</td>\n",
              "    </tr>\n",
              "    <tr>\n",
              "      <th>2019-01-03</th>\n",
              "      <td>75.014000</td>\n",
              "    </tr>\n",
              "    <tr>\n",
              "      <th>2019-01-04</th>\n",
              "      <td>78.769501</td>\n",
              "    </tr>\n",
              "    <tr>\n",
              "      <th>2019-01-07</th>\n",
              "      <td>81.475502</td>\n",
              "    </tr>\n",
              "    <tr>\n",
              "      <th>2019-01-08</th>\n",
              "      <td>82.829002</td>\n",
              "    </tr>\n",
              "    <tr>\n",
              "      <th>...</th>\n",
              "      <td>...</td>\n",
              "    </tr>\n",
              "    <tr>\n",
              "      <th>2022-08-29</th>\n",
              "      <td>129.789993</td>\n",
              "    </tr>\n",
              "    <tr>\n",
              "      <th>2022-08-30</th>\n",
              "      <td>128.729996</td>\n",
              "    </tr>\n",
              "    <tr>\n",
              "      <th>2022-08-31</th>\n",
              "      <td>126.769997</td>\n",
              "    </tr>\n",
              "    <tr>\n",
              "      <th>2022-09-01</th>\n",
              "      <td>127.820000</td>\n",
              "    </tr>\n",
              "    <tr>\n",
              "      <th>2022-09-02</th>\n",
              "      <td>127.510002</td>\n",
              "    </tr>\n",
              "  </tbody>\n",
              "</table>\n",
              "<p>926 rows × 1 columns</p>\n",
              "</div>"
            ],
            "text/plain": [
              "                Amazon\n",
              "Date                  \n",
              "2019-01-02   76.956497\n",
              "2019-01-03   75.014000\n",
              "2019-01-04   78.769501\n",
              "2019-01-07   81.475502\n",
              "2019-01-08   82.829002\n",
              "...                ...\n",
              "2022-08-29  129.789993\n",
              "2022-08-30  128.729996\n",
              "2022-08-31  126.769997\n",
              "2022-09-01  127.820000\n",
              "2022-09-02  127.510002\n",
              "\n",
              "[926 rows x 1 columns]"
            ]
          },
          "execution_count": 29,
          "metadata": {},
          "output_type": "execute_result"
        }
      ],
      "source": [
        "AmazonClose = AmazonHist.drop(columns = ['Open', 'High', 'Low', 'Volume', \n",
        "                                        'Dividends', 'Stock Splits'])\n",
        "AmazonClose.rename(columns = {'Close': 'Amazon'}, inplace = True)\n",
        "AmazonClose"
      ]
    },
    {
      "cell_type": "code",
      "execution_count": 30,
      "metadata": {
        "id": "jafY23EyxJmr",
        "outputId": "4af9096f-21cc-42e9-ec0d-3cf201f267b6"
      },
      "outputs": [
        {
          "data": {
            "text/html": [
              "<div>\n",
              "<style scoped>\n",
              "    .dataframe tbody tr th:only-of-type {\n",
              "        vertical-align: middle;\n",
              "    }\n",
              "\n",
              "    .dataframe tbody tr th {\n",
              "        vertical-align: top;\n",
              "    }\n",
              "\n",
              "    .dataframe thead th {\n",
              "        text-align: right;\n",
              "    }\n",
              "</style>\n",
              "<table border=\"1\" class=\"dataframe\">\n",
              "  <thead>\n",
              "    <tr style=\"text-align: right;\">\n",
              "      <th></th>\n",
              "      <th>Aeromexico</th>\n",
              "    </tr>\n",
              "    <tr>\n",
              "      <th>Date</th>\n",
              "      <th></th>\n",
              "    </tr>\n",
              "  </thead>\n",
              "  <tbody>\n",
              "    <tr>\n",
              "      <th>2019-01-02</th>\n",
              "      <td>22.530001</td>\n",
              "    </tr>\n",
              "    <tr>\n",
              "      <th>2019-01-03</th>\n",
              "      <td>22.770000</td>\n",
              "    </tr>\n",
              "    <tr>\n",
              "      <th>2019-01-04</th>\n",
              "      <td>23.160000</td>\n",
              "    </tr>\n",
              "    <tr>\n",
              "      <th>2019-01-07</th>\n",
              "      <td>23.270000</td>\n",
              "    </tr>\n",
              "    <tr>\n",
              "      <th>2019-01-08</th>\n",
              "      <td>23.230000</td>\n",
              "    </tr>\n",
              "    <tr>\n",
              "      <th>...</th>\n",
              "      <td>...</td>\n",
              "    </tr>\n",
              "    <tr>\n",
              "      <th>2022-08-30</th>\n",
              "      <td>194.809998</td>\n",
              "    </tr>\n",
              "    <tr>\n",
              "      <th>2022-08-31</th>\n",
              "      <td>198.979996</td>\n",
              "    </tr>\n",
              "    <tr>\n",
              "      <th>2022-09-01</th>\n",
              "      <td>198.979996</td>\n",
              "    </tr>\n",
              "    <tr>\n",
              "      <th>2022-09-02</th>\n",
              "      <td>198.979996</td>\n",
              "    </tr>\n",
              "    <tr>\n",
              "      <th>2022-09-05</th>\n",
              "      <td>198.979996</td>\n",
              "    </tr>\n",
              "  </tbody>\n",
              "</table>\n",
              "<p>928 rows × 1 columns</p>\n",
              "</div>"
            ],
            "text/plain": [
              "            Aeromexico\n",
              "Date                  \n",
              "2019-01-02   22.530001\n",
              "2019-01-03   22.770000\n",
              "2019-01-04   23.160000\n",
              "2019-01-07   23.270000\n",
              "2019-01-08   23.230000\n",
              "...                ...\n",
              "2022-08-30  194.809998\n",
              "2022-08-31  198.979996\n",
              "2022-09-01  198.979996\n",
              "2022-09-02  198.979996\n",
              "2022-09-05  198.979996\n",
              "\n",
              "[928 rows x 1 columns]"
            ]
          },
          "execution_count": 30,
          "metadata": {},
          "output_type": "execute_result"
        }
      ],
      "source": [
        "AeromexClose = AeromexHist.drop(columns = ['Open', 'High', 'Low', 'Volume', \n",
        "                                        'Dividends', 'Stock Splits'])\n",
        "AeromexClose.rename(columns = {'Close': 'Aeromexico'}, inplace = True)\n",
        "AeromexClose"
      ]
    },
    {
      "cell_type": "code",
      "execution_count": 31,
      "metadata": {
        "id": "_S4Ulj3MxJmr",
        "outputId": "341170ce-657a-46ec-a6f1-1187734704be"
      },
      "outputs": [
        {
          "data": {
            "text/html": [
              "<div>\n",
              "<style scoped>\n",
              "    .dataframe tbody tr th:only-of-type {\n",
              "        vertical-align: middle;\n",
              "    }\n",
              "\n",
              "    .dataframe tbody tr th {\n",
              "        vertical-align: top;\n",
              "    }\n",
              "\n",
              "    .dataframe thead th {\n",
              "        text-align: right;\n",
              "    }\n",
              "</style>\n",
              "<table border=\"1\" class=\"dataframe\">\n",
              "  <thead>\n",
              "    <tr style=\"text-align: right;\">\n",
              "      <th></th>\n",
              "      <th>Spotify</th>\n",
              "      <th>Facebook</th>\n",
              "      <th>Amazon</th>\n",
              "      <th>Aeromexico</th>\n",
              "    </tr>\n",
              "    <tr>\n",
              "      <th>Date</th>\n",
              "      <th></th>\n",
              "      <th></th>\n",
              "      <th></th>\n",
              "      <th></th>\n",
              "    </tr>\n",
              "  </thead>\n",
              "  <tbody>\n",
              "    <tr>\n",
              "      <th>2019-01-02</th>\n",
              "      <td>113.739998</td>\n",
              "      <td>135.679993</td>\n",
              "      <td>76.956497</td>\n",
              "      <td>22.530001</td>\n",
              "    </tr>\n",
              "    <tr>\n",
              "      <th>2019-01-03</th>\n",
              "      <td>109.019997</td>\n",
              "      <td>131.740005</td>\n",
              "      <td>75.014000</td>\n",
              "      <td>22.770000</td>\n",
              "    </tr>\n",
              "    <tr>\n",
              "      <th>2019-01-04</th>\n",
              "      <td>118.510002</td>\n",
              "      <td>137.949997</td>\n",
              "      <td>78.769501</td>\n",
              "      <td>23.160000</td>\n",
              "    </tr>\n",
              "    <tr>\n",
              "      <th>2019-01-07</th>\n",
              "      <td>119.360001</td>\n",
              "      <td>138.050003</td>\n",
              "      <td>81.475502</td>\n",
              "      <td>23.270000</td>\n",
              "    </tr>\n",
              "    <tr>\n",
              "      <th>2019-01-08</th>\n",
              "      <td>117.480003</td>\n",
              "      <td>142.529999</td>\n",
              "      <td>82.829002</td>\n",
              "      <td>23.230000</td>\n",
              "    </tr>\n",
              "    <tr>\n",
              "      <th>...</th>\n",
              "      <td>...</td>\n",
              "      <td>...</td>\n",
              "      <td>...</td>\n",
              "      <td>...</td>\n",
              "    </tr>\n",
              "    <tr>\n",
              "      <th>2022-08-29</th>\n",
              "      <td>108.559998</td>\n",
              "      <td>159.169998</td>\n",
              "      <td>129.789993</td>\n",
              "      <td>194.809998</td>\n",
              "    </tr>\n",
              "    <tr>\n",
              "      <th>2022-08-30</th>\n",
              "      <td>107.230003</td>\n",
              "      <td>157.160004</td>\n",
              "      <td>128.729996</td>\n",
              "      <td>194.809998</td>\n",
              "    </tr>\n",
              "    <tr>\n",
              "      <th>2022-08-31</th>\n",
              "      <td>108.150002</td>\n",
              "      <td>162.929993</td>\n",
              "      <td>126.769997</td>\n",
              "      <td>198.979996</td>\n",
              "    </tr>\n",
              "    <tr>\n",
              "      <th>2022-09-01</th>\n",
              "      <td>106.519997</td>\n",
              "      <td>165.360001</td>\n",
              "      <td>127.820000</td>\n",
              "      <td>198.979996</td>\n",
              "    </tr>\n",
              "    <tr>\n",
              "      <th>2022-09-02</th>\n",
              "      <td>104.419998</td>\n",
              "      <td>160.320007</td>\n",
              "      <td>127.510002</td>\n",
              "      <td>198.979996</td>\n",
              "    </tr>\n",
              "  </tbody>\n",
              "</table>\n",
              "<p>903 rows × 4 columns</p>\n",
              "</div>"
            ],
            "text/plain": [
              "               Spotify    Facebook      Amazon  Aeromexico\n",
              "Date                                                      \n",
              "2019-01-02  113.739998  135.679993   76.956497   22.530001\n",
              "2019-01-03  109.019997  131.740005   75.014000   22.770000\n",
              "2019-01-04  118.510002  137.949997   78.769501   23.160000\n",
              "2019-01-07  119.360001  138.050003   81.475502   23.270000\n",
              "2019-01-08  117.480003  142.529999   82.829002   23.230000\n",
              "...                ...         ...         ...         ...\n",
              "2022-08-29  108.559998  159.169998  129.789993  194.809998\n",
              "2022-08-30  107.230003  157.160004  128.729996  194.809998\n",
              "2022-08-31  108.150002  162.929993  126.769997  198.979996\n",
              "2022-09-01  106.519997  165.360001  127.820000  198.979996\n",
              "2022-09-02  104.419998  160.320007  127.510002  198.979996\n",
              "\n",
              "[903 rows x 4 columns]"
            ]
          },
          "execution_count": 31,
          "metadata": {},
          "output_type": "execute_result"
        }
      ],
      "source": [
        "# Se integran los cierres del precio de las acciones\n",
        "Acciones = pd.concat([SpotifyClose, FacebookClose, AmazonClose, AeromexClose], \n",
        "                      axis = 'columns', join = 'inner')\n",
        "Acciones"
      ]
    },
    {
      "cell_type": "code",
      "execution_count": 32,
      "metadata": {
        "id": "uP61mlOAxJmr",
        "outputId": "b71962f6-30bb-422c-bc06-d4957179f66c"
      },
      "outputs": [
        {
          "data": {
            "text/html": [
              "<div>\n",
              "<style scoped>\n",
              "    .dataframe tbody tr th:only-of-type {\n",
              "        vertical-align: middle;\n",
              "    }\n",
              "\n",
              "    .dataframe tbody tr th {\n",
              "        vertical-align: top;\n",
              "    }\n",
              "\n",
              "    .dataframe thead th {\n",
              "        text-align: right;\n",
              "    }\n",
              "</style>\n",
              "<table border=\"1\" class=\"dataframe\">\n",
              "  <thead>\n",
              "    <tr style=\"text-align: right;\">\n",
              "      <th></th>\n",
              "      <th>Spotify</th>\n",
              "      <th>Facebook</th>\n",
              "      <th>Amazon</th>\n",
              "      <th>Aeromexico</th>\n",
              "    </tr>\n",
              "    <tr>\n",
              "      <th>Date</th>\n",
              "      <th></th>\n",
              "      <th></th>\n",
              "      <th></th>\n",
              "      <th></th>\n",
              "    </tr>\n",
              "  </thead>\n",
              "  <tbody>\n",
              "    <tr>\n",
              "      <th>2019-01-02</th>\n",
              "      <td>113.739998</td>\n",
              "      <td>135.679993</td>\n",
              "      <td>76.956497</td>\n",
              "      <td>22.530001</td>\n",
              "    </tr>\n",
              "    <tr>\n",
              "      <th>2019-01-03</th>\n",
              "      <td>109.019997</td>\n",
              "      <td>131.740005</td>\n",
              "      <td>75.014000</td>\n",
              "      <td>22.770000</td>\n",
              "    </tr>\n",
              "    <tr>\n",
              "      <th>2019-01-04</th>\n",
              "      <td>118.510002</td>\n",
              "      <td>137.949997</td>\n",
              "      <td>78.769501</td>\n",
              "      <td>23.160000</td>\n",
              "    </tr>\n",
              "    <tr>\n",
              "      <th>2019-01-07</th>\n",
              "      <td>119.360001</td>\n",
              "      <td>138.050003</td>\n",
              "      <td>81.475502</td>\n",
              "      <td>23.270000</td>\n",
              "    </tr>\n",
              "    <tr>\n",
              "      <th>2019-01-08</th>\n",
              "      <td>117.480003</td>\n",
              "      <td>142.529999</td>\n",
              "      <td>82.829002</td>\n",
              "      <td>23.230000</td>\n",
              "    </tr>\n",
              "    <tr>\n",
              "      <th>...</th>\n",
              "      <td>...</td>\n",
              "      <td>...</td>\n",
              "      <td>...</td>\n",
              "      <td>...</td>\n",
              "    </tr>\n",
              "    <tr>\n",
              "      <th>2022-08-29</th>\n",
              "      <td>108.559998</td>\n",
              "      <td>159.169998</td>\n",
              "      <td>129.789993</td>\n",
              "      <td>194.809998</td>\n",
              "    </tr>\n",
              "    <tr>\n",
              "      <th>2022-08-30</th>\n",
              "      <td>107.230003</td>\n",
              "      <td>157.160004</td>\n",
              "      <td>128.729996</td>\n",
              "      <td>194.809998</td>\n",
              "    </tr>\n",
              "    <tr>\n",
              "      <th>2022-08-31</th>\n",
              "      <td>108.150002</td>\n",
              "      <td>162.929993</td>\n",
              "      <td>126.769997</td>\n",
              "      <td>198.979996</td>\n",
              "    </tr>\n",
              "    <tr>\n",
              "      <th>2022-09-01</th>\n",
              "      <td>106.519997</td>\n",
              "      <td>165.360001</td>\n",
              "      <td>127.820000</td>\n",
              "      <td>198.979996</td>\n",
              "    </tr>\n",
              "    <tr>\n",
              "      <th>2022-09-02</th>\n",
              "      <td>104.419998</td>\n",
              "      <td>160.320007</td>\n",
              "      <td>127.510002</td>\n",
              "      <td>198.979996</td>\n",
              "    </tr>\n",
              "  </tbody>\n",
              "</table>\n",
              "<p>903 rows × 4 columns</p>\n",
              "</div>"
            ],
            "text/plain": [
              "               Spotify    Facebook      Amazon  Aeromexico\n",
              "Date                                                      \n",
              "2019-01-02  113.739998  135.679993   76.956497   22.530001\n",
              "2019-01-03  109.019997  131.740005   75.014000   22.770000\n",
              "2019-01-04  118.510002  137.949997   78.769501   23.160000\n",
              "2019-01-07  119.360001  138.050003   81.475502   23.270000\n",
              "2019-01-08  117.480003  142.529999   82.829002   23.230000\n",
              "...                ...         ...         ...         ...\n",
              "2022-08-29  108.559998  159.169998  129.789993  194.809998\n",
              "2022-08-30  107.230003  157.160004  128.729996  194.809998\n",
              "2022-08-31  108.150002  162.929993  126.769997  198.979996\n",
              "2022-09-01  106.519997  165.360001  127.820000  198.979996\n",
              "2022-09-02  104.419998  160.320007  127.510002  198.979996\n",
              "\n",
              "[903 rows x 4 columns]"
            ]
          },
          "execution_count": 32,
          "metadata": {},
          "output_type": "execute_result"
        }
      ],
      "source": [
        "# En caso de tener valores nulos\n",
        "AccionesNN = Acciones.dropna()\n",
        "AccionesNN"
      ]
    },
    {
      "cell_type": "code",
      "execution_count": 33,
      "metadata": {
        "id": "JwdGk_hCxJms",
        "outputId": "5fff6875-9ffb-44c4-896b-faad0c472fdb"
      },
      "outputs": [
        {
          "data": {
            "image/png": "[encoded data removed]",
            "text/plain": [
              "<Figure size 1440x360 with 1 Axes>"
            ]
          },
          "metadata": {
            "needs_background": "light"
          },
          "output_type": "display_data"
        }
      ],
      "source": [
        "plt.figure(figsize=(20, 5))\n",
        "plt.plot(Acciones['Spotify'], color='red', marker='+', label='Open')\n",
        "plt.plot(Acciones['Facebook'], color='blue', marker='+', label='Close')\n",
        "plt.plot(Acciones['Amazon'], color='orange', marker='+', label='Close')\n",
        "plt.plot(Acciones['Aeromexico'], color='green', marker='+', label='Close')\n",
        "plt.xlabel('Fecha')\n",
        "plt.ylabel('Precio de las acciones')\n",
        "plt.title('Acciones')\n",
        "plt.grid(True)\n",
        "plt.legend()\n",
        "plt.show()"
      ]
    },
    {
      "cell_type": "code",
      "execution_count": 37,
      "metadata": {
        "id": "TaB3H5gQxJms",
        "outputId": "e5a5cad1-27c5-4c03-a1b2-28c7e02fd8b7"
      },
      "outputs": [
        {
          "data": {
            "image/png": "[encoded data removed]",
            "text/plain": [
              "<Figure size 1008x504 with 2 Axes>"
            ]
          },
          "metadata": {
            "needs_background": "light"
          },
          "output_type": "display_data"
        }
      ],
      "source": [
        "plt.figure(figsize=(14,7))\n",
        "MatrizInf = np.triu(Acciones.corr())\n",
        "sns.heatmap(Acciones.corr(), cmap='RdBu_r', annot=True, mask=MatrizInf)\n",
        "plt.show()"
      ]
    },
    {
      "cell_type": "code",
      "execution_count": 38,
      "metadata": {
        "id": "IftGufrFxJms",
        "outputId": "1d063fee-5efa-4450-8a29-9745ebff7c50"
      },
      "outputs": [
        {
          "data": {
            "text/html": [
              "<div>\n",
              "<style scoped>\n",
              "    .dataframe tbody tr th:only-of-type {\n",
              "        vertical-align: middle;\n",
              "    }\n",
              "\n",
              "    .dataframe tbody tr th {\n",
              "        vertical-align: top;\n",
              "    }\n",
              "\n",
              "    .dataframe thead th {\n",
              "        text-align: right;\n",
              "    }\n",
              "</style>\n",
              "<table border=\"1\" class=\"dataframe\">\n",
              "  <thead>\n",
              "    <tr style=\"text-align: right;\">\n",
              "      <th></th>\n",
              "      <th>Spotify</th>\n",
              "      <th>Facebook</th>\n",
              "      <th>Amazon</th>\n",
              "      <th>Aeromexico</th>\n",
              "    </tr>\n",
              "  </thead>\n",
              "  <tbody>\n",
              "    <tr>\n",
              "      <th>Spotify</th>\n",
              "      <td>1.000000</td>\n",
              "      <td>0.763988</td>\n",
              "      <td>0.774803</td>\n",
              "      <td>-0.444118</td>\n",
              "    </tr>\n",
              "    <tr>\n",
              "      <th>Facebook</th>\n",
              "      <td>0.763988</td>\n",
              "      <td>1.000000</td>\n",
              "      <td>0.851634</td>\n",
              "      <td>-0.323497</td>\n",
              "    </tr>\n",
              "    <tr>\n",
              "      <th>Amazon</th>\n",
              "      <td>0.774803</td>\n",
              "      <td>0.851634</td>\n",
              "      <td>1.000000</td>\n",
              "      <td>-0.061689</td>\n",
              "    </tr>\n",
              "    <tr>\n",
              "      <th>Aeromexico</th>\n",
              "      <td>-0.444118</td>\n",
              "      <td>-0.323497</td>\n",
              "      <td>-0.061689</td>\n",
              "      <td>1.000000</td>\n",
              "    </tr>\n",
              "  </tbody>\n",
              "</table>\n",
              "</div>"
            ],
            "text/plain": [
              "             Spotify  Facebook    Amazon  Aeromexico\n",
              "Spotify     1.000000  0.763988  0.774803   -0.444118\n",
              "Facebook    0.763988  1.000000  0.851634   -0.323497\n",
              "Amazon      0.774803  0.851634  1.000000   -0.061689\n",
              "Aeromexico -0.444118 -0.323497 -0.061689    1.000000"
            ]
          },
          "execution_count": 38,
          "metadata": {},
          "output_type": "execute_result"
        }
      ],
      "source": [
        "Acciones.corr()"
      ]
    },
    {
      "cell_type": "code",
      "execution_count": 39,
      "metadata": {
        "id": "x5Qed1_6xJms",
        "outputId": "b0f43720-ef45-417c-ba6a-7ff95bb1bf26"
      },
      "outputs": [
        {
          "name": "stdout",
          "output_type": "stream",
          "text": [
            "[*********************100%***********************]  4 of 4 completed\n"
          ]
        },
        {
          "data": {
            "text/html": [
              "<div>\n",
              "<style scoped>\n",
              "    .dataframe tbody tr th:only-of-type {\n",
              "        vertical-align: middle;\n",
              "    }\n",
              "\n",
              "    .dataframe tbody tr th {\n",
              "        vertical-align: top;\n",
              "    }\n",
              "\n",
              "    .dataframe thead tr th {\n",
              "        text-align: left;\n",
              "    }\n",
              "\n",
              "    .dataframe thead tr:last-of-type th {\n",
              "        text-align: right;\n",
              "    }\n",
              "</style>\n",
              "<table border=\"1\" class=\"dataframe\">\n",
              "  <thead>\n",
              "    <tr>\n",
              "      <th></th>\n",
              "      <th colspan=\"4\" halign=\"left\">Adj Close</th>\n",
              "      <th colspan=\"4\" halign=\"left\">Close</th>\n",
              "      <th colspan=\"2\" halign=\"left\">High</th>\n",
              "      <th>...</th>\n",
              "      <th colspan=\"2\" halign=\"left\">Low</th>\n",
              "      <th colspan=\"4\" halign=\"left\">Open</th>\n",
              "      <th colspan=\"4\" halign=\"left\">Volume</th>\n",
              "    </tr>\n",
              "    <tr>\n",
              "      <th></th>\n",
              "      <th>AEROMEX.MX</th>\n",
              "      <th>AMZN</th>\n",
              "      <th>META</th>\n",
              "      <th>SPOT</th>\n",
              "      <th>AEROMEX.MX</th>\n",
              "      <th>AMZN</th>\n",
              "      <th>META</th>\n",
              "      <th>SPOT</th>\n",
              "      <th>AEROMEX.MX</th>\n",
              "      <th>AMZN</th>\n",
              "      <th>...</th>\n",
              "      <th>META</th>\n",
              "      <th>SPOT</th>\n",
              "      <th>AEROMEX.MX</th>\n",
              "      <th>AMZN</th>\n",
              "      <th>META</th>\n",
              "      <th>SPOT</th>\n",
              "      <th>AEROMEX.MX</th>\n",
              "      <th>AMZN</th>\n",
              "      <th>META</th>\n",
              "      <th>SPOT</th>\n",
              "    </tr>\n",
              "    <tr>\n",
              "      <th>Date</th>\n",
              "      <th></th>\n",
              "      <th></th>\n",
              "      <th></th>\n",
              "      <th></th>\n",
              "      <th></th>\n",
              "      <th></th>\n",
              "      <th></th>\n",
              "      <th></th>\n",
              "      <th></th>\n",
              "      <th></th>\n",
              "      <th></th>\n",
              "      <th></th>\n",
              "      <th></th>\n",
              "      <th></th>\n",
              "      <th></th>\n",
              "      <th></th>\n",
              "      <th></th>\n",
              "      <th></th>\n",
              "      <th></th>\n",
              "      <th></th>\n",
              "      <th></th>\n",
              "    </tr>\n",
              "  </thead>\n",
              "  <tbody>\n",
              "    <tr>\n",
              "      <th>2019-01-02</th>\n",
              "      <td>22.530001</td>\n",
              "      <td>76.956497</td>\n",
              "      <td>135.679993</td>\n",
              "      <td>113.739998</td>\n",
              "      <td>22.530001</td>\n",
              "      <td>76.956497</td>\n",
              "      <td>135.679993</td>\n",
              "      <td>113.739998</td>\n",
              "      <td>23.080000</td>\n",
              "      <td>77.667999</td>\n",
              "      <td>...</td>\n",
              "      <td>128.559998</td>\n",
              "      <td>110.360001</td>\n",
              "      <td>22.000000</td>\n",
              "      <td>73.260002</td>\n",
              "      <td>128.990005</td>\n",
              "      <td>111.660004</td>\n",
              "      <td>54890.0</td>\n",
              "      <td>159662000.0</td>\n",
              "      <td>28146200.0</td>\n",
              "      <td>861100.0</td>\n",
              "    </tr>\n",
              "    <tr>\n",
              "      <th>2019-01-03</th>\n",
              "      <td>22.770000</td>\n",
              "      <td>75.014000</td>\n",
              "      <td>131.740005</td>\n",
              "      <td>109.019997</td>\n",
              "      <td>22.770000</td>\n",
              "      <td>75.014000</td>\n",
              "      <td>131.740005</td>\n",
              "      <td>109.019997</td>\n",
              "      <td>23.049999</td>\n",
              "      <td>76.900002</td>\n",
              "      <td>...</td>\n",
              "      <td>131.119995</td>\n",
              "      <td>108.589996</td>\n",
              "      <td>22.500000</td>\n",
              "      <td>76.000504</td>\n",
              "      <td>134.690002</td>\n",
              "      <td>112.080002</td>\n",
              "      <td>88098.0</td>\n",
              "      <td>139512000.0</td>\n",
              "      <td>22717900.0</td>\n",
              "      <td>1082300.0</td>\n",
              "    </tr>\n",
              "    <tr>\n",
              "      <th>2019-01-04</th>\n",
              "      <td>23.160000</td>\n",
              "      <td>78.769501</td>\n",
              "      <td>137.949997</td>\n",
              "      <td>118.510002</td>\n",
              "      <td>23.160000</td>\n",
              "      <td>78.769501</td>\n",
              "      <td>137.949997</td>\n",
              "      <td>118.510002</td>\n",
              "      <td>23.840000</td>\n",
              "      <td>79.699997</td>\n",
              "      <td>...</td>\n",
              "      <td>133.750000</td>\n",
              "      <td>111.500000</td>\n",
              "      <td>23.430000</td>\n",
              "      <td>76.500000</td>\n",
              "      <td>134.009995</td>\n",
              "      <td>112.059998</td>\n",
              "      <td>69569.0</td>\n",
              "      <td>183652000.0</td>\n",
              "      <td>29002100.0</td>\n",
              "      <td>2484800.0</td>\n",
              "    </tr>\n",
              "    <tr>\n",
              "      <th>2019-01-07</th>\n",
              "      <td>23.270000</td>\n",
              "      <td>81.475502</td>\n",
              "      <td>138.050003</td>\n",
              "      <td>119.360001</td>\n",
              "      <td>23.270000</td>\n",
              "      <td>81.475502</td>\n",
              "      <td>138.050003</td>\n",
              "      <td>119.360001</td>\n",
              "      <td>24.500000</td>\n",
              "      <td>81.727997</td>\n",
              "      <td>...</td>\n",
              "      <td>135.910004</td>\n",
              "      <td>113.279999</td>\n",
              "      <td>23.180000</td>\n",
              "      <td>80.115501</td>\n",
              "      <td>137.559998</td>\n",
              "      <td>115.040001</td>\n",
              "      <td>160120.0</td>\n",
              "      <td>159864000.0</td>\n",
              "      <td>20089300.0</td>\n",
              "      <td>2516200.0</td>\n",
              "    </tr>\n",
              "    <tr>\n",
              "      <th>2019-01-08</th>\n",
              "      <td>23.230000</td>\n",
              "      <td>82.829002</td>\n",
              "      <td>142.529999</td>\n",
              "      <td>117.480003</td>\n",
              "      <td>23.230000</td>\n",
              "      <td>82.829002</td>\n",
              "      <td>142.529999</td>\n",
              "      <td>117.480003</td>\n",
              "      <td>23.870001</td>\n",
              "      <td>83.830498</td>\n",
              "      <td>...</td>\n",
              "      <td>139.539993</td>\n",
              "      <td>114.699997</td>\n",
              "      <td>23.219999</td>\n",
              "      <td>83.234497</td>\n",
              "      <td>139.889999</td>\n",
              "      <td>121.440002</td>\n",
              "      <td>190421.0</td>\n",
              "      <td>177628000.0</td>\n",
              "      <td>26263800.0</td>\n",
              "      <td>1257100.0</td>\n",
              "    </tr>\n",
              "    <tr>\n",
              "      <th>...</th>\n",
              "      <td>...</td>\n",
              "      <td>...</td>\n",
              "      <td>...</td>\n",
              "      <td>...</td>\n",
              "      <td>...</td>\n",
              "      <td>...</td>\n",
              "      <td>...</td>\n",
              "      <td>...</td>\n",
              "      <td>...</td>\n",
              "      <td>...</td>\n",
              "      <td>...</td>\n",
              "      <td>...</td>\n",
              "      <td>...</td>\n",
              "      <td>...</td>\n",
              "      <td>...</td>\n",
              "      <td>...</td>\n",
              "      <td>...</td>\n",
              "      <td>...</td>\n",
              "      <td>...</td>\n",
              "      <td>...</td>\n",
              "      <td>...</td>\n",
              "    </tr>\n",
              "    <tr>\n",
              "      <th>2022-08-30</th>\n",
              "      <td>194.809998</td>\n",
              "      <td>128.729996</td>\n",
              "      <td>157.160004</td>\n",
              "      <td>107.230003</td>\n",
              "      <td>194.809998</td>\n",
              "      <td>128.729996</td>\n",
              "      <td>157.160004</td>\n",
              "      <td>107.230003</td>\n",
              "      <td>194.809998</td>\n",
              "      <td>132.070007</td>\n",
              "      <td>...</td>\n",
              "      <td>155.910004</td>\n",
              "      <td>105.769997</td>\n",
              "      <td>194.809998</td>\n",
              "      <td>131.250000</td>\n",
              "      <td>160.350006</td>\n",
              "      <td>110.320000</td>\n",
              "      <td>0.0</td>\n",
              "      <td>49203000.0</td>\n",
              "      <td>19567900.0</td>\n",
              "      <td>951600.0</td>\n",
              "    </tr>\n",
              "    <tr>\n",
              "      <th>2022-08-31</th>\n",
              "      <td>198.979996</td>\n",
              "      <td>126.769997</td>\n",
              "      <td>162.929993</td>\n",
              "      <td>108.150002</td>\n",
              "      <td>198.979996</td>\n",
              "      <td>126.769997</td>\n",
              "      <td>162.929993</td>\n",
              "      <td>108.150002</td>\n",
              "      <td>199.990005</td>\n",
              "      <td>130.589996</td>\n",
              "      <td>...</td>\n",
              "      <td>162.139999</td>\n",
              "      <td>107.349998</td>\n",
              "      <td>195.509995</td>\n",
              "      <td>129.449997</td>\n",
              "      <td>167.070007</td>\n",
              "      <td>109.500000</td>\n",
              "      <td>789.0</td>\n",
              "      <td>53648700.0</td>\n",
              "      <td>40953000.0</td>\n",
              "      <td>1050400.0</td>\n",
              "    </tr>\n",
              "    <tr>\n",
              "      <th>2022-09-01</th>\n",
              "      <td>198.979996</td>\n",
              "      <td>127.820000</td>\n",
              "      <td>165.360001</td>\n",
              "      <td>106.519997</td>\n",
              "      <td>198.979996</td>\n",
              "      <td>127.820000</td>\n",
              "      <td>165.360001</td>\n",
              "      <td>106.519997</td>\n",
              "      <td>198.979996</td>\n",
              "      <td>128.020004</td>\n",
              "      <td>...</td>\n",
              "      <td>160.350006</td>\n",
              "      <td>102.180000</td>\n",
              "      <td>198.979996</td>\n",
              "      <td>126.000000</td>\n",
              "      <td>163.580002</td>\n",
              "      <td>106.059998</td>\n",
              "      <td>0.0</td>\n",
              "      <td>56636100.0</td>\n",
              "      <td>30145700.0</td>\n",
              "      <td>1570600.0</td>\n",
              "    </tr>\n",
              "    <tr>\n",
              "      <th>2022-09-02</th>\n",
              "      <td>198.979996</td>\n",
              "      <td>127.510002</td>\n",
              "      <td>160.320007</td>\n",
              "      <td>104.419998</td>\n",
              "      <td>198.979996</td>\n",
              "      <td>127.510002</td>\n",
              "      <td>160.320007</td>\n",
              "      <td>104.419998</td>\n",
              "      <td>198.979996</td>\n",
              "      <td>131.380005</td>\n",
              "      <td>...</td>\n",
              "      <td>159.220001</td>\n",
              "      <td>103.360001</td>\n",
              "      <td>198.979996</td>\n",
              "      <td>129.500000</td>\n",
              "      <td>167.449997</td>\n",
              "      <td>107.550003</td>\n",
              "      <td>0.0</td>\n",
              "      <td>57378500.0</td>\n",
              "      <td>22609100.0</td>\n",
              "      <td>1405300.0</td>\n",
              "    </tr>\n",
              "    <tr>\n",
              "      <th>2022-09-05</th>\n",
              "      <td>198.979996</td>\n",
              "      <td>NaN</td>\n",
              "      <td>NaN</td>\n",
              "      <td>NaN</td>\n",
              "      <td>198.979996</td>\n",
              "      <td>NaN</td>\n",
              "      <td>NaN</td>\n",
              "      <td>NaN</td>\n",
              "      <td>198.979996</td>\n",
              "      <td>NaN</td>\n",
              "      <td>...</td>\n",
              "      <td>NaN</td>\n",
              "      <td>NaN</td>\n",
              "      <td>198.979996</td>\n",
              "      <td>NaN</td>\n",
              "      <td>NaN</td>\n",
              "      <td>NaN</td>\n",
              "      <td>0.0</td>\n",
              "      <td>NaN</td>\n",
              "      <td>NaN</td>\n",
              "      <td>NaN</td>\n",
              "    </tr>\n",
              "  </tbody>\n",
              "</table>\n",
              "<p>951 rows × 24 columns</p>\n",
              "</div>"
            ],
            "text/plain": [
              "             Adj Close                                           Close  \\\n",
              "            AEROMEX.MX        AMZN        META        SPOT  AEROMEX.MX   \n",
              "Date                                                                     \n",
              "2019-01-02   22.530001   76.956497  135.679993  113.739998   22.530001   \n",
              "2019-01-03   22.770000   75.014000  131.740005  109.019997   22.770000   \n",
              "2019-01-04   23.160000   78.769501  137.949997  118.510002   23.160000   \n",
              "2019-01-07   23.270000   81.475502  138.050003  119.360001   23.270000   \n",
              "2019-01-08   23.230000   82.829002  142.529999  117.480003   23.230000   \n",
              "...                ...         ...         ...         ...         ...   \n",
              "2022-08-30  194.809998  128.729996  157.160004  107.230003  194.809998   \n",
              "2022-08-31  198.979996  126.769997  162.929993  108.150002  198.979996   \n",
              "2022-09-01  198.979996  127.820000  165.360001  106.519997  198.979996   \n",
              "2022-09-02  198.979996  127.510002  160.320007  104.419998  198.979996   \n",
              "2022-09-05  198.979996         NaN         NaN         NaN  198.979996   \n",
              "\n",
              "                                                      High              ...  \\\n",
              "                  AMZN        META        SPOT  AEROMEX.MX        AMZN  ...   \n",
              "Date                                                                    ...   \n",
              "2019-01-02   76.956497  135.679993  113.739998   23.080000   77.667999  ...   \n",
              "2019-01-03   75.014000  131.740005  109.019997   23.049999   76.900002  ...   \n",
              "2019-01-04   78.769501  137.949997  118.510002   23.840000   79.699997  ...   \n",
              "2019-01-07   81.475502  138.050003  119.360001   24.500000   81.727997  ...   \n",
              "2019-01-08   82.829002  142.529999  117.480003   23.870001   83.830498  ...   \n",
              "...                ...         ...         ...         ...         ...  ...   \n",
              "2022-08-30  128.729996  157.160004  107.230003  194.809998  132.070007  ...   \n",
              "2022-08-31  126.769997  162.929993  108.150002  199.990005  130.589996  ...   \n",
              "2022-09-01  127.820000  165.360001  106.519997  198.979996  128.020004  ...   \n",
              "2022-09-02  127.510002  160.320007  104.419998  198.979996  131.380005  ...   \n",
              "2022-09-05         NaN         NaN         NaN  198.979996         NaN  ...   \n",
              "\n",
              "                   Low                    Open                          \\\n",
              "                  META        SPOT  AEROMEX.MX        AMZN        META   \n",
              "Date                                                                     \n",
              "2019-01-02  128.559998  110.360001   22.000000   73.260002  128.990005   \n",
              "2019-01-03  131.119995  108.589996   22.500000   76.000504  134.690002   \n",
              "2019-01-04  133.750000  111.500000   23.430000   76.500000  134.009995   \n",
              "2019-01-07  135.910004  113.279999   23.180000   80.115501  137.559998   \n",
              "2019-01-08  139.539993  114.699997   23.219999   83.234497  139.889999   \n",
              "...                ...         ...         ...         ...         ...   \n",
              "2022-08-30  155.910004  105.769997  194.809998  131.250000  160.350006   \n",
              "2022-08-31  162.139999  107.349998  195.509995  129.449997  167.070007   \n",
              "2022-09-01  160.350006  102.180000  198.979996  126.000000  163.580002   \n",
              "2022-09-02  159.220001  103.360001  198.979996  129.500000  167.449997   \n",
              "2022-09-05         NaN         NaN  198.979996         NaN         NaN   \n",
              "\n",
              "                           Volume                                      \n",
              "                  SPOT AEROMEX.MX         AMZN        META       SPOT  \n",
              "Date                                                                   \n",
              "2019-01-02  111.660004    54890.0  159662000.0  28146200.0   861100.0  \n",
              "2019-01-03  112.080002    88098.0  139512000.0  22717900.0  1082300.0  \n",
              "2019-01-04  112.059998    69569.0  183652000.0  29002100.0  2484800.0  \n",
              "2019-01-07  115.040001   160120.0  159864000.0  20089300.0  2516200.0  \n",
              "2019-01-08  121.440002   190421.0  177628000.0  26263800.0  1257100.0  \n",
              "...                ...        ...          ...         ...        ...  \n",
              "2022-08-30  110.320000        0.0   49203000.0  19567900.0   951600.0  \n",
              "2022-08-31  109.500000      789.0   53648700.0  40953000.0  1050400.0  \n",
              "2022-09-01  106.059998        0.0   56636100.0  30145700.0  1570600.0  \n",
              "2022-09-02  107.550003        0.0   57378500.0  22609100.0  1405300.0  \n",
              "2022-09-05         NaN        0.0          NaN         NaN        NaN  \n",
              "\n",
              "[951 rows x 24 columns]"
            ]
          },
          "execution_count": 39,
          "metadata": {},
          "output_type": "execute_result"
        }
      ],
      "source": [
        "DataAcciones = yf.download(['SPOT', 'META', 'AMZN', 'AEROMEX.MX'], start='2019-1-1', end='2022-9-6', \n",
        "                interval='1d')\n",
        "DataAcciones"
      ]
    }
  ],
  "metadata": {
    "colab": {
      "provenance": []
    },
    "kernelspec": {
      "display_name": "Python 3.8.12 ('IA')",
      "language": "python",
      "name": "python3"
    },
    "language_info": {
      "codemirror_mode": {
        "name": "ipython",
        "version": 3
      },
      "file_extension": ".py",
      "mimetype": "text/x-python",
      "name": "python",
      "nbconvert_exporter": "python",
      "pygments_lexer": "ipython3",
      "version": "3.8.12"
    },
    "vscode": {
      "interpreter": {
        "hash": "4af4b2b7b2f1c560c9a3b780a55e49e5c58b4702e92f6186fcdc9ed34c53fe61"
      }
    }
  },
  "nbformat": 4,
  "nbformat_minor": 0
}
