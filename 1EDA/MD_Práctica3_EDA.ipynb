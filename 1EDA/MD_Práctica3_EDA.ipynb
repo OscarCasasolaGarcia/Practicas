{
  "cells": [
    {
      "cell_type": "markdown",
      "metadata": {
        "id": "Zo6Nr9ApAOMF"
      },
      "source": [
        "# **Práctica 3: Análisis exploratorio de datos**\n",
        "\n",
        "Nombre: Casasola García Oscar\n",
        "\n",
        "No. Cuenta: 316123747\n",
        "\n",
        "Email: oscar.casasola.g7@gmail.com"
      ]
    },
    {
      "cell_type": "markdown",
      "metadata": {
        "id": "ULNJnL1hDiT5"
      },
      "source": [
        "### **Contexto**\n",
        "\n",
        "Yahoo Finance ofrece una amplia variedad de datos de mercado sobre acciones, bonos, divisas y criptomonedas. También proporciona informes de noticias con varios puntos de vista sobre diferentes mercados de todo el mundo, todos accesibles a través de la biblioteca yfinance.\n",
        "\n",
        "**Objetivo:** Hacer un análisis exploratorio de datos con base en información obtenida de Yahoo Finanzas. Por ejemplo, datos de Spotify, Facebook, Amazon y Aeromexico.\n",
        "\n",
        "**Fuente de datos**\n",
        "\n",
        "De Yahoo Finanzas se utiliza el Ticker -Etiqueta de cotización- de la acción bursatil."
      ]
    },
    {
      "cell_type": "markdown",
      "metadata": {
        "id": "uoY99zJ29vPO"
      },
      "source": [
        "### **Importar las bibliotecas y los datos**"
      ]
    },
    {
      "cell_type": "code",
      "execution_count": 3,
      "metadata": {
        "id": "bZHtqYVPxJmf",
        "outputId": "f77d7234-c0c5-414b-e807-a227033f1dfb"
      },
      "outputs": [
        {
          "name": "stdout",
          "output_type": "stream",
          "text": [
            "Requirement already satisfied: yfinance in c:\\users\\johnc\\anaconda3\\envs\\ia\\lib\\site-packages (0.1.67)\n",
            "Requirement already satisfied: multitasking>=0.0.7 in c:\\users\\johnc\\anaconda3\\envs\\ia\\lib\\site-packages (from yfinance) (0.0.10)\n",
            "Requirement already satisfied: requests>=2.20 in c:\\users\\johnc\\anaconda3\\envs\\ia\\lib\\site-packages (from yfinance) (2.26.0)\n",
            "Requirement already satisfied: lxml>=4.5.1 in c:\\users\\johnc\\anaconda3\\envs\\ia\\lib\\site-packages (from yfinance) (4.6.4)\n",
            "Requirement already satisfied: numpy>=1.15 in c:\\users\\johnc\\anaconda3\\envs\\ia\\lib\\site-packages (from yfinance) (1.21.2)\n",
            "Requirement already satisfied: pandas>=0.24 in c:\\users\\johnc\\anaconda3\\envs\\ia\\lib\\site-packages (from yfinance) (1.3.4)\n",
            "Requirement already satisfied: pytz>=2017.3 in c:\\users\\johnc\\anaconda3\\envs\\ia\\lib\\site-packages (from pandas>=0.24->yfinance) (2021.3)\n",
            "Requirement already satisfied: python-dateutil>=2.7.3 in c:\\users\\johnc\\anaconda3\\envs\\ia\\lib\\site-packages (from pandas>=0.24->yfinance) (2.8.2)\n",
            "Requirement already satisfied: six>=1.5 in c:\\users\\johnc\\anaconda3\\envs\\ia\\lib\\site-packages (from python-dateutil>=2.7.3->pandas>=0.24->yfinance) (1.15.0)\n",
            "Requirement already satisfied: charset-normalizer~=2.0.0 in c:\\users\\johnc\\anaconda3\\envs\\ia\\lib\\site-packages (from requests>=2.20->yfinance) (2.0.4)\n",
            "Requirement already satisfied: certifi>=2017.4.17 in c:\\users\\johnc\\anaconda3\\envs\\ia\\lib\\site-packages (from requests>=2.20->yfinance) (2021.10.8)\n",
            "Requirement already satisfied: urllib3<1.27,>=1.21.1 in c:\\users\\johnc\\anaconda3\\envs\\ia\\lib\\site-packages (from requests>=2.20->yfinance) (1.26.7)\n",
            "Requirement already satisfied: idna<4,>=2.5 in c:\\users\\johnc\\anaconda3\\envs\\ia\\lib\\site-packages (from requests>=2.20->yfinance) (2.10)Note: you may need to restart the kernel to use updated packages.\n",
            "\n"
          ]
        }
      ],
      "source": [
        "%pip install yfinance\n",
        "#%pip install googlefinance"
      ]
    },
    {
      "cell_type": "code",
      "execution_count": 1,
      "metadata": {
        "id": "s4Uf32pf_8NH"
      },
      "outputs": [],
      "source": [
        "import pandas as pd               # Para la manipulación y análisis de datos\n",
        "import numpy as np                # Para crear vectores y matrices n dimensionales\n",
        "import matplotlib.pyplot as plt   # Para la generación de gráficas a partir de los datos\n",
        "import seaborn as sns             # Para la visualización de datos basado en matplotlib\n",
        "%matplotlib inline             \n",
        "# Para generar y almacenar los gráficos dentro del cuaderno\n",
        "import yfinance as yf"
      ]
    },
    {
      "cell_type": "markdown",
      "metadata": {},
      "source": [
        "# 1. Análisis para Spotify"
      ]
    },
    {
      "cell_type": "code",
      "execution_count": 2,
      "metadata": {
        "colab": {
          "base_uri": "https://localhost:8080/",
          "height": 713
        },
        "id": "Fj60_dEpDnCU",
        "outputId": "cc12a43b-8634-4a80-fc6a-da71eb487861"
      },
      "outputs": [
        {
          "data": {
            "text/plain": [
              "yfinance.Ticker object <SPOT>"
            ]
          },
          "execution_count": 2,
          "metadata": {},
          "output_type": "execute_result"
        }
      ],
      "source": [
        "# Para Spotify\n",
        "DataSpotify = yf.Ticker('SPOT')\n",
        "DataSpotify"
      ]
    },
    {
      "cell_type": "code",
      "execution_count": 12,
      "metadata": {
        "id": "HdZJeuVOxJmh",
        "outputId": "d1d56108-e93e-4282-ba16-62286def14e8"
      },
      "outputs": [
        {
          "data": {
            "text/html": [
              "<div>\n",
              "<style scoped>\n",
              "    .dataframe tbody tr th:only-of-type {\n",
              "        vertical-align: middle;\n",
              "    }\n",
              "\n",
              "    .dataframe tbody tr th {\n",
              "        vertical-align: top;\n",
              "    }\n",
              "\n",
              "    .dataframe thead th {\n",
              "        text-align: right;\n",
              "    }\n",
              "</style>\n",
              "<table border=\"1\" class=\"dataframe\">\n",
              "  <thead>\n",
              "    <tr style=\"text-align: right;\">\n",
              "      <th></th>\n",
              "      <th>Open</th>\n",
              "      <th>High</th>\n",
              "      <th>Low</th>\n",
              "      <th>Close</th>\n",
              "      <th>Volume</th>\n",
              "      <th>Dividends</th>\n",
              "      <th>Stock Splits</th>\n",
              "    </tr>\n",
              "    <tr>\n",
              "      <th>Date</th>\n",
              "      <th></th>\n",
              "      <th></th>\n",
              "      <th></th>\n",
              "      <th></th>\n",
              "      <th></th>\n",
              "      <th></th>\n",
              "      <th></th>\n",
              "    </tr>\n",
              "  </thead>\n",
              "  <tbody>\n",
              "    <tr>\n",
              "      <th>2019-01-02</th>\n",
              "      <td>111.660004</td>\n",
              "      <td>115.629997</td>\n",
              "      <td>110.360001</td>\n",
              "      <td>113.739998</td>\n",
              "      <td>861100</td>\n",
              "      <td>0</td>\n",
              "      <td>0</td>\n",
              "    </tr>\n",
              "    <tr>\n",
              "      <th>2019-01-03</th>\n",
              "      <td>112.080002</td>\n",
              "      <td>113.345001</td>\n",
              "      <td>108.589996</td>\n",
              "      <td>109.019997</td>\n",
              "      <td>1082300</td>\n",
              "      <td>0</td>\n",
              "      <td>0</td>\n",
              "    </tr>\n",
              "    <tr>\n",
              "      <th>2019-01-04</th>\n",
              "      <td>112.059998</td>\n",
              "      <td>121.470001</td>\n",
              "      <td>111.500000</td>\n",
              "      <td>118.510002</td>\n",
              "      <td>2484800</td>\n",
              "      <td>0</td>\n",
              "      <td>0</td>\n",
              "    </tr>\n",
              "    <tr>\n",
              "      <th>2019-01-07</th>\n",
              "      <td>115.040001</td>\n",
              "      <td>123.865997</td>\n",
              "      <td>113.279999</td>\n",
              "      <td>119.360001</td>\n",
              "      <td>2516200</td>\n",
              "      <td>0</td>\n",
              "      <td>0</td>\n",
              "    </tr>\n",
              "    <tr>\n",
              "      <th>2019-01-08</th>\n",
              "      <td>121.440002</td>\n",
              "      <td>122.769997</td>\n",
              "      <td>114.699997</td>\n",
              "      <td>117.480003</td>\n",
              "      <td>1257100</td>\n",
              "      <td>0</td>\n",
              "      <td>0</td>\n",
              "    </tr>\n",
              "    <tr>\n",
              "      <th>...</th>\n",
              "      <td>...</td>\n",
              "      <td>...</td>\n",
              "      <td>...</td>\n",
              "      <td>...</td>\n",
              "      <td>...</td>\n",
              "      <td>...</td>\n",
              "      <td>...</td>\n",
              "    </tr>\n",
              "    <tr>\n",
              "      <th>2022-09-02</th>\n",
              "      <td>107.550003</td>\n",
              "      <td>108.290001</td>\n",
              "      <td>103.360001</td>\n",
              "      <td>104.419998</td>\n",
              "      <td>1405300</td>\n",
              "      <td>0</td>\n",
              "      <td>0</td>\n",
              "    </tr>\n",
              "    <tr>\n",
              "      <th>2022-09-06</th>\n",
              "      <td>104.059998</td>\n",
              "      <td>104.370003</td>\n",
              "      <td>100.620003</td>\n",
              "      <td>102.589996</td>\n",
              "      <td>962800</td>\n",
              "      <td>0</td>\n",
              "      <td>0</td>\n",
              "    </tr>\n",
              "    <tr>\n",
              "      <th>2022-09-07</th>\n",
              "      <td>102.349998</td>\n",
              "      <td>106.279999</td>\n",
              "      <td>102.349998</td>\n",
              "      <td>105.860001</td>\n",
              "      <td>652300</td>\n",
              "      <td>0</td>\n",
              "      <td>0</td>\n",
              "    </tr>\n",
              "    <tr>\n",
              "      <th>2022-09-08</th>\n",
              "      <td>104.360001</td>\n",
              "      <td>106.550003</td>\n",
              "      <td>103.720001</td>\n",
              "      <td>105.180000</td>\n",
              "      <td>857900</td>\n",
              "      <td>0</td>\n",
              "      <td>0</td>\n",
              "    </tr>\n",
              "    <tr>\n",
              "      <th>2022-09-09</th>\n",
              "      <td>106.309998</td>\n",
              "      <td>110.580002</td>\n",
              "      <td>106.110001</td>\n",
              "      <td>110.279999</td>\n",
              "      <td>1595172</td>\n",
              "      <td>0</td>\n",
              "      <td>0</td>\n",
              "    </tr>\n",
              "  </tbody>\n",
              "</table>\n",
              "<p>930 rows × 7 columns</p>\n",
              "</div>"
            ],
            "text/plain": [
              "                  Open        High         Low       Close   Volume  \\\n",
              "Date                                                                  \n",
              "2019-01-02  111.660004  115.629997  110.360001  113.739998   861100   \n",
              "2019-01-03  112.080002  113.345001  108.589996  109.019997  1082300   \n",
              "2019-01-04  112.059998  121.470001  111.500000  118.510002  2484800   \n",
              "2019-01-07  115.040001  123.865997  113.279999  119.360001  2516200   \n",
              "2019-01-08  121.440002  122.769997  114.699997  117.480003  1257100   \n",
              "...                ...         ...         ...         ...      ...   \n",
              "2022-09-02  107.550003  108.290001  103.360001  104.419998  1405300   \n",
              "2022-09-06  104.059998  104.370003  100.620003  102.589996   962800   \n",
              "2022-09-07  102.349998  106.279999  102.349998  105.860001   652300   \n",
              "2022-09-08  104.360001  106.550003  103.720001  105.180000   857900   \n",
              "2022-09-09  106.309998  110.580002  106.110001  110.279999  1595172   \n",
              "\n",
              "            Dividends  Stock Splits  \n",
              "Date                                 \n",
              "2019-01-02          0             0  \n",
              "2019-01-03          0             0  \n",
              "2019-01-04          0             0  \n",
              "2019-01-07          0             0  \n",
              "2019-01-08          0             0  \n",
              "...               ...           ...  \n",
              "2022-09-02          0             0  \n",
              "2022-09-06          0             0  \n",
              "2022-09-07          0             0  \n",
              "2022-09-08          0             0  \n",
              "2022-09-09          0             0  \n",
              "\n",
              "[930 rows x 7 columns]"
            ]
          },
          "execution_count": 12,
          "metadata": {},
          "output_type": "execute_result"
        }
      ],
      "source": [
        "today = pd.Timestamp.today()\n",
        "SpotifyHist = DataSpotify.history(start = '2019-1-1', end = today, interval = '1d')\n",
        "SpotifyHist\n",
        "# Se muestran los primeros 10 valores: \n",
        "# * SpotifyHist.head(10)"
      ]
    },
    {
      "cell_type": "markdown",
      "metadata": {
        "id": "qVrYEOOxFGJs"
      },
      "source": [
        "Descripción:\n",
        "\n",
        "* En el comercio de acciones, 'alto' y 'bajo' se refieren a los precios máximos y mínimos en un período determinado.\n",
        "* 'Apertura' y 'cierre' son los precios en los que una acción comenzó y terminó cotizando en el mismo período. \n",
        "* El 'volumen' es la cantidad total de la actividad comercial. \n",
        "* Los valores ajustados tienen en cuenta las acciones corporativas, como los 'dividendos', la 'división de acciones' y la emisión de nuevas acciones."
      ]
    },
    {
      "cell_type": "markdown",
      "metadata": {
        "id": "GcezVK6oH-uv"
      },
      "source": [
        "## **Paso 1: Descripción de la estructura de los datos**"
      ]
    },
    {
      "cell_type": "markdown",
      "metadata": {},
      "source": [
        "1) Forma (dimensiones) del DataFrame\n",
        "\n",
        "El atributo .shape de Pandas proporciona una estructura general de los datos. Devuelve la cantidad de filas y columnas que tiene el conjunto de datos."
      ]
    },
    {
      "cell_type": "code",
      "execution_count": 4,
      "metadata": {
        "colab": {
          "base_uri": "https://localhost:8080/"
        },
        "id": "PEqJIhlxIzVZ",
        "outputId": "31536880-d0c3-431d-824b-bd12f75deba0"
      },
      "outputs": [
        {
          "data": {
            "text/plain": [
              "(928, 7)"
            ]
          },
          "execution_count": 4,
          "metadata": {},
          "output_type": "execute_result"
        }
      ],
      "source": [
        "SpotifyHist.shape"
      ]
    },
    {
      "cell_type": "markdown",
      "metadata": {
        "id": "8-cnllY2JTV1"
      },
      "source": [
        "2) Tipos de datos (variables)\n",
        "\n",
        "El atributo .dtypes muestra los tipos de datos de las columnas (variables y tipos)."
      ]
    },
    {
      "cell_type": "code",
      "execution_count": 5,
      "metadata": {
        "colab": {
          "base_uri": "https://localhost:8080/"
        },
        "id": "BFYuK9rQJXn6",
        "outputId": "7b135c22-3707-4fdf-eee1-ed0c018029b0"
      },
      "outputs": [
        {
          "data": {
            "text/plain": [
              "Open            float64\n",
              "High            float64\n",
              "Low             float64\n",
              "Close           float64\n",
              "Volume            int64\n",
              "Dividends         int64\n",
              "Stock Splits      int64\n",
              "dtype: object"
            ]
          },
          "execution_count": 5,
          "metadata": {},
          "output_type": "execute_result"
        }
      ],
      "source": [
        "SpotifyHist.dtypes"
      ]
    },
    {
      "cell_type": "markdown",
      "metadata": {
        "id": "LqPT5W0xJksm"
      },
      "source": [
        "Se observa que los datos son numéricos (flotante y entero)."
      ]
    },
    {
      "cell_type": "markdown",
      "metadata": {
        "id": "fbdpOwumIrDp"
      },
      "source": [
        "## Paso 2: Identificación de datos faltantes"
      ]
    },
    {
      "cell_type": "markdown",
      "metadata": {},
      "source": [
        "Una función útil de pandas es **.isnull().sum()** que regresa la suma de todos los valores nulos en cada variable."
      ]
    },
    {
      "cell_type": "code",
      "execution_count": 6,
      "metadata": {
        "colab": {
          "base_uri": "https://localhost:8080/"
        },
        "id": "nI1d8izYJ9ni",
        "outputId": "d08c826b-5972-47d5-faa1-dd70898465da"
      },
      "outputs": [
        {
          "data": {
            "text/plain": [
              "Open            0\n",
              "High            0\n",
              "Low             0\n",
              "Close           0\n",
              "Volume          0\n",
              "Dividends       0\n",
              "Stock Splits    0\n",
              "dtype: int64"
            ]
          },
          "execution_count": 6,
          "metadata": {},
          "output_type": "execute_result"
        }
      ],
      "source": [
        "SpotifyHist.isnull().sum()"
      ]
    },
    {
      "cell_type": "markdown",
      "metadata": {
        "id": "DSeHVLdbH9BF"
      },
      "source": [
        "También se puede usar **info()** para obtener el tipo de datos y la suma de valores nulos."
      ]
    },
    {
      "cell_type": "code",
      "execution_count": 7,
      "metadata": {
        "colab": {
          "base_uri": "https://localhost:8080/"
        },
        "id": "3i0-YIF0KMzF",
        "outputId": "63459b2f-7d13-4b99-846e-309b55c65933"
      },
      "outputs": [
        {
          "name": "stdout",
          "output_type": "stream",
          "text": [
            "<class 'pandas.core.frame.DataFrame'>\n",
            "DatetimeIndex: 928 entries, 2019-01-02 to 2022-09-07\n",
            "Data columns (total 7 columns):\n",
            " #   Column        Non-Null Count  Dtype  \n",
            "---  ------        --------------  -----  \n",
            " 0   Open          928 non-null    float64\n",
            " 1   High          928 non-null    float64\n",
            " 2   Low           928 non-null    float64\n",
            " 3   Close         928 non-null    float64\n",
            " 4   Volume        928 non-null    int64  \n",
            " 5   Dividends     928 non-null    int64  \n",
            " 6   Stock Splits  928 non-null    int64  \n",
            "dtypes: float64(4), int64(3)\n",
            "memory usage: 58.0 KB\n"
          ]
        }
      ],
      "source": [
        "SpotifyHist.info()"
      ]
    },
    {
      "cell_type": "markdown",
      "metadata": {
        "id": "3UFHKSG2It_D"
      },
      "source": [
        "## Paso 3: Detección de valores atípicos"
      ]
    },
    {
      "cell_type": "markdown",
      "metadata": {
        "id": "XXGWHIN8hcEk"
      },
      "source": [
        "### 1) Distribución de variables numéricas\n",
        "\n",
        "* Se utilizan histogramas que agrupan los números en rangos.\n",
        "* La altura de una barra muestra cuántos números caen en ese rango. \n",
        "* Se emplea **hist()** para trazar el histograma de las variables numéricas. También se pueden usar los parámetros: **figsize** y **xrot** para aumentar el tamaño de la cuadrícula y rotar el eje x 45 grados."
      ]
    },
    {
      "cell_type": "code",
      "execution_count": 8,
      "metadata": {
        "colab": {
          "base_uri": "https://localhost:8080/",
          "height": 844
        },
        "id": "gPZ2ls_VhqXm",
        "outputId": "32b2abab-d184-4f85-80e9-d78349f66a17"
      },
      "outputs": [
        {
          "data": {
            "image/png": "[encoded data removed]",
            "text/plain": [
              "<Figure size 1008x1008 with 9 Axes>"
            ]
          },
          "metadata": {
            "needs_background": "light"
          },
          "output_type": "display_data"
        }
      ],
      "source": [
        "SpotifyHist.hist(figsize=(14,14), xrot=45)\n",
        "plt.show()"
      ]
    },
    {
      "cell_type": "markdown",
      "metadata": {
        "id": "Png--NKNigVz"
      },
      "source": [
        "**Qué buscar:**\n",
        "\n",
        "* Posibles valores atípicos, que pueden ser errores de medición.\n",
        "* Límites que no tienen sentido, como valores porcentuales > 100.\n",
        "\n",
        "En el histograma se observa que **Volume** tiene valores sesgados a la izquierda. Las variables **Dividens** y **Stock Splits** presentan valores en 'cero'."
      ]
    },
    {
      "cell_type": "markdown",
      "metadata": {
        "id": "kcoFF4zwi5Z3"
      },
      "source": [
        "### 2) Resumen estadístico de variables numéricas\n",
        "\n",
        "Se sacan estadísticas usando **describe()** que muestra un resumen estadístico de las variables numéricas."
      ]
    },
    {
      "cell_type": "code",
      "execution_count": 9,
      "metadata": {
        "colab": {
          "base_uri": "https://localhost:8080/",
          "height": 364
        },
        "id": "iMYq7Xjki6_0",
        "outputId": "98060c12-ceda-41f2-835a-ccf8becc5f8f"
      },
      "outputs": [
        {
          "data": {
            "text/html": [
              "<div>\n",
              "<style scoped>\n",
              "    .dataframe tbody tr th:only-of-type {\n",
              "        vertical-align: middle;\n",
              "    }\n",
              "\n",
              "    .dataframe tbody tr th {\n",
              "        vertical-align: top;\n",
              "    }\n",
              "\n",
              "    .dataframe thead th {\n",
              "        text-align: right;\n",
              "    }\n",
              "</style>\n",
              "<table border=\"1\" class=\"dataframe\">\n",
              "  <thead>\n",
              "    <tr style=\"text-align: right;\">\n",
              "      <th></th>\n",
              "      <th>Open</th>\n",
              "      <th>High</th>\n",
              "      <th>Low</th>\n",
              "      <th>Close</th>\n",
              "      <th>Volume</th>\n",
              "      <th>Dividends</th>\n",
              "      <th>Stock Splits</th>\n",
              "    </tr>\n",
              "  </thead>\n",
              "  <tbody>\n",
              "    <tr>\n",
              "      <th>count</th>\n",
              "      <td>928.000000</td>\n",
              "      <td>928.000000</td>\n",
              "      <td>928.000000</td>\n",
              "      <td>928.000000</td>\n",
              "      <td>9.280000e+02</td>\n",
              "      <td>928.0</td>\n",
              "      <td>928.0</td>\n",
              "    </tr>\n",
              "    <tr>\n",
              "      <th>mean</th>\n",
              "      <td>191.646390</td>\n",
              "      <td>195.605927</td>\n",
              "      <td>187.637602</td>\n",
              "      <td>191.667758</td>\n",
              "      <td>1.738210e+06</td>\n",
              "      <td>0.0</td>\n",
              "      <td>0.0</td>\n",
              "    </tr>\n",
              "    <tr>\n",
              "      <th>std</th>\n",
              "      <td>68.571980</td>\n",
              "      <td>70.010612</td>\n",
              "      <td>66.978685</td>\n",
              "      <td>68.475777</td>\n",
              "      <td>1.317899e+06</td>\n",
              "      <td>0.0</td>\n",
              "      <td>0.0</td>\n",
              "    </tr>\n",
              "    <tr>\n",
              "      <th>min</th>\n",
              "      <td>90.440002</td>\n",
              "      <td>97.070000</td>\n",
              "      <td>89.029999</td>\n",
              "      <td>91.940002</td>\n",
              "      <td>3.945000e+05</td>\n",
              "      <td>0.0</td>\n",
              "      <td>0.0</td>\n",
              "    </tr>\n",
              "    <tr>\n",
              "      <th>25%</th>\n",
              "      <td>136.515003</td>\n",
              "      <td>139.740002</td>\n",
              "      <td>134.285000</td>\n",
              "      <td>137.150002</td>\n",
              "      <td>1.050350e+06</td>\n",
              "      <td>0.0</td>\n",
              "      <td>0.0</td>\n",
              "    </tr>\n",
              "    <tr>\n",
              "      <th>50%</th>\n",
              "      <td>153.595001</td>\n",
              "      <td>156.855003</td>\n",
              "      <td>151.012497</td>\n",
              "      <td>154.339996</td>\n",
              "      <td>1.383300e+06</td>\n",
              "      <td>0.0</td>\n",
              "      <td>0.0</td>\n",
              "    </tr>\n",
              "    <tr>\n",
              "      <th>75%</th>\n",
              "      <td>249.719994</td>\n",
              "      <td>254.449997</td>\n",
              "      <td>245.337498</td>\n",
              "      <td>249.709995</td>\n",
              "      <td>1.987425e+06</td>\n",
              "      <td>0.0</td>\n",
              "      <td>0.0</td>\n",
              "    </tr>\n",
              "    <tr>\n",
              "      <th>max</th>\n",
              "      <td>360.910004</td>\n",
              "      <td>387.440002</td>\n",
              "      <td>354.178009</td>\n",
              "      <td>364.589996</td>\n",
              "      <td>1.404930e+07</td>\n",
              "      <td>0.0</td>\n",
              "      <td>0.0</td>\n",
              "    </tr>\n",
              "  </tbody>\n",
              "</table>\n",
              "</div>"
            ],
            "text/plain": [
              "             Open        High         Low       Close        Volume  \\\n",
              "count  928.000000  928.000000  928.000000  928.000000  9.280000e+02   \n",
              "mean   191.646390  195.605927  187.637602  191.667758  1.738210e+06   \n",
              "std     68.571980   70.010612   66.978685   68.475777  1.317899e+06   \n",
              "min     90.440002   97.070000   89.029999   91.940002  3.945000e+05   \n",
              "25%    136.515003  139.740002  134.285000  137.150002  1.050350e+06   \n",
              "50%    153.595001  156.855003  151.012497  154.339996  1.383300e+06   \n",
              "75%    249.719994  254.449997  245.337498  249.709995  1.987425e+06   \n",
              "max    360.910004  387.440002  354.178009  364.589996  1.404930e+07   \n",
              "\n",
              "       Dividends  Stock Splits  \n",
              "count      928.0         928.0  \n",
              "mean         0.0           0.0  \n",
              "std          0.0           0.0  \n",
              "min          0.0           0.0  \n",
              "25%          0.0           0.0  \n",
              "50%          0.0           0.0  \n",
              "75%          0.0           0.0  \n",
              "max          0.0           0.0  "
            ]
          },
          "execution_count": 9,
          "metadata": {},
          "output_type": "execute_result"
        }
      ],
      "source": [
        "SpotifyHist.describe()"
      ]
    },
    {
      "cell_type": "markdown",
      "metadata": {
        "id": "xM7pCf-VjHfX"
      },
      "source": [
        "* Se incluye un recuento, media, desviación, valor mínimo, valor máximo, percentil inferior (25%), 50% y percentil superior (75%).\n",
        "* Por defecto, el percentil 50 es lo mismo que la mediana.\n",
        "* Se observa que para cada variable, el recuento también ayuda a identificar variables con valores nulos o vacios. Estos son: **Dividends** y **Stock Splits**."
      ]
    },
    {
      "cell_type": "markdown",
      "metadata": {
        "id": "PcOVoZsvjToG"
      },
      "source": [
        "### 3) Diagramas para detectar posibles valores atípicos\n",
        "\n",
        "Para este tipo de gráficos se utiliza **Seaborn**, que permite generar diagramas de cajas para detectar valores atípicos."
      ]
    },
    {
      "cell_type": "code",
      "execution_count": 14,
      "metadata": {
        "colab": {
          "base_uri": "https://localhost:8080/",
          "height": 1000
        },
        "id": "ANZprC0sjhgu",
        "outputId": "034b1488-8f75-44fb-838b-8786a84dc350"
      },
      "outputs": [
        {
          "name": "stderr",
          "output_type": "stream",
          "text": [
            "c:\\Users\\johnc\\anaconda3\\envs\\IA\\lib\\site-packages\\seaborn\\_decorators.py:36: FutureWarning: Pass the following variable as a keyword arg: x. From version 0.12, the only valid positional argument will be `data`, and passing other arguments without an explicit keyword will result in an error or misinterpretation.\n",
            "  warnings.warn(\n"
          ]
        },
        {
          "data": {
            "image/png": "[encoded data removed]",
            "text/plain": [
              "<Figure size 432x288 with 1 Axes>"
            ]
          },
          "metadata": {
            "needs_background": "light"
          },
          "output_type": "display_data"
        },
        {
          "name": "stderr",
          "output_type": "stream",
          "text": [
            "c:\\Users\\johnc\\anaconda3\\envs\\IA\\lib\\site-packages\\seaborn\\_decorators.py:36: FutureWarning: Pass the following variable as a keyword arg: x. From version 0.12, the only valid positional argument will be `data`, and passing other arguments without an explicit keyword will result in an error or misinterpretation.\n",
            "  warnings.warn(\n"
          ]
        },
        {
          "data": {
            "image/png": "[encoded data removed]",
            "text/plain": [
              "<Figure size 432x288 with 1 Axes>"
            ]
          },
          "metadata": {
            "needs_background": "light"
          },
          "output_type": "display_data"
        },
        {
          "name": "stderr",
          "output_type": "stream",
          "text": [
            "c:\\Users\\johnc\\anaconda3\\envs\\IA\\lib\\site-packages\\seaborn\\_decorators.py:36: FutureWarning: Pass the following variable as a keyword arg: x. From version 0.12, the only valid positional argument will be `data`, and passing other arguments without an explicit keyword will result in an error or misinterpretation.\n",
            "  warnings.warn(\n"
          ]
        },
        {
          "data": {
            "image/png": "[encoded data removed]",
            "text/plain": [
              "<Figure size 432x288 with 1 Axes>"
            ]
          },
          "metadata": {
            "needs_background": "light"
          },
          "output_type": "display_data"
        },
        {
          "name": "stderr",
          "output_type": "stream",
          "text": [
            "c:\\Users\\johnc\\anaconda3\\envs\\IA\\lib\\site-packages\\seaborn\\_decorators.py:36: FutureWarning: Pass the following variable as a keyword arg: x. From version 0.12, the only valid positional argument will be `data`, and passing other arguments without an explicit keyword will result in an error or misinterpretation.\n",
            "  warnings.warn(\n"
          ]
        },
        {
          "data": {
            "image/png": "[encoded data removed]",
            "text/plain": [
              "<Figure size 432x288 with 1 Axes>"
            ]
          },
          "metadata": {
            "needs_background": "light"
          },
          "output_type": "display_data"
        },
        {
          "name": "stderr",
          "output_type": "stream",
          "text": [
            "c:\\Users\\johnc\\anaconda3\\envs\\IA\\lib\\site-packages\\seaborn\\_decorators.py:36: FutureWarning: Pass the following variable as a keyword arg: x. From version 0.12, the only valid positional argument will be `data`, and passing other arguments without an explicit keyword will result in an error or misinterpretation.\n",
            "  warnings.warn(\n"
          ]
        },
        {
          "data": {
            "image/png": "[encoded data removed]",
            "text/plain": [
              "<Figure size 432x288 with 1 Axes>"
            ]
          },
          "metadata": {
            "needs_background": "light"
          },
          "output_type": "display_data"
        }
      ],
      "source": [
        "VariablesValoresAtipicos = ['Open', 'High', 'Low', 'Close', 'Volume']\n",
        "for col in VariablesValoresAtipicos:\n",
        "  sns.boxplot(col, data=SpotifyHist)\n",
        "  plt.show()"
      ]
    },
    {
      "cell_type": "markdown",
      "metadata": {
        "id": "l8cl8XN6oq1-"
      },
      "source": [
        "Se observa que en Volume se tienen valores atípicos que están lejos de los otros valores."
      ]
    },
    {
      "cell_type": "markdown",
      "metadata": {
        "id": "44ZG1kAGmInT"
      },
      "source": [
        "### 4. Plot\n",
        "\n",
        "* Para este tipo de gráficos se utiliza Seaborn, que permite generar un histograma para variables categóricas. Cada barra en el gráfico de conteo representa una clase.\n",
        "* Se crea un bucle para el conteo y distribución de las clases. La sentencia select_dtypes(include = ’object’) selecciona las columnas categóricas con sus valores y las muestra.\n",
        "* Se incluye también If para elegir solo las tres columnas con 10 o menos clases usando series.**nunique() < 10**.\n"
      ]
    },
    {
      "cell_type": "code",
      "execution_count": 15,
      "metadata": {
        "colab": {
          "base_uri": "https://localhost:8080/",
          "height": 803
        },
        "id": "g2Yd8brJnSl1",
        "outputId": "9c450085-5f8c-46a2-8bbc-3ebe4f67de2e"
      },
      "outputs": [
        {
          "data": {
            "image/png": "[encoded data removed]",
            "text/plain": [
              "<Figure size 1440x360 with 1 Axes>"
            ]
          },
          "metadata": {
            "needs_background": "light"
          },
          "output_type": "display_data"
        }
      ],
      "source": [
        "plt.figure(figsize=(20, 5))\n",
        "plt.plot(SpotifyHist['Open'], color='red', marker='+', label='Open')\n",
        "plt.plot(SpotifyHist['Close'], color='blue', marker='+', label='Close')\n",
        "plt.xlabel('Fecha')\n",
        "plt.ylabel('Precio de las acciones')\n",
        "plt.title('Spotify')\n",
        "plt.grid(True)\n",
        "plt.legend()\n",
        "plt.show()"
      ]
    },
    {
      "cell_type": "markdown",
      "metadata": {
        "id": "koHr8LNKIwc8"
      },
      "source": [
        "## Paso 4: Identificación de relaciones entre pares variables\n",
        "\n",
        "Una matriz de correlaciones es útil para analizar la relación entre las variables numéricas.\n",
        "Se emplea la función corr()"
      ]
    },
    {
      "cell_type": "code",
      "execution_count": 16,
      "metadata": {
        "colab": {
          "base_uri": "https://localhost:8080/",
          "height": 501
        },
        "id": "RT2Uqg7c0K2U",
        "outputId": "d798df13-59d5-4fd9-a5c9-00dcda4e7596"
      },
      "outputs": [
        {
          "data": {
            "text/html": [
              "<div>\n",
              "<style scoped>\n",
              "    .dataframe tbody tr th:only-of-type {\n",
              "        vertical-align: middle;\n",
              "    }\n",
              "\n",
              "    .dataframe tbody tr th {\n",
              "        vertical-align: top;\n",
              "    }\n",
              "\n",
              "    .dataframe thead th {\n",
              "        text-align: right;\n",
              "    }\n",
              "</style>\n",
              "<table border=\"1\" class=\"dataframe\">\n",
              "  <thead>\n",
              "    <tr style=\"text-align: right;\">\n",
              "      <th></th>\n",
              "      <th>Open</th>\n",
              "      <th>High</th>\n",
              "      <th>Low</th>\n",
              "      <th>Close</th>\n",
              "      <th>Volume</th>\n",
              "      <th>Dividends</th>\n",
              "      <th>Stock Splits</th>\n",
              "    </tr>\n",
              "  </thead>\n",
              "  <tbody>\n",
              "    <tr>\n",
              "      <th>Open</th>\n",
              "      <td>1.000000</td>\n",
              "      <td>0.998377</td>\n",
              "      <td>0.998518</td>\n",
              "      <td>0.996630</td>\n",
              "      <td>-0.025760</td>\n",
              "      <td>NaN</td>\n",
              "      <td>NaN</td>\n",
              "    </tr>\n",
              "    <tr>\n",
              "      <th>High</th>\n",
              "      <td>0.998377</td>\n",
              "      <td>1.000000</td>\n",
              "      <td>0.998191</td>\n",
              "      <td>0.998539</td>\n",
              "      <td>-0.003286</td>\n",
              "      <td>NaN</td>\n",
              "      <td>NaN</td>\n",
              "    </tr>\n",
              "    <tr>\n",
              "      <th>Low</th>\n",
              "      <td>0.998518</td>\n",
              "      <td>0.998191</td>\n",
              "      <td>1.000000</td>\n",
              "      <td>0.998482</td>\n",
              "      <td>-0.035307</td>\n",
              "      <td>NaN</td>\n",
              "      <td>NaN</td>\n",
              "    </tr>\n",
              "    <tr>\n",
              "      <th>Close</th>\n",
              "      <td>0.996630</td>\n",
              "      <td>0.998539</td>\n",
              "      <td>0.998482</td>\n",
              "      <td>1.000000</td>\n",
              "      <td>-0.016446</td>\n",
              "      <td>NaN</td>\n",
              "      <td>NaN</td>\n",
              "    </tr>\n",
              "    <tr>\n",
              "      <th>Volume</th>\n",
              "      <td>-0.025760</td>\n",
              "      <td>-0.003286</td>\n",
              "      <td>-0.035307</td>\n",
              "      <td>-0.016446</td>\n",
              "      <td>1.000000</td>\n",
              "      <td>NaN</td>\n",
              "      <td>NaN</td>\n",
              "    </tr>\n",
              "    <tr>\n",
              "      <th>Dividends</th>\n",
              "      <td>NaN</td>\n",
              "      <td>NaN</td>\n",
              "      <td>NaN</td>\n",
              "      <td>NaN</td>\n",
              "      <td>NaN</td>\n",
              "      <td>NaN</td>\n",
              "      <td>NaN</td>\n",
              "    </tr>\n",
              "    <tr>\n",
              "      <th>Stock Splits</th>\n",
              "      <td>NaN</td>\n",
              "      <td>NaN</td>\n",
              "      <td>NaN</td>\n",
              "      <td>NaN</td>\n",
              "      <td>NaN</td>\n",
              "      <td>NaN</td>\n",
              "      <td>NaN</td>\n",
              "    </tr>\n",
              "  </tbody>\n",
              "</table>\n",
              "</div>"
            ],
            "text/plain": [
              "                  Open      High       Low     Close    Volume  Dividends  \\\n",
              "Open          1.000000  0.998377  0.998518  0.996630 -0.025760        NaN   \n",
              "High          0.998377  1.000000  0.998191  0.998539 -0.003286        NaN   \n",
              "Low           0.998518  0.998191  1.000000  0.998482 -0.035307        NaN   \n",
              "Close         0.996630  0.998539  0.998482  1.000000 -0.016446        NaN   \n",
              "Volume       -0.025760 -0.003286 -0.035307 -0.016446  1.000000        NaN   \n",
              "Dividends          NaN       NaN       NaN       NaN       NaN        NaN   \n",
              "Stock Splits       NaN       NaN       NaN       NaN       NaN        NaN   \n",
              "\n",
              "              Stock Splits  \n",
              "Open                   NaN  \n",
              "High                   NaN  \n",
              "Low                    NaN  \n",
              "Close                  NaN  \n",
              "Volume                 NaN  \n",
              "Dividends              NaN  \n",
              "Stock Splits           NaN  "
            ]
          },
          "execution_count": 16,
          "metadata": {},
          "output_type": "execute_result"
        }
      ],
      "source": [
        "SpotifyHist.corr()"
      ]
    },
    {
      "cell_type": "code",
      "execution_count": 17,
      "metadata": {
        "colab": {
          "base_uri": "https://localhost:8080/",
          "height": 489
        },
        "id": "ZYoVHKJENzJ4",
        "outputId": "f073f3b6-0e9f-4044-abcd-f5ddd0e86a78"
      },
      "outputs": [
        {
          "data": {
            "image/png": "[encoded data removed]",
            "text/plain": [
              "<Figure size 1008x504 with 2 Axes>"
            ]
          },
          "metadata": {
            "needs_background": "light"
          },
          "output_type": "display_data"
        }
      ],
      "source": [
        "plt.figure(figsize=(14,7))\n",
        "MatrizInf = np.triu(SpotifyHist.corr())\n",
        "sns.heatmap(SpotifyHist.corr(), cmap='RdBu_r', annot=True, mask=MatrizInf)\n",
        "plt.show()"
      ]
    },
    {
      "cell_type": "markdown",
      "metadata": {
        "id": "O3EFccfqTUz8"
      },
      "source": [
        "* Una correlación es un valor entre -1 y 1 que equivale a qué tan cerca se mueven simultáneamente los valores de dos variables. \n",
        "* Una correlación positiva significa que a medida que una característica aumenta, la otra también aumenta.\n",
        "* Una correlación negativa significa que a medida que una característica disminuye, la otra también disminuye. \n",
        "* Las correlaciones cercanas a 0 indican una relación débil, mientras que las más cercanas a -1 o 1 significan una relación fuerte.\n"
      ]
    },
    {
      "cell_type": "markdown",
      "metadata": {
        "id": "k_mmsrjsxJmo"
      },
      "source": [
        "# Análisis para Facebook\n",
        "A continuación, se incluye el análisis de otras fuentes de datos:"
      ]
    },
    {
      "cell_type": "code",
      "execution_count": 18,
      "metadata": {
        "id": "lqDUmbJsxJmo"
      },
      "outputs": [],
      "source": [
        "# Para Facebook\n",
        "DataFacebook = yf.Ticker('META')"
      ]
    },
    {
      "cell_type": "code",
      "execution_count": 19,
      "metadata": {
        "id": "x_QiotjaxJmp",
        "outputId": "04833d16-d8d3-4354-b558-9b656653d12c"
      },
      "outputs": [
        {
          "data": {
            "text/html": [
              "<div>\n",
              "<style scoped>\n",
              "    .dataframe tbody tr th:only-of-type {\n",
              "        vertical-align: middle;\n",
              "    }\n",
              "\n",
              "    .dataframe tbody tr th {\n",
              "        vertical-align: top;\n",
              "    }\n",
              "\n",
              "    .dataframe thead th {\n",
              "        text-align: right;\n",
              "    }\n",
              "</style>\n",
              "<table border=\"1\" class=\"dataframe\">\n",
              "  <thead>\n",
              "    <tr style=\"text-align: right;\">\n",
              "      <th></th>\n",
              "      <th>Open</th>\n",
              "      <th>High</th>\n",
              "      <th>Low</th>\n",
              "      <th>Close</th>\n",
              "      <th>Volume</th>\n",
              "      <th>Dividends</th>\n",
              "      <th>Stock Splits</th>\n",
              "    </tr>\n",
              "    <tr>\n",
              "      <th>Date</th>\n",
              "      <th></th>\n",
              "      <th></th>\n",
              "      <th></th>\n",
              "      <th></th>\n",
              "      <th></th>\n",
              "      <th></th>\n",
              "      <th></th>\n",
              "    </tr>\n",
              "  </thead>\n",
              "  <tbody>\n",
              "    <tr>\n",
              "      <th>2019-01-02</th>\n",
              "      <td>128.990005</td>\n",
              "      <td>137.509995</td>\n",
              "      <td>128.559998</td>\n",
              "      <td>135.679993</td>\n",
              "      <td>28146200</td>\n",
              "      <td>0</td>\n",
              "      <td>0</td>\n",
              "    </tr>\n",
              "    <tr>\n",
              "      <th>2019-01-03</th>\n",
              "      <td>134.690002</td>\n",
              "      <td>137.169998</td>\n",
              "      <td>131.119995</td>\n",
              "      <td>131.740005</td>\n",
              "      <td>22717900</td>\n",
              "      <td>0</td>\n",
              "      <td>0</td>\n",
              "    </tr>\n",
              "    <tr>\n",
              "      <th>2019-01-04</th>\n",
              "      <td>134.009995</td>\n",
              "      <td>138.000000</td>\n",
              "      <td>133.750000</td>\n",
              "      <td>137.949997</td>\n",
              "      <td>29002100</td>\n",
              "      <td>0</td>\n",
              "      <td>0</td>\n",
              "    </tr>\n",
              "    <tr>\n",
              "      <th>2019-01-07</th>\n",
              "      <td>137.559998</td>\n",
              "      <td>138.869995</td>\n",
              "      <td>135.910004</td>\n",
              "      <td>138.050003</td>\n",
              "      <td>20089300</td>\n",
              "      <td>0</td>\n",
              "      <td>0</td>\n",
              "    </tr>\n",
              "    <tr>\n",
              "      <th>2019-01-08</th>\n",
              "      <td>139.889999</td>\n",
              "      <td>143.139999</td>\n",
              "      <td>139.539993</td>\n",
              "      <td>142.529999</td>\n",
              "      <td>26263800</td>\n",
              "      <td>0</td>\n",
              "      <td>0</td>\n",
              "    </tr>\n",
              "    <tr>\n",
              "      <th>...</th>\n",
              "      <td>...</td>\n",
              "      <td>...</td>\n",
              "      <td>...</td>\n",
              "      <td>...</td>\n",
              "      <td>...</td>\n",
              "      <td>...</td>\n",
              "      <td>...</td>\n",
              "    </tr>\n",
              "    <tr>\n",
              "      <th>2022-09-02</th>\n",
              "      <td>167.449997</td>\n",
              "      <td>167.929993</td>\n",
              "      <td>159.220001</td>\n",
              "      <td>160.320007</td>\n",
              "      <td>22609100</td>\n",
              "      <td>0</td>\n",
              "      <td>0</td>\n",
              "    </tr>\n",
              "    <tr>\n",
              "      <th>2022-09-06</th>\n",
              "      <td>160.100006</td>\n",
              "      <td>161.690002</td>\n",
              "      <td>157.690002</td>\n",
              "      <td>158.539993</td>\n",
              "      <td>19339800</td>\n",
              "      <td>0</td>\n",
              "      <td>0</td>\n",
              "    </tr>\n",
              "    <tr>\n",
              "      <th>2022-09-07</th>\n",
              "      <td>157.759995</td>\n",
              "      <td>160.960007</td>\n",
              "      <td>156.809998</td>\n",
              "      <td>160.389999</td>\n",
              "      <td>16831200</td>\n",
              "      <td>0</td>\n",
              "      <td>0</td>\n",
              "    </tr>\n",
              "    <tr>\n",
              "      <th>2022-09-08</th>\n",
              "      <td>158.710007</td>\n",
              "      <td>162.229996</td>\n",
              "      <td>157.740005</td>\n",
              "      <td>162.059998</td>\n",
              "      <td>22530800</td>\n",
              "      <td>0</td>\n",
              "      <td>0</td>\n",
              "    </tr>\n",
              "    <tr>\n",
              "      <th>2022-09-09</th>\n",
              "      <td>158.710007</td>\n",
              "      <td>169.490005</td>\n",
              "      <td>163.020004</td>\n",
              "      <td>169.149994</td>\n",
              "      <td>22129802</td>\n",
              "      <td>0</td>\n",
              "      <td>0</td>\n",
              "    </tr>\n",
              "  </tbody>\n",
              "</table>\n",
              "<p>930 rows × 7 columns</p>\n",
              "</div>"
            ],
            "text/plain": [
              "                  Open        High         Low       Close    Volume  \\\n",
              "Date                                                                   \n",
              "2019-01-02  128.990005  137.509995  128.559998  135.679993  28146200   \n",
              "2019-01-03  134.690002  137.169998  131.119995  131.740005  22717900   \n",
              "2019-01-04  134.009995  138.000000  133.750000  137.949997  29002100   \n",
              "2019-01-07  137.559998  138.869995  135.910004  138.050003  20089300   \n",
              "2019-01-08  139.889999  143.139999  139.539993  142.529999  26263800   \n",
              "...                ...         ...         ...         ...       ...   \n",
              "2022-09-02  167.449997  167.929993  159.220001  160.320007  22609100   \n",
              "2022-09-06  160.100006  161.690002  157.690002  158.539993  19339800   \n",
              "2022-09-07  157.759995  160.960007  156.809998  160.389999  16831200   \n",
              "2022-09-08  158.710007  162.229996  157.740005  162.059998  22530800   \n",
              "2022-09-09  158.710007  169.490005  163.020004  169.149994  22129802   \n",
              "\n",
              "            Dividends  Stock Splits  \n",
              "Date                                 \n",
              "2019-01-02          0             0  \n",
              "2019-01-03          0             0  \n",
              "2019-01-04          0             0  \n",
              "2019-01-07          0             0  \n",
              "2019-01-08          0             0  \n",
              "...               ...           ...  \n",
              "2022-09-02          0             0  \n",
              "2022-09-06          0             0  \n",
              "2022-09-07          0             0  \n",
              "2022-09-08          0             0  \n",
              "2022-09-09          0             0  \n",
              "\n",
              "[930 rows x 7 columns]"
            ]
          },
          "execution_count": 19,
          "metadata": {},
          "output_type": "execute_result"
        }
      ],
      "source": [
        "FacebookHist = DataFacebook.history(start = '2019-1-1', end = today, interval='1d')\n",
        "FacebookHist"
      ]
    },
    {
      "cell_type": "code",
      "execution_count": 20,
      "metadata": {
        "id": "2S2-Hg8bxJmp",
        "outputId": "f4a17347-f799-4780-c245-983d41db552a"
      },
      "outputs": [
        {
          "data": {
            "image/png": "[encoded data removed]",
            "text/plain": [
              "<Figure size 1440x360 with 1 Axes>"
            ]
          },
          "metadata": {
            "needs_background": "light"
          },
          "output_type": "display_data"
        }
      ],
      "source": [
        "plt.figure(figsize=(20, 5))\n",
        "plt.plot(FacebookHist['Open'], color='red', marker='+', label='Open')\n",
        "plt.plot(FacebookHist['Close'], color='blue', marker='+', label='Close')\n",
        "plt.xlabel('Fecha')\n",
        "plt.ylabel('Precio de las acciones')\n",
        "plt.title('Facebook')\n",
        "plt.grid(True)\n",
        "plt.legend()\n",
        "plt.show()"
      ]
    },
    {
      "cell_type": "markdown",
      "metadata": {},
      "source": [
        "# Análisis para Amazon"
      ]
    },
    {
      "cell_type": "code",
      "execution_count": 21,
      "metadata": {
        "id": "W1tSM7WOxJmp"
      },
      "outputs": [],
      "source": [
        "# Para Amazon\n",
        "DataAmazon = yf.Ticker('AMZN')"
      ]
    },
    {
      "cell_type": "code",
      "execution_count": 22,
      "metadata": {
        "id": "7F7Tnv7sxJmp",
        "outputId": "a0ad807e-e5c6-4802-9076-589643ebdcf4"
      },
      "outputs": [
        {
          "data": {
            "text/html": [
              "<div>\n",
              "<style scoped>\n",
              "    .dataframe tbody tr th:only-of-type {\n",
              "        vertical-align: middle;\n",
              "    }\n",
              "\n",
              "    .dataframe tbody tr th {\n",
              "        vertical-align: top;\n",
              "    }\n",
              "\n",
              "    .dataframe thead th {\n",
              "        text-align: right;\n",
              "    }\n",
              "</style>\n",
              "<table border=\"1\" class=\"dataframe\">\n",
              "  <thead>\n",
              "    <tr style=\"text-align: right;\">\n",
              "      <th></th>\n",
              "      <th>Open</th>\n",
              "      <th>High</th>\n",
              "      <th>Low</th>\n",
              "      <th>Close</th>\n",
              "      <th>Volume</th>\n",
              "      <th>Dividends</th>\n",
              "      <th>Stock Splits</th>\n",
              "    </tr>\n",
              "    <tr>\n",
              "      <th>Date</th>\n",
              "      <th></th>\n",
              "      <th></th>\n",
              "      <th></th>\n",
              "      <th></th>\n",
              "      <th></th>\n",
              "      <th></th>\n",
              "      <th></th>\n",
              "    </tr>\n",
              "  </thead>\n",
              "  <tbody>\n",
              "    <tr>\n",
              "      <th>2019-01-02</th>\n",
              "      <td>73.260002</td>\n",
              "      <td>77.667999</td>\n",
              "      <td>73.046501</td>\n",
              "      <td>76.956497</td>\n",
              "      <td>159662000</td>\n",
              "      <td>0</td>\n",
              "      <td>0.0</td>\n",
              "    </tr>\n",
              "    <tr>\n",
              "      <th>2019-01-03</th>\n",
              "      <td>76.000504</td>\n",
              "      <td>76.900002</td>\n",
              "      <td>74.855499</td>\n",
              "      <td>75.014000</td>\n",
              "      <td>139512000</td>\n",
              "      <td>0</td>\n",
              "      <td>0.0</td>\n",
              "    </tr>\n",
              "    <tr>\n",
              "      <th>2019-01-04</th>\n",
              "      <td>76.500000</td>\n",
              "      <td>79.699997</td>\n",
              "      <td>75.915497</td>\n",
              "      <td>78.769501</td>\n",
              "      <td>183652000</td>\n",
              "      <td>0</td>\n",
              "      <td>0.0</td>\n",
              "    </tr>\n",
              "    <tr>\n",
              "      <th>2019-01-07</th>\n",
              "      <td>80.115501</td>\n",
              "      <td>81.727997</td>\n",
              "      <td>79.459503</td>\n",
              "      <td>81.475502</td>\n",
              "      <td>159864000</td>\n",
              "      <td>0</td>\n",
              "      <td>0.0</td>\n",
              "    </tr>\n",
              "    <tr>\n",
              "      <th>2019-01-08</th>\n",
              "      <td>83.234497</td>\n",
              "      <td>83.830498</td>\n",
              "      <td>80.830498</td>\n",
              "      <td>82.829002</td>\n",
              "      <td>177628000</td>\n",
              "      <td>0</td>\n",
              "      <td>0.0</td>\n",
              "    </tr>\n",
              "    <tr>\n",
              "      <th>...</th>\n",
              "      <td>...</td>\n",
              "      <td>...</td>\n",
              "      <td>...</td>\n",
              "      <td>...</td>\n",
              "      <td>...</td>\n",
              "      <td>...</td>\n",
              "      <td>...</td>\n",
              "    </tr>\n",
              "    <tr>\n",
              "      <th>2022-09-02</th>\n",
              "      <td>129.500000</td>\n",
              "      <td>131.380005</td>\n",
              "      <td>126.389999</td>\n",
              "      <td>127.510002</td>\n",
              "      <td>57378500</td>\n",
              "      <td>0</td>\n",
              "      <td>0.0</td>\n",
              "    </tr>\n",
              "    <tr>\n",
              "      <th>2022-09-06</th>\n",
              "      <td>127.919998</td>\n",
              "      <td>128.619995</td>\n",
              "      <td>124.739998</td>\n",
              "      <td>126.110001</td>\n",
              "      <td>43888600</td>\n",
              "      <td>0</td>\n",
              "      <td>0.0</td>\n",
              "    </tr>\n",
              "    <tr>\n",
              "      <th>2022-09-07</th>\n",
              "      <td>126.120003</td>\n",
              "      <td>129.820007</td>\n",
              "      <td>125.400002</td>\n",
              "      <td>129.479996</td>\n",
              "      <td>47900300</td>\n",
              "      <td>0</td>\n",
              "      <td>0.0</td>\n",
              "    </tr>\n",
              "    <tr>\n",
              "      <th>2022-09-08</th>\n",
              "      <td>127.720001</td>\n",
              "      <td>130.279999</td>\n",
              "      <td>127.099998</td>\n",
              "      <td>129.820007</td>\n",
              "      <td>43988500</td>\n",
              "      <td>0</td>\n",
              "      <td>0.0</td>\n",
              "    </tr>\n",
              "    <tr>\n",
              "      <th>2022-09-09</th>\n",
              "      <td>130.910004</td>\n",
              "      <td>133.690002</td>\n",
              "      <td>130.759995</td>\n",
              "      <td>133.270004</td>\n",
              "      <td>49365667</td>\n",
              "      <td>0</td>\n",
              "      <td>0.0</td>\n",
              "    </tr>\n",
              "  </tbody>\n",
              "</table>\n",
              "<p>930 rows × 7 columns</p>\n",
              "</div>"
            ],
            "text/plain": [
              "                  Open        High         Low       Close     Volume  \\\n",
              "Date                                                                    \n",
              "2019-01-02   73.260002   77.667999   73.046501   76.956497  159662000   \n",
              "2019-01-03   76.000504   76.900002   74.855499   75.014000  139512000   \n",
              "2019-01-04   76.500000   79.699997   75.915497   78.769501  183652000   \n",
              "2019-01-07   80.115501   81.727997   79.459503   81.475502  159864000   \n",
              "2019-01-08   83.234497   83.830498   80.830498   82.829002  177628000   \n",
              "...                ...         ...         ...         ...        ...   \n",
              "2022-09-02  129.500000  131.380005  126.389999  127.510002   57378500   \n",
              "2022-09-06  127.919998  128.619995  124.739998  126.110001   43888600   \n",
              "2022-09-07  126.120003  129.820007  125.400002  129.479996   47900300   \n",
              "2022-09-08  127.720001  130.279999  127.099998  129.820007   43988500   \n",
              "2022-09-09  130.910004  133.690002  130.759995  133.270004   49365667   \n",
              "\n",
              "            Dividends  Stock Splits  \n",
              "Date                                 \n",
              "2019-01-02          0           0.0  \n",
              "2019-01-03          0           0.0  \n",
              "2019-01-04          0           0.0  \n",
              "2019-01-07          0           0.0  \n",
              "2019-01-08          0           0.0  \n",
              "...               ...           ...  \n",
              "2022-09-02          0           0.0  \n",
              "2022-09-06          0           0.0  \n",
              "2022-09-07          0           0.0  \n",
              "2022-09-08          0           0.0  \n",
              "2022-09-09          0           0.0  \n",
              "\n",
              "[930 rows x 7 columns]"
            ]
          },
          "execution_count": 22,
          "metadata": {},
          "output_type": "execute_result"
        }
      ],
      "source": [
        "AmazonHist = DataAmazon.history(start = '2019-1-1', end = today, interval='1d')\n",
        "AmazonHist"
      ]
    },
    {
      "cell_type": "code",
      "execution_count": 23,
      "metadata": {
        "id": "0AcJlZi8xJmp",
        "outputId": "2c06adf3-f656-4e65-911a-0db1c8decc63"
      },
      "outputs": [
        {
          "data": {
            "image/png": "[encoded data removed]",
            "text/plain": [
              "<Figure size 1440x360 with 1 Axes>"
            ]
          },
          "metadata": {
            "needs_background": "light"
          },
          "output_type": "display_data"
        }
      ],
      "source": [
        "plt.figure(figsize=(20, 5))\n",
        "plt.plot(AmazonHist['Open'], color='red', marker='+', label='Open')\n",
        "plt.plot(AmazonHist['Close'], color='blue', marker='+', label='Close')\n",
        "plt.xlabel('Fecha')\n",
        "plt.ylabel('Precio de las acciones')\n",
        "plt.title('Amazon')\n",
        "plt.grid(True)\n",
        "plt.legend()\n",
        "plt.show()"
      ]
    },
    {
      "cell_type": "markdown",
      "metadata": {},
      "source": [
        "# Análisis para Aeroméxico"
      ]
    },
    {
      "cell_type": "code",
      "execution_count": 24,
      "metadata": {
        "id": "tYkbm_upxJmq"
      },
      "outputs": [],
      "source": [
        "# Para Aeroméxico\n",
        "DataAeromex = yf.Ticker('AEROMEX.MX')"
      ]
    },
    {
      "cell_type": "code",
      "execution_count": 25,
      "metadata": {
        "id": "e6yymXcQxJmq",
        "outputId": "48be1fe7-2b6e-42bd-fe5f-75ebc1c9a9e7"
      },
      "outputs": [
        {
          "data": {
            "text/html": [
              "<div>\n",
              "<style scoped>\n",
              "    .dataframe tbody tr th:only-of-type {\n",
              "        vertical-align: middle;\n",
              "    }\n",
              "\n",
              "    .dataframe tbody tr th {\n",
              "        vertical-align: top;\n",
              "    }\n",
              "\n",
              "    .dataframe thead th {\n",
              "        text-align: right;\n",
              "    }\n",
              "</style>\n",
              "<table border=\"1\" class=\"dataframe\">\n",
              "  <thead>\n",
              "    <tr style=\"text-align: right;\">\n",
              "      <th></th>\n",
              "      <th>Open</th>\n",
              "      <th>High</th>\n",
              "      <th>Low</th>\n",
              "      <th>Close</th>\n",
              "      <th>Volume</th>\n",
              "      <th>Dividends</th>\n",
              "      <th>Stock Splits</th>\n",
              "    </tr>\n",
              "    <tr>\n",
              "      <th>Date</th>\n",
              "      <th></th>\n",
              "      <th></th>\n",
              "      <th></th>\n",
              "      <th></th>\n",
              "      <th></th>\n",
              "      <th></th>\n",
              "      <th></th>\n",
              "    </tr>\n",
              "  </thead>\n",
              "  <tbody>\n",
              "    <tr>\n",
              "      <th>2019-01-02</th>\n",
              "      <td>22.000000</td>\n",
              "      <td>23.080000</td>\n",
              "      <td>22.000000</td>\n",
              "      <td>22.530001</td>\n",
              "      <td>54890</td>\n",
              "      <td>0</td>\n",
              "      <td>0</td>\n",
              "    </tr>\n",
              "    <tr>\n",
              "      <th>2019-01-03</th>\n",
              "      <td>22.500000</td>\n",
              "      <td>23.049999</td>\n",
              "      <td>22.500000</td>\n",
              "      <td>22.770000</td>\n",
              "      <td>88098</td>\n",
              "      <td>0</td>\n",
              "      <td>0</td>\n",
              "    </tr>\n",
              "    <tr>\n",
              "      <th>2019-01-04</th>\n",
              "      <td>23.430000</td>\n",
              "      <td>23.840000</td>\n",
              "      <td>22.780001</td>\n",
              "      <td>23.160000</td>\n",
              "      <td>69569</td>\n",
              "      <td>0</td>\n",
              "      <td>0</td>\n",
              "    </tr>\n",
              "    <tr>\n",
              "      <th>2019-01-07</th>\n",
              "      <td>23.180000</td>\n",
              "      <td>24.500000</td>\n",
              "      <td>23.100000</td>\n",
              "      <td>23.270000</td>\n",
              "      <td>160120</td>\n",
              "      <td>0</td>\n",
              "      <td>0</td>\n",
              "    </tr>\n",
              "    <tr>\n",
              "      <th>2019-01-08</th>\n",
              "      <td>23.219999</td>\n",
              "      <td>23.870001</td>\n",
              "      <td>22.820000</td>\n",
              "      <td>23.230000</td>\n",
              "      <td>190421</td>\n",
              "      <td>0</td>\n",
              "      <td>0</td>\n",
              "    </tr>\n",
              "    <tr>\n",
              "      <th>...</th>\n",
              "      <td>...</td>\n",
              "      <td>...</td>\n",
              "      <td>...</td>\n",
              "      <td>...</td>\n",
              "      <td>...</td>\n",
              "      <td>...</td>\n",
              "      <td>...</td>\n",
              "    </tr>\n",
              "    <tr>\n",
              "      <th>2022-09-02</th>\n",
              "      <td>198.979996</td>\n",
              "      <td>198.979996</td>\n",
              "      <td>198.979996</td>\n",
              "      <td>198.979996</td>\n",
              "      <td>0</td>\n",
              "      <td>0</td>\n",
              "      <td>0</td>\n",
              "    </tr>\n",
              "    <tr>\n",
              "      <th>2022-09-05</th>\n",
              "      <td>198.979996</td>\n",
              "      <td>198.979996</td>\n",
              "      <td>198.979996</td>\n",
              "      <td>198.979996</td>\n",
              "      <td>0</td>\n",
              "      <td>0</td>\n",
              "      <td>0</td>\n",
              "    </tr>\n",
              "    <tr>\n",
              "      <th>2022-09-06</th>\n",
              "      <td>192.470001</td>\n",
              "      <td>192.470001</td>\n",
              "      <td>191.460007</td>\n",
              "      <td>191.460007</td>\n",
              "      <td>567</td>\n",
              "      <td>0</td>\n",
              "      <td>0</td>\n",
              "    </tr>\n",
              "    <tr>\n",
              "      <th>2022-09-07</th>\n",
              "      <td>191.500000</td>\n",
              "      <td>193.029999</td>\n",
              "      <td>191.500000</td>\n",
              "      <td>193.029999</td>\n",
              "      <td>945</td>\n",
              "      <td>0</td>\n",
              "      <td>0</td>\n",
              "    </tr>\n",
              "    <tr>\n",
              "      <th>2022-09-08</th>\n",
              "      <td>193.029999</td>\n",
              "      <td>193.029999</td>\n",
              "      <td>193.029999</td>\n",
              "      <td>193.029999</td>\n",
              "      <td>0</td>\n",
              "      <td>0</td>\n",
              "      <td>0</td>\n",
              "    </tr>\n",
              "  </tbody>\n",
              "</table>\n",
              "<p>931 rows × 7 columns</p>\n",
              "</div>"
            ],
            "text/plain": [
              "                  Open        High         Low       Close  Volume  Dividends  \\\n",
              "Date                                                                            \n",
              "2019-01-02   22.000000   23.080000   22.000000   22.530001   54890          0   \n",
              "2019-01-03   22.500000   23.049999   22.500000   22.770000   88098          0   \n",
              "2019-01-04   23.430000   23.840000   22.780001   23.160000   69569          0   \n",
              "2019-01-07   23.180000   24.500000   23.100000   23.270000  160120          0   \n",
              "2019-01-08   23.219999   23.870001   22.820000   23.230000  190421          0   \n",
              "...                ...         ...         ...         ...     ...        ...   \n",
              "2022-09-02  198.979996  198.979996  198.979996  198.979996       0          0   \n",
              "2022-09-05  198.979996  198.979996  198.979996  198.979996       0          0   \n",
              "2022-09-06  192.470001  192.470001  191.460007  191.460007     567          0   \n",
              "2022-09-07  191.500000  193.029999  191.500000  193.029999     945          0   \n",
              "2022-09-08  193.029999  193.029999  193.029999  193.029999       0          0   \n",
              "\n",
              "            Stock Splits  \n",
              "Date                      \n",
              "2019-01-02             0  \n",
              "2019-01-03             0  \n",
              "2019-01-04             0  \n",
              "2019-01-07             0  \n",
              "2019-01-08             0  \n",
              "...                  ...  \n",
              "2022-09-02             0  \n",
              "2022-09-05             0  \n",
              "2022-09-06             0  \n",
              "2022-09-07             0  \n",
              "2022-09-08             0  \n",
              "\n",
              "[931 rows x 7 columns]"
            ]
          },
          "execution_count": 25,
          "metadata": {},
          "output_type": "execute_result"
        }
      ],
      "source": [
        "AeromexHist = DataAeromex.history(start = '2019-1-1', end = today, interval='1d')\n",
        "AeromexHist"
      ]
    },
    {
      "cell_type": "code",
      "execution_count": 26,
      "metadata": {
        "id": "HZwxKbayxJmq",
        "outputId": "655403d8-fafd-4345-9910-9b3612d0c7a1"
      },
      "outputs": [
        {
          "data": {
            "image/png": "[encoded data removed]",
            "text/plain": [
              "<Figure size 1440x360 with 1 Axes>"
            ]
          },
          "metadata": {
            "needs_background": "light"
          },
          "output_type": "display_data"
        }
      ],
      "source": [
        "plt.figure(figsize=(20, 5))\n",
        "plt.plot(AeromexHist['Open'], color='red', marker='+', label='Open')\n",
        "plt.plot(AeromexHist['Close'], color='blue', marker='+', label='Close')\n",
        "plt.xlabel('Fecha')\n",
        "plt.ylabel('Precio de las acciones')\n",
        "plt.title('Aeroméxico')\n",
        "plt.grid(True)\n",
        "plt.legend()\n",
        "plt.show()"
      ]
    },
    {
      "cell_type": "markdown",
      "metadata": {
        "id": "b6aNUUSGxJmq"
      },
      "source": [
        "# Integrando los datos en un solo análisis"
      ]
    },
    {
      "cell_type": "code",
      "execution_count": 27,
      "metadata": {
        "id": "JFDLNW2PxJmq",
        "outputId": "3a646169-122b-47a4-adf5-568bb171465e"
      },
      "outputs": [
        {
          "data": {
            "text/html": [
              "<div>\n",
              "<style scoped>\n",
              "    .dataframe tbody tr th:only-of-type {\n",
              "        vertical-align: middle;\n",
              "    }\n",
              "\n",
              "    .dataframe tbody tr th {\n",
              "        vertical-align: top;\n",
              "    }\n",
              "\n",
              "    .dataframe thead th {\n",
              "        text-align: right;\n",
              "    }\n",
              "</style>\n",
              "<table border=\"1\" class=\"dataframe\">\n",
              "  <thead>\n",
              "    <tr style=\"text-align: right;\">\n",
              "      <th></th>\n",
              "      <th>Spotify</th>\n",
              "    </tr>\n",
              "    <tr>\n",
              "      <th>Date</th>\n",
              "      <th></th>\n",
              "    </tr>\n",
              "  </thead>\n",
              "  <tbody>\n",
              "    <tr>\n",
              "      <th>2019-01-02</th>\n",
              "      <td>113.739998</td>\n",
              "    </tr>\n",
              "    <tr>\n",
              "      <th>2019-01-03</th>\n",
              "      <td>109.019997</td>\n",
              "    </tr>\n",
              "    <tr>\n",
              "      <th>2019-01-04</th>\n",
              "      <td>118.510002</td>\n",
              "    </tr>\n",
              "    <tr>\n",
              "      <th>2019-01-07</th>\n",
              "      <td>119.360001</td>\n",
              "    </tr>\n",
              "    <tr>\n",
              "      <th>2019-01-08</th>\n",
              "      <td>117.480003</td>\n",
              "    </tr>\n",
              "    <tr>\n",
              "      <th>...</th>\n",
              "      <td>...</td>\n",
              "    </tr>\n",
              "    <tr>\n",
              "      <th>2022-09-02</th>\n",
              "      <td>104.419998</td>\n",
              "    </tr>\n",
              "    <tr>\n",
              "      <th>2022-09-06</th>\n",
              "      <td>102.589996</td>\n",
              "    </tr>\n",
              "    <tr>\n",
              "      <th>2022-09-07</th>\n",
              "      <td>105.860001</td>\n",
              "    </tr>\n",
              "    <tr>\n",
              "      <th>2022-09-08</th>\n",
              "      <td>105.180000</td>\n",
              "    </tr>\n",
              "    <tr>\n",
              "      <th>2022-09-09</th>\n",
              "      <td>110.279999</td>\n",
              "    </tr>\n",
              "  </tbody>\n",
              "</table>\n",
              "<p>930 rows × 1 columns</p>\n",
              "</div>"
            ],
            "text/plain": [
              "               Spotify\n",
              "Date                  \n",
              "2019-01-02  113.739998\n",
              "2019-01-03  109.019997\n",
              "2019-01-04  118.510002\n",
              "2019-01-07  119.360001\n",
              "2019-01-08  117.480003\n",
              "...                ...\n",
              "2022-09-02  104.419998\n",
              "2022-09-06  102.589996\n",
              "2022-09-07  105.860001\n",
              "2022-09-08  105.180000\n",
              "2022-09-09  110.279999\n",
              "\n",
              "[930 rows x 1 columns]"
            ]
          },
          "execution_count": 27,
          "metadata": {},
          "output_type": "execute_result"
        }
      ],
      "source": [
        "SpotifyClose = SpotifyHist.drop(columns = ['Open', 'High', 'Low', 'Volume', \n",
        "                                        'Dividends', 'Stock Splits'])\n",
        "SpotifyClose.rename(columns = {'Close': 'Spotify'}, inplace = True)\n",
        "SpotifyClose"
      ]
    },
    {
      "cell_type": "code",
      "execution_count": 28,
      "metadata": {
        "id": "WF0bYucjxJmr",
        "outputId": "ebcbec7c-b884-48a1-ac27-c5052e3de5ce"
      },
      "outputs": [
        {
          "data": {
            "text/html": [
              "<div>\n",
              "<style scoped>\n",
              "    .dataframe tbody tr th:only-of-type {\n",
              "        vertical-align: middle;\n",
              "    }\n",
              "\n",
              "    .dataframe tbody tr th {\n",
              "        vertical-align: top;\n",
              "    }\n",
              "\n",
              "    .dataframe thead th {\n",
              "        text-align: right;\n",
              "    }\n",
              "</style>\n",
              "<table border=\"1\" class=\"dataframe\">\n",
              "  <thead>\n",
              "    <tr style=\"text-align: right;\">\n",
              "      <th></th>\n",
              "      <th>Facebook</th>\n",
              "    </tr>\n",
              "    <tr>\n",
              "      <th>Date</th>\n",
              "      <th></th>\n",
              "    </tr>\n",
              "  </thead>\n",
              "  <tbody>\n",
              "    <tr>\n",
              "      <th>2019-01-02</th>\n",
              "      <td>135.679993</td>\n",
              "    </tr>\n",
              "    <tr>\n",
              "      <th>2019-01-03</th>\n",
              "      <td>131.740005</td>\n",
              "    </tr>\n",
              "    <tr>\n",
              "      <th>2019-01-04</th>\n",
              "      <td>137.949997</td>\n",
              "    </tr>\n",
              "    <tr>\n",
              "      <th>2019-01-07</th>\n",
              "      <td>138.050003</td>\n",
              "    </tr>\n",
              "    <tr>\n",
              "      <th>2019-01-08</th>\n",
              "      <td>142.529999</td>\n",
              "    </tr>\n",
              "    <tr>\n",
              "      <th>...</th>\n",
              "      <td>...</td>\n",
              "    </tr>\n",
              "    <tr>\n",
              "      <th>2022-09-02</th>\n",
              "      <td>160.320007</td>\n",
              "    </tr>\n",
              "    <tr>\n",
              "      <th>2022-09-06</th>\n",
              "      <td>158.539993</td>\n",
              "    </tr>\n",
              "    <tr>\n",
              "      <th>2022-09-07</th>\n",
              "      <td>160.389999</td>\n",
              "    </tr>\n",
              "    <tr>\n",
              "      <th>2022-09-08</th>\n",
              "      <td>162.059998</td>\n",
              "    </tr>\n",
              "    <tr>\n",
              "      <th>2022-09-09</th>\n",
              "      <td>169.149994</td>\n",
              "    </tr>\n",
              "  </tbody>\n",
              "</table>\n",
              "<p>930 rows × 1 columns</p>\n",
              "</div>"
            ],
            "text/plain": [
              "              Facebook\n",
              "Date                  \n",
              "2019-01-02  135.679993\n",
              "2019-01-03  131.740005\n",
              "2019-01-04  137.949997\n",
              "2019-01-07  138.050003\n",
              "2019-01-08  142.529999\n",
              "...                ...\n",
              "2022-09-02  160.320007\n",
              "2022-09-06  158.539993\n",
              "2022-09-07  160.389999\n",
              "2022-09-08  162.059998\n",
              "2022-09-09  169.149994\n",
              "\n",
              "[930 rows x 1 columns]"
            ]
          },
          "execution_count": 28,
          "metadata": {},
          "output_type": "execute_result"
        }
      ],
      "source": [
        "FacebookClose = FacebookHist.drop(columns = ['Open', 'High', 'Low', 'Volume', \n",
        "                                        'Dividends', 'Stock Splits'])\n",
        "FacebookClose.rename(columns = {'Close': 'Facebook'}, inplace = True)\n",
        "FacebookClose"
      ]
    },
    {
      "cell_type": "code",
      "execution_count": 29,
      "metadata": {
        "id": "EjUF3ItjxJmr",
        "outputId": "853e769a-4441-4b75-eefc-d485ab75637a"
      },
      "outputs": [
        {
          "data": {
            "text/html": [
              "<div>\n",
              "<style scoped>\n",
              "    .dataframe tbody tr th:only-of-type {\n",
              "        vertical-align: middle;\n",
              "    }\n",
              "\n",
              "    .dataframe tbody tr th {\n",
              "        vertical-align: top;\n",
              "    }\n",
              "\n",
              "    .dataframe thead th {\n",
              "        text-align: right;\n",
              "    }\n",
              "</style>\n",
              "<table border=\"1\" class=\"dataframe\">\n",
              "  <thead>\n",
              "    <tr style=\"text-align: right;\">\n",
              "      <th></th>\n",
              "      <th>Amazon</th>\n",
              "    </tr>\n",
              "    <tr>\n",
              "      <th>Date</th>\n",
              "      <th></th>\n",
              "    </tr>\n",
              "  </thead>\n",
              "  <tbody>\n",
              "    <tr>\n",
              "      <th>2019-01-02</th>\n",
              "      <td>76.956497</td>\n",
              "    </tr>\n",
              "    <tr>\n",
              "      <th>2019-01-03</th>\n",
              "      <td>75.014000</td>\n",
              "    </tr>\n",
              "    <tr>\n",
              "      <th>2019-01-04</th>\n",
              "      <td>78.769501</td>\n",
              "    </tr>\n",
              "    <tr>\n",
              "      <th>2019-01-07</th>\n",
              "      <td>81.475502</td>\n",
              "    </tr>\n",
              "    <tr>\n",
              "      <th>2019-01-08</th>\n",
              "      <td>82.829002</td>\n",
              "    </tr>\n",
              "    <tr>\n",
              "      <th>...</th>\n",
              "      <td>...</td>\n",
              "    </tr>\n",
              "    <tr>\n",
              "      <th>2022-09-02</th>\n",
              "      <td>127.510002</td>\n",
              "    </tr>\n",
              "    <tr>\n",
              "      <th>2022-09-06</th>\n",
              "      <td>126.110001</td>\n",
              "    </tr>\n",
              "    <tr>\n",
              "      <th>2022-09-07</th>\n",
              "      <td>129.479996</td>\n",
              "    </tr>\n",
              "    <tr>\n",
              "      <th>2022-09-08</th>\n",
              "      <td>129.820007</td>\n",
              "    </tr>\n",
              "    <tr>\n",
              "      <th>2022-09-09</th>\n",
              "      <td>133.270004</td>\n",
              "    </tr>\n",
              "  </tbody>\n",
              "</table>\n",
              "<p>930 rows × 1 columns</p>\n",
              "</div>"
            ],
            "text/plain": [
              "                Amazon\n",
              "Date                  \n",
              "2019-01-02   76.956497\n",
              "2019-01-03   75.014000\n",
              "2019-01-04   78.769501\n",
              "2019-01-07   81.475502\n",
              "2019-01-08   82.829002\n",
              "...                ...\n",
              "2022-09-02  127.510002\n",
              "2022-09-06  126.110001\n",
              "2022-09-07  129.479996\n",
              "2022-09-08  129.820007\n",
              "2022-09-09  133.270004\n",
              "\n",
              "[930 rows x 1 columns]"
            ]
          },
          "execution_count": 29,
          "metadata": {},
          "output_type": "execute_result"
        }
      ],
      "source": [
        "AmazonClose = AmazonHist.drop(columns = ['Open', 'High', 'Low', 'Volume', \n",
        "                                        'Dividends', 'Stock Splits'])\n",
        "AmazonClose.rename(columns = {'Close': 'Amazon'}, inplace = True)\n",
        "AmazonClose"
      ]
    },
    {
      "cell_type": "code",
      "execution_count": 30,
      "metadata": {
        "id": "jafY23EyxJmr",
        "outputId": "4af9096f-21cc-42e9-ec0d-3cf201f267b6"
      },
      "outputs": [
        {
          "data": {
            "text/html": [
              "<div>\n",
              "<style scoped>\n",
              "    .dataframe tbody tr th:only-of-type {\n",
              "        vertical-align: middle;\n",
              "    }\n",
              "\n",
              "    .dataframe tbody tr th {\n",
              "        vertical-align: top;\n",
              "    }\n",
              "\n",
              "    .dataframe thead th {\n",
              "        text-align: right;\n",
              "    }\n",
              "</style>\n",
              "<table border=\"1\" class=\"dataframe\">\n",
              "  <thead>\n",
              "    <tr style=\"text-align: right;\">\n",
              "      <th></th>\n",
              "      <th>Aeromexico</th>\n",
              "    </tr>\n",
              "    <tr>\n",
              "      <th>Date</th>\n",
              "      <th></th>\n",
              "    </tr>\n",
              "  </thead>\n",
              "  <tbody>\n",
              "    <tr>\n",
              "      <th>2019-01-02</th>\n",
              "      <td>22.530001</td>\n",
              "    </tr>\n",
              "    <tr>\n",
              "      <th>2019-01-03</th>\n",
              "      <td>22.770000</td>\n",
              "    </tr>\n",
              "    <tr>\n",
              "      <th>2019-01-04</th>\n",
              "      <td>23.160000</td>\n",
              "    </tr>\n",
              "    <tr>\n",
              "      <th>2019-01-07</th>\n",
              "      <td>23.270000</td>\n",
              "    </tr>\n",
              "    <tr>\n",
              "      <th>2019-01-08</th>\n",
              "      <td>23.230000</td>\n",
              "    </tr>\n",
              "    <tr>\n",
              "      <th>...</th>\n",
              "      <td>...</td>\n",
              "    </tr>\n",
              "    <tr>\n",
              "      <th>2022-09-02</th>\n",
              "      <td>198.979996</td>\n",
              "    </tr>\n",
              "    <tr>\n",
              "      <th>2022-09-05</th>\n",
              "      <td>198.979996</td>\n",
              "    </tr>\n",
              "    <tr>\n",
              "      <th>2022-09-06</th>\n",
              "      <td>191.460007</td>\n",
              "    </tr>\n",
              "    <tr>\n",
              "      <th>2022-09-07</th>\n",
              "      <td>193.029999</td>\n",
              "    </tr>\n",
              "    <tr>\n",
              "      <th>2022-09-08</th>\n",
              "      <td>193.029999</td>\n",
              "    </tr>\n",
              "  </tbody>\n",
              "</table>\n",
              "<p>931 rows × 1 columns</p>\n",
              "</div>"
            ],
            "text/plain": [
              "            Aeromexico\n",
              "Date                  \n",
              "2019-01-02   22.530001\n",
              "2019-01-03   22.770000\n",
              "2019-01-04   23.160000\n",
              "2019-01-07   23.270000\n",
              "2019-01-08   23.230000\n",
              "...                ...\n",
              "2022-09-02  198.979996\n",
              "2022-09-05  198.979996\n",
              "2022-09-06  191.460007\n",
              "2022-09-07  193.029999\n",
              "2022-09-08  193.029999\n",
              "\n",
              "[931 rows x 1 columns]"
            ]
          },
          "execution_count": 30,
          "metadata": {},
          "output_type": "execute_result"
        }
      ],
      "source": [
        "AeromexClose = AeromexHist.drop(columns = ['Open', 'High', 'Low', 'Volume', \n",
        "                                        'Dividends', 'Stock Splits'])\n",
        "AeromexClose.rename(columns = {'Close': 'Aeromexico'}, inplace = True)\n",
        "AeromexClose"
      ]
    },
    {
      "cell_type": "code",
      "execution_count": 32,
      "metadata": {
        "id": "_S4Ulj3MxJmr",
        "outputId": "341170ce-657a-46ec-a6f1-1187734704be"
      },
      "outputs": [
        {
          "data": {
            "text/html": [
              "<div>\n",
              "<style scoped>\n",
              "    .dataframe tbody tr th:only-of-type {\n",
              "        vertical-align: middle;\n",
              "    }\n",
              "\n",
              "    .dataframe tbody tr th {\n",
              "        vertical-align: top;\n",
              "    }\n",
              "\n",
              "    .dataframe thead th {\n",
              "        text-align: right;\n",
              "    }\n",
              "</style>\n",
              "<table border=\"1\" class=\"dataframe\">\n",
              "  <thead>\n",
              "    <tr style=\"text-align: right;\">\n",
              "      <th></th>\n",
              "      <th>Spotify</th>\n",
              "      <th>Facebook</th>\n",
              "      <th>Amazon</th>\n",
              "      <th>Aeromexico</th>\n",
              "    </tr>\n",
              "    <tr>\n",
              "      <th>Date</th>\n",
              "      <th></th>\n",
              "      <th></th>\n",
              "      <th></th>\n",
              "      <th></th>\n",
              "    </tr>\n",
              "  </thead>\n",
              "  <tbody>\n",
              "    <tr>\n",
              "      <th>2019-01-02</th>\n",
              "      <td>113.739998</td>\n",
              "      <td>135.679993</td>\n",
              "      <td>76.956497</td>\n",
              "      <td>22.530001</td>\n",
              "    </tr>\n",
              "    <tr>\n",
              "      <th>2019-01-03</th>\n",
              "      <td>109.019997</td>\n",
              "      <td>131.740005</td>\n",
              "      <td>75.014000</td>\n",
              "      <td>22.770000</td>\n",
              "    </tr>\n",
              "    <tr>\n",
              "      <th>2019-01-04</th>\n",
              "      <td>118.510002</td>\n",
              "      <td>137.949997</td>\n",
              "      <td>78.769501</td>\n",
              "      <td>23.160000</td>\n",
              "    </tr>\n",
              "    <tr>\n",
              "      <th>2019-01-07</th>\n",
              "      <td>119.360001</td>\n",
              "      <td>138.050003</td>\n",
              "      <td>81.475502</td>\n",
              "      <td>23.270000</td>\n",
              "    </tr>\n",
              "    <tr>\n",
              "      <th>2019-01-08</th>\n",
              "      <td>117.480003</td>\n",
              "      <td>142.529999</td>\n",
              "      <td>82.829002</td>\n",
              "      <td>23.230000</td>\n",
              "    </tr>\n",
              "    <tr>\n",
              "      <th>...</th>\n",
              "      <td>...</td>\n",
              "      <td>...</td>\n",
              "      <td>...</td>\n",
              "      <td>...</td>\n",
              "    </tr>\n",
              "    <tr>\n",
              "      <th>2022-09-01</th>\n",
              "      <td>106.519997</td>\n",
              "      <td>165.360001</td>\n",
              "      <td>127.820000</td>\n",
              "      <td>198.979996</td>\n",
              "    </tr>\n",
              "    <tr>\n",
              "      <th>2022-09-02</th>\n",
              "      <td>104.419998</td>\n",
              "      <td>160.320007</td>\n",
              "      <td>127.510002</td>\n",
              "      <td>198.979996</td>\n",
              "    </tr>\n",
              "    <tr>\n",
              "      <th>2022-09-06</th>\n",
              "      <td>102.589996</td>\n",
              "      <td>158.539993</td>\n",
              "      <td>126.110001</td>\n",
              "      <td>191.460007</td>\n",
              "    </tr>\n",
              "    <tr>\n",
              "      <th>2022-09-07</th>\n",
              "      <td>105.860001</td>\n",
              "      <td>160.389999</td>\n",
              "      <td>129.479996</td>\n",
              "      <td>193.029999</td>\n",
              "    </tr>\n",
              "    <tr>\n",
              "      <th>2022-09-08</th>\n",
              "      <td>105.180000</td>\n",
              "      <td>162.059998</td>\n",
              "      <td>129.820007</td>\n",
              "      <td>193.029999</td>\n",
              "    </tr>\n",
              "  </tbody>\n",
              "</table>\n",
              "<p>906 rows × 4 columns</p>\n",
              "</div>"
            ],
            "text/plain": [
              "               Spotify    Facebook      Amazon  Aeromexico\n",
              "Date                                                      \n",
              "2019-01-02  113.739998  135.679993   76.956497   22.530001\n",
              "2019-01-03  109.019997  131.740005   75.014000   22.770000\n",
              "2019-01-04  118.510002  137.949997   78.769501   23.160000\n",
              "2019-01-07  119.360001  138.050003   81.475502   23.270000\n",
              "2019-01-08  117.480003  142.529999   82.829002   23.230000\n",
              "...                ...         ...         ...         ...\n",
              "2022-09-01  106.519997  165.360001  127.820000  198.979996\n",
              "2022-09-02  104.419998  160.320007  127.510002  198.979996\n",
              "2022-09-06  102.589996  158.539993  126.110001  191.460007\n",
              "2022-09-07  105.860001  160.389999  129.479996  193.029999\n",
              "2022-09-08  105.180000  162.059998  129.820007  193.029999\n",
              "\n",
              "[906 rows x 4 columns]"
            ]
          },
          "execution_count": 32,
          "metadata": {},
          "output_type": "execute_result"
        }
      ],
      "source": [
        "# Se integran los cierres del precio de las acciones\n",
        "Acciones = pd.concat([SpotifyClose, FacebookClose, AmazonClose, AeromexClose], \n",
        "                    axis = 'columns', join = 'inner')\n",
        "Acciones"
      ]
    },
    {
      "cell_type": "code",
      "execution_count": 33,
      "metadata": {
        "id": "uP61mlOAxJmr",
        "outputId": "b71962f6-30bb-422c-bc06-d4957179f66c"
      },
      "outputs": [
        {
          "data": {
            "text/html": [
              "<div>\n",
              "<style scoped>\n",
              "    .dataframe tbody tr th:only-of-type {\n",
              "        vertical-align: middle;\n",
              "    }\n",
              "\n",
              "    .dataframe tbody tr th {\n",
              "        vertical-align: top;\n",
              "    }\n",
              "\n",
              "    .dataframe thead th {\n",
              "        text-align: right;\n",
              "    }\n",
              "</style>\n",
              "<table border=\"1\" class=\"dataframe\">\n",
              "  <thead>\n",
              "    <tr style=\"text-align: right;\">\n",
              "      <th></th>\n",
              "      <th>Spotify</th>\n",
              "      <th>Facebook</th>\n",
              "      <th>Amazon</th>\n",
              "      <th>Aeromexico</th>\n",
              "    </tr>\n",
              "    <tr>\n",
              "      <th>Date</th>\n",
              "      <th></th>\n",
              "      <th></th>\n",
              "      <th></th>\n",
              "      <th></th>\n",
              "    </tr>\n",
              "  </thead>\n",
              "  <tbody>\n",
              "    <tr>\n",
              "      <th>2019-01-02</th>\n",
              "      <td>113.739998</td>\n",
              "      <td>135.679993</td>\n",
              "      <td>76.956497</td>\n",
              "      <td>22.530001</td>\n",
              "    </tr>\n",
              "    <tr>\n",
              "      <th>2019-01-03</th>\n",
              "      <td>109.019997</td>\n",
              "      <td>131.740005</td>\n",
              "      <td>75.014000</td>\n",
              "      <td>22.770000</td>\n",
              "    </tr>\n",
              "    <tr>\n",
              "      <th>2019-01-04</th>\n",
              "      <td>118.510002</td>\n",
              "      <td>137.949997</td>\n",
              "      <td>78.769501</td>\n",
              "      <td>23.160000</td>\n",
              "    </tr>\n",
              "    <tr>\n",
              "      <th>2019-01-07</th>\n",
              "      <td>119.360001</td>\n",
              "      <td>138.050003</td>\n",
              "      <td>81.475502</td>\n",
              "      <td>23.270000</td>\n",
              "    </tr>\n",
              "    <tr>\n",
              "      <th>2019-01-08</th>\n",
              "      <td>117.480003</td>\n",
              "      <td>142.529999</td>\n",
              "      <td>82.829002</td>\n",
              "      <td>23.230000</td>\n",
              "    </tr>\n",
              "    <tr>\n",
              "      <th>...</th>\n",
              "      <td>...</td>\n",
              "      <td>...</td>\n",
              "      <td>...</td>\n",
              "      <td>...</td>\n",
              "    </tr>\n",
              "    <tr>\n",
              "      <th>2022-09-01</th>\n",
              "      <td>106.519997</td>\n",
              "      <td>165.360001</td>\n",
              "      <td>127.820000</td>\n",
              "      <td>198.979996</td>\n",
              "    </tr>\n",
              "    <tr>\n",
              "      <th>2022-09-02</th>\n",
              "      <td>104.419998</td>\n",
              "      <td>160.320007</td>\n",
              "      <td>127.510002</td>\n",
              "      <td>198.979996</td>\n",
              "    </tr>\n",
              "    <tr>\n",
              "      <th>2022-09-06</th>\n",
              "      <td>102.589996</td>\n",
              "      <td>158.539993</td>\n",
              "      <td>126.110001</td>\n",
              "      <td>191.460007</td>\n",
              "    </tr>\n",
              "    <tr>\n",
              "      <th>2022-09-07</th>\n",
              "      <td>105.860001</td>\n",
              "      <td>160.389999</td>\n",
              "      <td>129.479996</td>\n",
              "      <td>193.029999</td>\n",
              "    </tr>\n",
              "    <tr>\n",
              "      <th>2022-09-08</th>\n",
              "      <td>105.180000</td>\n",
              "      <td>162.059998</td>\n",
              "      <td>129.820007</td>\n",
              "      <td>193.029999</td>\n",
              "    </tr>\n",
              "  </tbody>\n",
              "</table>\n",
              "<p>906 rows × 4 columns</p>\n",
              "</div>"
            ],
            "text/plain": [
              "               Spotify    Facebook      Amazon  Aeromexico\n",
              "Date                                                      \n",
              "2019-01-02  113.739998  135.679993   76.956497   22.530001\n",
              "2019-01-03  109.019997  131.740005   75.014000   22.770000\n",
              "2019-01-04  118.510002  137.949997   78.769501   23.160000\n",
              "2019-01-07  119.360001  138.050003   81.475502   23.270000\n",
              "2019-01-08  117.480003  142.529999   82.829002   23.230000\n",
              "...                ...         ...         ...         ...\n",
              "2022-09-01  106.519997  165.360001  127.820000  198.979996\n",
              "2022-09-02  104.419998  160.320007  127.510002  198.979996\n",
              "2022-09-06  102.589996  158.539993  126.110001  191.460007\n",
              "2022-09-07  105.860001  160.389999  129.479996  193.029999\n",
              "2022-09-08  105.180000  162.059998  129.820007  193.029999\n",
              "\n",
              "[906 rows x 4 columns]"
            ]
          },
          "execution_count": 33,
          "metadata": {},
          "output_type": "execute_result"
        }
      ],
      "source": [
        "# En caso de tener valores nulos\n",
        "AccionesNN = Acciones.dropna()\n",
        "AccionesNN"
      ]
    },
    {
      "cell_type": "code",
      "execution_count": 34,
      "metadata": {
        "id": "JwdGk_hCxJms",
        "outputId": "5fff6875-9ffb-44c4-896b-faad0c472fdb"
      },
      "outputs": [
        {
          "data": {
            "image/png": "[encoded data removed]",
            "text/plain": [
              "<Figure size 1440x360 with 1 Axes>"
            ]
          },
          "metadata": {
            "needs_background": "light"
          },
          "output_type": "display_data"
        }
      ],
      "source": [
        "plt.figure(figsize=(20, 5))\n",
        "plt.plot(Acciones['Spotify'], color='red', marker='+', label='Spotify')\n",
        "plt.plot(Acciones['Facebook'], color='blue', marker='+', label='Facebook')\n",
        "plt.plot(Acciones['Amazon'], color='orange', marker='+', label='Amazon')\n",
        "plt.plot(Acciones['Aeromexico'], color='green', marker='+', label='Aeromexico')\n",
        "plt.xlabel('Fecha')\n",
        "plt.ylabel('Precio de las acciones')\n",
        "plt.title('Acciones')\n",
        "plt.grid(True)\n",
        "plt.legend()\n",
        "plt.show()"
      ]
    },
    {
      "cell_type": "code",
      "execution_count": 35,
      "metadata": {
        "id": "TaB3H5gQxJms",
        "outputId": "e5a5cad1-27c5-4c03-a1b2-28c7e02fd8b7"
      },
      "outputs": [
        {
          "data": {
            "image/png": "[encoded data removed]",
            "text/plain": [
              "<Figure size 1008x504 with 2 Axes>"
            ]
          },
          "metadata": {
            "needs_background": "light"
          },
          "output_type": "display_data"
        }
      ],
      "source": [
        "plt.figure(figsize=(14,7))\n",
        "MatrizInf = np.triu(Acciones.corr())\n",
        "sns.heatmap(Acciones.corr(), cmap='RdBu_r', annot=True, mask=MatrizInf)\n",
        "plt.show()"
      ]
    },
    {
      "cell_type": "code",
      "execution_count": 36,
      "metadata": {
        "id": "IftGufrFxJms",
        "outputId": "1d063fee-5efa-4450-8a29-9745ebff7c50"
      },
      "outputs": [
        {
          "data": {
            "text/html": [
              "<div>\n",
              "<style scoped>\n",
              "    .dataframe tbody tr th:only-of-type {\n",
              "        vertical-align: middle;\n",
              "    }\n",
              "\n",
              "    .dataframe tbody tr th {\n",
              "        vertical-align: top;\n",
              "    }\n",
              "\n",
              "    .dataframe thead th {\n",
              "        text-align: right;\n",
              "    }\n",
              "</style>\n",
              "<table border=\"1\" class=\"dataframe\">\n",
              "  <thead>\n",
              "    <tr style=\"text-align: right;\">\n",
              "      <th></th>\n",
              "      <th>Spotify</th>\n",
              "      <th>Facebook</th>\n",
              "      <th>Amazon</th>\n",
              "      <th>Aeromexico</th>\n",
              "    </tr>\n",
              "  </thead>\n",
              "  <tbody>\n",
              "    <tr>\n",
              "      <th>Spotify</th>\n",
              "      <td>1.000000</td>\n",
              "      <td>0.765191</td>\n",
              "      <td>0.773088</td>\n",
              "      <td>-0.447994</td>\n",
              "    </tr>\n",
              "    <tr>\n",
              "      <th>Facebook</th>\n",
              "      <td>0.765191</td>\n",
              "      <td>1.000000</td>\n",
              "      <td>0.849904</td>\n",
              "      <td>-0.328027</td>\n",
              "    </tr>\n",
              "    <tr>\n",
              "      <th>Amazon</th>\n",
              "      <td>0.773088</td>\n",
              "      <td>0.849904</td>\n",
              "      <td>1.000000</td>\n",
              "      <td>-0.061895</td>\n",
              "    </tr>\n",
              "    <tr>\n",
              "      <th>Aeromexico</th>\n",
              "      <td>-0.447994</td>\n",
              "      <td>-0.328027</td>\n",
              "      <td>-0.061895</td>\n",
              "      <td>1.000000</td>\n",
              "    </tr>\n",
              "  </tbody>\n",
              "</table>\n",
              "</div>"
            ],
            "text/plain": [
              "             Spotify  Facebook    Amazon  Aeromexico\n",
              "Spotify     1.000000  0.765191  0.773088   -0.447994\n",
              "Facebook    0.765191  1.000000  0.849904   -0.328027\n",
              "Amazon      0.773088  0.849904  1.000000   -0.061895\n",
              "Aeromexico -0.447994 -0.328027 -0.061895    1.000000"
            ]
          },
          "execution_count": 36,
          "metadata": {},
          "output_type": "execute_result"
        }
      ],
      "source": [
        "Acciones.corr()"
      ]
    },
    {
      "cell_type": "code",
      "execution_count": 38,
      "metadata": {
        "id": "x5Qed1_6xJms",
        "outputId": "b0f43720-ef45-417c-ba6a-7ff95bb1bf26"
      },
      "outputs": [
        {
          "name": "stdout",
          "output_type": "stream",
          "text": [
            "[*********************100%***********************]  4 of 4 completed\n"
          ]
        },
        {
          "data": {
            "text/html": [
              "<div>\n",
              "<style scoped>\n",
              "    .dataframe tbody tr th:only-of-type {\n",
              "        vertical-align: middle;\n",
              "    }\n",
              "\n",
              "    .dataframe tbody tr th {\n",
              "        vertical-align: top;\n",
              "    }\n",
              "\n",
              "    .dataframe thead tr th {\n",
              "        text-align: left;\n",
              "    }\n",
              "\n",
              "    .dataframe thead tr:last-of-type th {\n",
              "        text-align: right;\n",
              "    }\n",
              "</style>\n",
              "<table border=\"1\" class=\"dataframe\">\n",
              "  <thead>\n",
              "    <tr>\n",
              "      <th></th>\n",
              "      <th colspan=\"4\" halign=\"left\">Adj Close</th>\n",
              "      <th colspan=\"4\" halign=\"left\">Close</th>\n",
              "      <th colspan=\"2\" halign=\"left\">High</th>\n",
              "      <th>...</th>\n",
              "      <th colspan=\"2\" halign=\"left\">Low</th>\n",
              "      <th colspan=\"4\" halign=\"left\">Open</th>\n",
              "      <th colspan=\"4\" halign=\"left\">Volume</th>\n",
              "    </tr>\n",
              "    <tr>\n",
              "      <th></th>\n",
              "      <th>AEROMEX.MX</th>\n",
              "      <th>AMZN</th>\n",
              "      <th>META</th>\n",
              "      <th>SPOT</th>\n",
              "      <th>AEROMEX.MX</th>\n",
              "      <th>AMZN</th>\n",
              "      <th>META</th>\n",
              "      <th>SPOT</th>\n",
              "      <th>AEROMEX.MX</th>\n",
              "      <th>AMZN</th>\n",
              "      <th>...</th>\n",
              "      <th>META</th>\n",
              "      <th>SPOT</th>\n",
              "      <th>AEROMEX.MX</th>\n",
              "      <th>AMZN</th>\n",
              "      <th>META</th>\n",
              "      <th>SPOT</th>\n",
              "      <th>AEROMEX.MX</th>\n",
              "      <th>AMZN</th>\n",
              "      <th>META</th>\n",
              "      <th>SPOT</th>\n",
              "    </tr>\n",
              "    <tr>\n",
              "      <th>Date</th>\n",
              "      <th></th>\n",
              "      <th></th>\n",
              "      <th></th>\n",
              "      <th></th>\n",
              "      <th></th>\n",
              "      <th></th>\n",
              "      <th></th>\n",
              "      <th></th>\n",
              "      <th></th>\n",
              "      <th></th>\n",
              "      <th></th>\n",
              "      <th></th>\n",
              "      <th></th>\n",
              "      <th></th>\n",
              "      <th></th>\n",
              "      <th></th>\n",
              "      <th></th>\n",
              "      <th></th>\n",
              "      <th></th>\n",
              "      <th></th>\n",
              "      <th></th>\n",
              "    </tr>\n",
              "  </thead>\n",
              "  <tbody>\n",
              "    <tr>\n",
              "      <th>2019-01-02</th>\n",
              "      <td>22.530001</td>\n",
              "      <td>76.956497</td>\n",
              "      <td>135.679993</td>\n",
              "      <td>113.739998</td>\n",
              "      <td>22.530001</td>\n",
              "      <td>76.956497</td>\n",
              "      <td>135.679993</td>\n",
              "      <td>113.739998</td>\n",
              "      <td>23.080000</td>\n",
              "      <td>77.667999</td>\n",
              "      <td>...</td>\n",
              "      <td>128.559998</td>\n",
              "      <td>110.360001</td>\n",
              "      <td>22.000000</td>\n",
              "      <td>73.260002</td>\n",
              "      <td>128.990005</td>\n",
              "      <td>111.660004</td>\n",
              "      <td>54890.0</td>\n",
              "      <td>159662000.0</td>\n",
              "      <td>28146200.0</td>\n",
              "      <td>861100.0</td>\n",
              "    </tr>\n",
              "    <tr>\n",
              "      <th>2019-01-03</th>\n",
              "      <td>22.770000</td>\n",
              "      <td>75.014000</td>\n",
              "      <td>131.740005</td>\n",
              "      <td>109.019997</td>\n",
              "      <td>22.770000</td>\n",
              "      <td>75.014000</td>\n",
              "      <td>131.740005</td>\n",
              "      <td>109.019997</td>\n",
              "      <td>23.049999</td>\n",
              "      <td>76.900002</td>\n",
              "      <td>...</td>\n",
              "      <td>131.119995</td>\n",
              "      <td>108.589996</td>\n",
              "      <td>22.500000</td>\n",
              "      <td>76.000504</td>\n",
              "      <td>134.690002</td>\n",
              "      <td>112.080002</td>\n",
              "      <td>88098.0</td>\n",
              "      <td>139512000.0</td>\n",
              "      <td>22717900.0</td>\n",
              "      <td>1082300.0</td>\n",
              "    </tr>\n",
              "    <tr>\n",
              "      <th>2019-01-04</th>\n",
              "      <td>23.160000</td>\n",
              "      <td>78.769501</td>\n",
              "      <td>137.949997</td>\n",
              "      <td>118.510002</td>\n",
              "      <td>23.160000</td>\n",
              "      <td>78.769501</td>\n",
              "      <td>137.949997</td>\n",
              "      <td>118.510002</td>\n",
              "      <td>23.840000</td>\n",
              "      <td>79.699997</td>\n",
              "      <td>...</td>\n",
              "      <td>133.750000</td>\n",
              "      <td>111.500000</td>\n",
              "      <td>23.430000</td>\n",
              "      <td>76.500000</td>\n",
              "      <td>134.009995</td>\n",
              "      <td>112.059998</td>\n",
              "      <td>69569.0</td>\n",
              "      <td>183652000.0</td>\n",
              "      <td>29002100.0</td>\n",
              "      <td>2484800.0</td>\n",
              "    </tr>\n",
              "    <tr>\n",
              "      <th>2019-01-07</th>\n",
              "      <td>23.270000</td>\n",
              "      <td>81.475502</td>\n",
              "      <td>138.050003</td>\n",
              "      <td>119.360001</td>\n",
              "      <td>23.270000</td>\n",
              "      <td>81.475502</td>\n",
              "      <td>138.050003</td>\n",
              "      <td>119.360001</td>\n",
              "      <td>24.500000</td>\n",
              "      <td>81.727997</td>\n",
              "      <td>...</td>\n",
              "      <td>135.910004</td>\n",
              "      <td>113.279999</td>\n",
              "      <td>23.180000</td>\n",
              "      <td>80.115501</td>\n",
              "      <td>137.559998</td>\n",
              "      <td>115.040001</td>\n",
              "      <td>160120.0</td>\n",
              "      <td>159864000.0</td>\n",
              "      <td>20089300.0</td>\n",
              "      <td>2516200.0</td>\n",
              "    </tr>\n",
              "    <tr>\n",
              "      <th>2019-01-08</th>\n",
              "      <td>23.230000</td>\n",
              "      <td>82.829002</td>\n",
              "      <td>142.529999</td>\n",
              "      <td>117.480003</td>\n",
              "      <td>23.230000</td>\n",
              "      <td>82.829002</td>\n",
              "      <td>142.529999</td>\n",
              "      <td>117.480003</td>\n",
              "      <td>23.870001</td>\n",
              "      <td>83.830498</td>\n",
              "      <td>...</td>\n",
              "      <td>139.539993</td>\n",
              "      <td>114.699997</td>\n",
              "      <td>23.219999</td>\n",
              "      <td>83.234497</td>\n",
              "      <td>139.889999</td>\n",
              "      <td>121.440002</td>\n",
              "      <td>190421.0</td>\n",
              "      <td>177628000.0</td>\n",
              "      <td>26263800.0</td>\n",
              "      <td>1257100.0</td>\n",
              "    </tr>\n",
              "    <tr>\n",
              "      <th>...</th>\n",
              "      <td>...</td>\n",
              "      <td>...</td>\n",
              "      <td>...</td>\n",
              "      <td>...</td>\n",
              "      <td>...</td>\n",
              "      <td>...</td>\n",
              "      <td>...</td>\n",
              "      <td>...</td>\n",
              "      <td>...</td>\n",
              "      <td>...</td>\n",
              "      <td>...</td>\n",
              "      <td>...</td>\n",
              "      <td>...</td>\n",
              "      <td>...</td>\n",
              "      <td>...</td>\n",
              "      <td>...</td>\n",
              "      <td>...</td>\n",
              "      <td>...</td>\n",
              "      <td>...</td>\n",
              "      <td>...</td>\n",
              "      <td>...</td>\n",
              "    </tr>\n",
              "    <tr>\n",
              "      <th>2022-09-05</th>\n",
              "      <td>198.979996</td>\n",
              "      <td>NaN</td>\n",
              "      <td>NaN</td>\n",
              "      <td>NaN</td>\n",
              "      <td>198.979996</td>\n",
              "      <td>NaN</td>\n",
              "      <td>NaN</td>\n",
              "      <td>NaN</td>\n",
              "      <td>198.979996</td>\n",
              "      <td>NaN</td>\n",
              "      <td>...</td>\n",
              "      <td>NaN</td>\n",
              "      <td>NaN</td>\n",
              "      <td>198.979996</td>\n",
              "      <td>NaN</td>\n",
              "      <td>NaN</td>\n",
              "      <td>NaN</td>\n",
              "      <td>0.0</td>\n",
              "      <td>NaN</td>\n",
              "      <td>NaN</td>\n",
              "      <td>NaN</td>\n",
              "    </tr>\n",
              "    <tr>\n",
              "      <th>2022-09-06</th>\n",
              "      <td>191.460007</td>\n",
              "      <td>126.110001</td>\n",
              "      <td>158.539993</td>\n",
              "      <td>102.589996</td>\n",
              "      <td>191.460007</td>\n",
              "      <td>126.110001</td>\n",
              "      <td>158.539993</td>\n",
              "      <td>102.589996</td>\n",
              "      <td>192.470001</td>\n",
              "      <td>128.619995</td>\n",
              "      <td>...</td>\n",
              "      <td>157.690002</td>\n",
              "      <td>100.620003</td>\n",
              "      <td>192.470001</td>\n",
              "      <td>127.919998</td>\n",
              "      <td>160.100006</td>\n",
              "      <td>104.059998</td>\n",
              "      <td>567.0</td>\n",
              "      <td>43888600.0</td>\n",
              "      <td>19339800.0</td>\n",
              "      <td>962800.0</td>\n",
              "    </tr>\n",
              "    <tr>\n",
              "      <th>2022-09-07</th>\n",
              "      <td>193.029999</td>\n",
              "      <td>129.479996</td>\n",
              "      <td>160.389999</td>\n",
              "      <td>105.860001</td>\n",
              "      <td>193.029999</td>\n",
              "      <td>129.479996</td>\n",
              "      <td>160.389999</td>\n",
              "      <td>105.860001</td>\n",
              "      <td>193.029999</td>\n",
              "      <td>129.820007</td>\n",
              "      <td>...</td>\n",
              "      <td>156.809998</td>\n",
              "      <td>102.349998</td>\n",
              "      <td>191.500000</td>\n",
              "      <td>126.120003</td>\n",
              "      <td>157.759995</td>\n",
              "      <td>102.349998</td>\n",
              "      <td>945.0</td>\n",
              "      <td>47900300.0</td>\n",
              "      <td>16831200.0</td>\n",
              "      <td>652300.0</td>\n",
              "    </tr>\n",
              "    <tr>\n",
              "      <th>2022-09-08</th>\n",
              "      <td>193.029999</td>\n",
              "      <td>129.820007</td>\n",
              "      <td>162.059998</td>\n",
              "      <td>105.180000</td>\n",
              "      <td>193.029999</td>\n",
              "      <td>129.820007</td>\n",
              "      <td>162.059998</td>\n",
              "      <td>105.180000</td>\n",
              "      <td>193.029999</td>\n",
              "      <td>130.279999</td>\n",
              "      <td>...</td>\n",
              "      <td>157.740005</td>\n",
              "      <td>103.720001</td>\n",
              "      <td>193.029999</td>\n",
              "      <td>127.720001</td>\n",
              "      <td>158.710007</td>\n",
              "      <td>104.360001</td>\n",
              "      <td>0.0</td>\n",
              "      <td>43988500.0</td>\n",
              "      <td>22530800.0</td>\n",
              "      <td>857900.0</td>\n",
              "    </tr>\n",
              "    <tr>\n",
              "      <th>2022-09-09</th>\n",
              "      <td>NaN</td>\n",
              "      <td>133.270004</td>\n",
              "      <td>169.149994</td>\n",
              "      <td>110.279999</td>\n",
              "      <td>NaN</td>\n",
              "      <td>133.270004</td>\n",
              "      <td>169.149994</td>\n",
              "      <td>110.279999</td>\n",
              "      <td>NaN</td>\n",
              "      <td>133.690002</td>\n",
              "      <td>...</td>\n",
              "      <td>163.020004</td>\n",
              "      <td>106.110001</td>\n",
              "      <td>NaN</td>\n",
              "      <td>130.910004</td>\n",
              "      <td>163.248001</td>\n",
              "      <td>106.309998</td>\n",
              "      <td>NaN</td>\n",
              "      <td>49365667.0</td>\n",
              "      <td>22129802.0</td>\n",
              "      <td>1595172.0</td>\n",
              "    </tr>\n",
              "  </tbody>\n",
              "</table>\n",
              "<p>955 rows × 24 columns</p>\n",
              "</div>"
            ],
            "text/plain": [
              "             Adj Close                                           Close  \\\n",
              "            AEROMEX.MX        AMZN        META        SPOT  AEROMEX.MX   \n",
              "Date                                                                     \n",
              "2019-01-02   22.530001   76.956497  135.679993  113.739998   22.530001   \n",
              "2019-01-03   22.770000   75.014000  131.740005  109.019997   22.770000   \n",
              "2019-01-04   23.160000   78.769501  137.949997  118.510002   23.160000   \n",
              "2019-01-07   23.270000   81.475502  138.050003  119.360001   23.270000   \n",
              "2019-01-08   23.230000   82.829002  142.529999  117.480003   23.230000   \n",
              "...                ...         ...         ...         ...         ...   \n",
              "2022-09-05  198.979996         NaN         NaN         NaN  198.979996   \n",
              "2022-09-06  191.460007  126.110001  158.539993  102.589996  191.460007   \n",
              "2022-09-07  193.029999  129.479996  160.389999  105.860001  193.029999   \n",
              "2022-09-08  193.029999  129.820007  162.059998  105.180000  193.029999   \n",
              "2022-09-09         NaN  133.270004  169.149994  110.279999         NaN   \n",
              "\n",
              "                                                      High              ...  \\\n",
              "                  AMZN        META        SPOT  AEROMEX.MX        AMZN  ...   \n",
              "Date                                                                    ...   \n",
              "2019-01-02   76.956497  135.679993  113.739998   23.080000   77.667999  ...   \n",
              "2019-01-03   75.014000  131.740005  109.019997   23.049999   76.900002  ...   \n",
              "2019-01-04   78.769501  137.949997  118.510002   23.840000   79.699997  ...   \n",
              "2019-01-07   81.475502  138.050003  119.360001   24.500000   81.727997  ...   \n",
              "2019-01-08   82.829002  142.529999  117.480003   23.870001   83.830498  ...   \n",
              "...                ...         ...         ...         ...         ...  ...   \n",
              "2022-09-05         NaN         NaN         NaN  198.979996         NaN  ...   \n",
              "2022-09-06  126.110001  158.539993  102.589996  192.470001  128.619995  ...   \n",
              "2022-09-07  129.479996  160.389999  105.860001  193.029999  129.820007  ...   \n",
              "2022-09-08  129.820007  162.059998  105.180000  193.029999  130.279999  ...   \n",
              "2022-09-09  133.270004  169.149994  110.279999         NaN  133.690002  ...   \n",
              "\n",
              "                   Low                    Open                          \\\n",
              "                  META        SPOT  AEROMEX.MX        AMZN        META   \n",
              "Date                                                                     \n",
              "2019-01-02  128.559998  110.360001   22.000000   73.260002  128.990005   \n",
              "2019-01-03  131.119995  108.589996   22.500000   76.000504  134.690002   \n",
              "2019-01-04  133.750000  111.500000   23.430000   76.500000  134.009995   \n",
              "2019-01-07  135.910004  113.279999   23.180000   80.115501  137.559998   \n",
              "2019-01-08  139.539993  114.699997   23.219999   83.234497  139.889999   \n",
              "...                ...         ...         ...         ...         ...   \n",
              "2022-09-05         NaN         NaN  198.979996         NaN         NaN   \n",
              "2022-09-06  157.690002  100.620003  192.470001  127.919998  160.100006   \n",
              "2022-09-07  156.809998  102.349998  191.500000  126.120003  157.759995   \n",
              "2022-09-08  157.740005  103.720001  193.029999  127.720001  158.710007   \n",
              "2022-09-09  163.020004  106.110001         NaN  130.910004  163.248001   \n",
              "\n",
              "                           Volume                                      \n",
              "                  SPOT AEROMEX.MX         AMZN        META       SPOT  \n",
              "Date                                                                   \n",
              "2019-01-02  111.660004    54890.0  159662000.0  28146200.0   861100.0  \n",
              "2019-01-03  112.080002    88098.0  139512000.0  22717900.0  1082300.0  \n",
              "2019-01-04  112.059998    69569.0  183652000.0  29002100.0  2484800.0  \n",
              "2019-01-07  115.040001   160120.0  159864000.0  20089300.0  2516200.0  \n",
              "2019-01-08  121.440002   190421.0  177628000.0  26263800.0  1257100.0  \n",
              "...                ...        ...          ...         ...        ...  \n",
              "2022-09-05         NaN        0.0          NaN         NaN        NaN  \n",
              "2022-09-06  104.059998      567.0   43888600.0  19339800.0   962800.0  \n",
              "2022-09-07  102.349998      945.0   47900300.0  16831200.0   652300.0  \n",
              "2022-09-08  104.360001        0.0   43988500.0  22530800.0   857900.0  \n",
              "2022-09-09  106.309998        NaN   49365667.0  22129802.0  1595172.0  \n",
              "\n",
              "[955 rows x 24 columns]"
            ]
          },
          "execution_count": 38,
          "metadata": {},
          "output_type": "execute_result"
        }
      ],
      "source": [
        "DataAcciones = yf.download(['SPOT', 'META', 'AMZN', 'AEROMEX.MX'], start='2019-1-1', end=today, \n",
        "                interval='1d')\n",
        "DataAcciones"
      ]
    },
    {
      "cell_type": "code",
      "execution_count": 37,
      "metadata": {},
      "outputs": [
        {
          "data": {
            "text/plain": [
              "yfinance.Ticker object <VOO.MX>"
            ]
          },
          "execution_count": 37,
          "metadata": {},
          "output_type": "execute_result"
        }
      ],
      "source": [
        "# Se muestra para VOO desde Yahoo Finance\n",
        "DataVOO = yf.Ticker('VOO.MX')\n",
        "DataVOO"
      ]
    },
    {
      "cell_type": "code",
      "execution_count": 40,
      "metadata": {},
      "outputs": [
        {
          "data": {
            "text/html": [
              "<div>\n",
              "<style scoped>\n",
              "    .dataframe tbody tr th:only-of-type {\n",
              "        vertical-align: middle;\n",
              "    }\n",
              "\n",
              "    .dataframe tbody tr th {\n",
              "        vertical-align: top;\n",
              "    }\n",
              "\n",
              "    .dataframe thead th {\n",
              "        text-align: right;\n",
              "    }\n",
              "</style>\n",
              "<table border=\"1\" class=\"dataframe\">\n",
              "  <thead>\n",
              "    <tr style=\"text-align: right;\">\n",
              "      <th></th>\n",
              "      <th>Open</th>\n",
              "      <th>High</th>\n",
              "      <th>Low</th>\n",
              "      <th>Close</th>\n",
              "      <th>Volume</th>\n",
              "      <th>Dividends</th>\n",
              "      <th>Stock Splits</th>\n",
              "    </tr>\n",
              "    <tr>\n",
              "      <th>Date</th>\n",
              "      <th></th>\n",
              "      <th></th>\n",
              "      <th></th>\n",
              "      <th></th>\n",
              "      <th></th>\n",
              "      <th></th>\n",
              "      <th></th>\n",
              "    </tr>\n",
              "  </thead>\n",
              "  <tbody>\n",
              "    <tr>\n",
              "      <th>2020-01-02</th>\n",
              "      <td>5605.000000</td>\n",
              "      <td>5610.299805</td>\n",
              "      <td>5605.000000</td>\n",
              "      <td>5610.299805</td>\n",
              "      <td>808</td>\n",
              "      <td>0</td>\n",
              "      <td>0</td>\n",
              "    </tr>\n",
              "    <tr>\n",
              "      <th>2020-01-03</th>\n",
              "      <td>5590.000000</td>\n",
              "      <td>5650.000000</td>\n",
              "      <td>5588.000000</td>\n",
              "      <td>5618.700195</td>\n",
              "      <td>162</td>\n",
              "      <td>0</td>\n",
              "      <td>0</td>\n",
              "    </tr>\n",
              "    <tr>\n",
              "      <th>2020-01-06</th>\n",
              "      <td>5618.700195</td>\n",
              "      <td>5669.850098</td>\n",
              "      <td>5600.000000</td>\n",
              "      <td>5679.924805</td>\n",
              "      <td>496</td>\n",
              "      <td>0</td>\n",
              "      <td>0</td>\n",
              "    </tr>\n",
              "    <tr>\n",
              "      <th>2020-01-07</th>\n",
              "      <td>5605.000000</td>\n",
              "      <td>5605.000000</td>\n",
              "      <td>5600.000000</td>\n",
              "      <td>5600.500000</td>\n",
              "      <td>11597</td>\n",
              "      <td>0</td>\n",
              "      <td>0</td>\n",
              "    </tr>\n",
              "    <tr>\n",
              "      <th>2020-01-08</th>\n",
              "      <td>5607.000000</td>\n",
              "      <td>5625.899902</td>\n",
              "      <td>5607.000000</td>\n",
              "      <td>5625.899902</td>\n",
              "      <td>586</td>\n",
              "      <td>0</td>\n",
              "      <td>0</td>\n",
              "    </tr>\n",
              "    <tr>\n",
              "      <th>...</th>\n",
              "      <td>...</td>\n",
              "      <td>...</td>\n",
              "      <td>...</td>\n",
              "      <td>...</td>\n",
              "      <td>...</td>\n",
              "      <td>...</td>\n",
              "      <td>...</td>\n",
              "    </tr>\n",
              "    <tr>\n",
              "      <th>2022-08-30</th>\n",
              "      <td>7435.950195</td>\n",
              "      <td>7435.950195</td>\n",
              "      <td>7352.020020</td>\n",
              "      <td>7365.919922</td>\n",
              "      <td>8016</td>\n",
              "      <td>0</td>\n",
              "      <td>0</td>\n",
              "    </tr>\n",
              "    <tr>\n",
              "      <th>2022-08-31</th>\n",
              "      <td>7370.000000</td>\n",
              "      <td>7399.959961</td>\n",
              "      <td>7323.000000</td>\n",
              "      <td>7335.000000</td>\n",
              "      <td>6049</td>\n",
              "      <td>0</td>\n",
              "      <td>0</td>\n",
              "    </tr>\n",
              "    <tr>\n",
              "      <th>2022-09-01</th>\n",
              "      <td>7334.990234</td>\n",
              "      <td>7335.000000</td>\n",
              "      <td>7252.020020</td>\n",
              "      <td>7324.709961</td>\n",
              "      <td>160446</td>\n",
              "      <td>0</td>\n",
              "      <td>0</td>\n",
              "    </tr>\n",
              "    <tr>\n",
              "      <th>2022-09-02</th>\n",
              "      <td>7324.709961</td>\n",
              "      <td>7389.979980</td>\n",
              "      <td>7205.000000</td>\n",
              "      <td>7210.000000</td>\n",
              "      <td>908</td>\n",
              "      <td>0</td>\n",
              "      <td>0</td>\n",
              "    </tr>\n",
              "    <tr>\n",
              "      <th>2022-09-05</th>\n",
              "      <td>7219.330078</td>\n",
              "      <td>7219.330078</td>\n",
              "      <td>7219.330078</td>\n",
              "      <td>7219.330078</td>\n",
              "      <td>14</td>\n",
              "      <td>0</td>\n",
              "      <td>0</td>\n",
              "    </tr>\n",
              "  </tbody>\n",
              "</table>\n",
              "<p>677 rows × 7 columns</p>\n",
              "</div>"
            ],
            "text/plain": [
              "                   Open         High          Low        Close  Volume  \\\n",
              "Date                                                                     \n",
              "2020-01-02  5605.000000  5610.299805  5605.000000  5610.299805     808   \n",
              "2020-01-03  5590.000000  5650.000000  5588.000000  5618.700195     162   \n",
              "2020-01-06  5618.700195  5669.850098  5600.000000  5679.924805     496   \n",
              "2020-01-07  5605.000000  5605.000000  5600.000000  5600.500000   11597   \n",
              "2020-01-08  5607.000000  5625.899902  5607.000000  5625.899902     586   \n",
              "...                 ...          ...          ...          ...     ...   \n",
              "2022-08-30  7435.950195  7435.950195  7352.020020  7365.919922    8016   \n",
              "2022-08-31  7370.000000  7399.959961  7323.000000  7335.000000    6049   \n",
              "2022-09-01  7334.990234  7335.000000  7252.020020  7324.709961  160446   \n",
              "2022-09-02  7324.709961  7389.979980  7205.000000  7210.000000     908   \n",
              "2022-09-05  7219.330078  7219.330078  7219.330078  7219.330078      14   \n",
              "\n",
              "            Dividends  Stock Splits  \n",
              "Date                                 \n",
              "2020-01-02          0             0  \n",
              "2020-01-03          0             0  \n",
              "2020-01-06          0             0  \n",
              "2020-01-07          0             0  \n",
              "2020-01-08          0             0  \n",
              "...               ...           ...  \n",
              "2022-08-30          0             0  \n",
              "2022-08-31          0             0  \n",
              "2022-09-01          0             0  \n",
              "2022-09-02          0             0  \n",
              "2022-09-05          0             0  \n",
              "\n",
              "[677 rows x 7 columns]"
            ]
          },
          "execution_count": 40,
          "metadata": {},
          "output_type": "execute_result"
        }
      ],
      "source": [
        "VOOHist = DataVOO.history(start = '2020-1-1', end = '2022-9-6', interval='1d')\n",
        "VOOHist"
      ]
    },
    {
      "cell_type": "code",
      "execution_count": 44,
      "metadata": {},
      "outputs": [
        {
          "data": {
            "image/png": "[encoded data removed]",
            "text/plain": [
              "<Figure size 1440x576 with 1 Axes>"
            ]
          },
          "metadata": {
            "needs_background": "light"
          },
          "output_type": "display_data"
        }
      ],
      "source": [
        "plt.figure(figsize=(20, 8))\n",
        "plt.plot(VOOHist['Open'], color='red', marker='+', label='Open')\n",
        "plt.plot(VOOHist['Close'], color='blue', marker='+', label='Close')\n",
        "plt.xlabel('Fecha')\n",
        "plt.ylabel('Precio de las acciones (MXN)')\n",
        "plt.title('VOO')\n",
        "plt.grid(True)\n",
        "plt.legend()\n",
        "plt.show()"
      ]
    }
  ],
  "metadata": {
    "colab": {
      "provenance": []
    },
    "kernelspec": {
      "display_name": "Python 3.8.12 ('IA')",
      "language": "python",
      "name": "python3"
    },
    "language_info": {
      "codemirror_mode": {
        "name": "ipython",
        "version": 3
      },
      "file_extension": ".py",
      "mimetype": "text/x-python",
      "name": "python",
      "nbconvert_exporter": "python",
      "pygments_lexer": "ipython3",
      "version": "3.8.12"
    },
    "vscode": {
      "interpreter": {
        "hash": "4af4b2b7b2f1c560c9a3b780a55e49e5c58b4702e92f6186fcdc9ed34c53fe61"
      }
    }
  },
  "nbformat": 4,
  "nbformat_minor": 0
}
