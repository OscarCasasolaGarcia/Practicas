{
  "cells": [
    {
      "cell_type": "markdown",
      "metadata": {
        "id": "Zo6Nr9ApAOMF"
      },
      "source": [
        "# **Práctica 2: Análisis exploratorio de datos**\n",
        "\n",
        "Nombre: Casasola García Oscar\n",
        "\n",
        "No. Cuenta: 316123747\n",
        "\n",
        "Email: oscar.casasola.g7@gmail.com"
      ]
    },
    {
      "cell_type": "markdown",
      "metadata": {
        "id": "C0PBG-6lZWv_"
      },
      "source": [
        "# Contexto\n",
        "\n",
        "Datos recopilados de manera diaria a nivel país sobre la vacunación contra COVID-19.\n",
        "\n",
        "**Objetivo:** Hacer un análisis exploratorio de datos sobre el progreso mundial y en México de vacunación contra COVID-19."
      ]
    },
    {
      "cell_type": "markdown",
      "metadata": {
        "id": "uoY99zJ29vPO"
      },
      "source": [
        "## Importar las bibliotecas y los datos"
      ]
    },
    {
      "cell_type": "markdown",
      "metadata": {
        "id": "qVrYEOOxFGJs"
      },
      "source": [
        "### Variables\n",
        "\n",
        "1. País: Nombre del país.\n",
        "2. Código ISO: Código ISO del país.\n",
        "3. Fecha: Fecha de registro.\n",
        "4. Total de vacunaciones: Número total de vacunaciones en el país.\n",
        "5. Total de personas vacunadas: Una persona, según el esquema de inmunización, recibirá una o más vacunas (normalmente 2).\n",
        "6. Total de personas completamente vacunadas: Número de personas que recibieron el esquema completo de vacunación.\n",
        "7. Vacunas diarias (crudos): Número de vacunaciones para esa fecha/país.\n",
        "8. Vacunas diarias: Número de vacunaciones para esa fecha/país.\n",
        "9. Total de vacunaciones por cien: Relación (en porcentaje) entre el número de vacunaciones y la población total hasta la fecha.\n",
        "10. Total de personas vacunadas por cien: Relación (en porcentaje) entre la población inmunizada y la población total hasta la fecha.\n",
        "11. Total de personas totalmente vacunadas por cien: Relación (en porcentaje) entre la población totalmente inmunizada y la población total hasta la fecha en el país.\n",
        "13. Vacunas diarias por millón: Relación (en ppm) entre el número de vacunaciones y la población total para la fecha actual en el país.\n",
        "14. Vacunas utilizadas en el país: Nombre de las vacunas utilizadas en el país (hasta la fecha).\n",
        "15. Nombre de la fuente: Fuente de la información.\n",
        "16. Sitio web de origen: Fuente de información."
      ]
    },
    {
      "cell_type": "code",
      "execution_count": 2,
      "metadata": {
        "id": "s4Uf32pf_8NH"
      },
      "outputs": [],
      "source": [
        "import pandas as pd                     # Para la manipulación y análisis de datos\n",
        "import numpy as np                      # Para crear vectores y matrices n dimensionales\n",
        "import matplotlib.pyplot as plt         # Para la generación de gráficas a partir de los datos\n",
        "import seaborn as sns                   # Para la visualización de datos basado en matplotlib\n",
        "%matplotlib inline                \n",
        "# Para generar imágenes dentro del cuaderno"
      ]
    },
    {
      "cell_type": "code",
      "execution_count": 3,
      "metadata": {
        "colab": {
          "base_uri": "https://localhost:8080/",
          "height": 835
        },
        "id": "Fj60_dEpDnCU",
        "outputId": "a832adf1-0de4-4fc2-fa91-2d297f6993fd"
      },
      "outputs": [
        {
          "data": {
            "text/html": [
              "<div>\n",
              "<style scoped>\n",
              "    .dataframe tbody tr th:only-of-type {\n",
              "        vertical-align: middle;\n",
              "    }\n",
              "\n",
              "    .dataframe tbody tr th {\n",
              "        vertical-align: top;\n",
              "    }\n",
              "\n",
              "    .dataframe thead th {\n",
              "        text-align: right;\n",
              "    }\n",
              "</style>\n",
              "<table border=\"1\" class=\"dataframe\">\n",
              "  <thead>\n",
              "    <tr style=\"text-align: right;\">\n",
              "      <th></th>\n",
              "      <th>country</th>\n",
              "      <th>iso_code</th>\n",
              "      <th>date</th>\n",
              "      <th>total_vaccinations</th>\n",
              "      <th>people_vaccinated</th>\n",
              "      <th>people_fully_vaccinated</th>\n",
              "      <th>daily_vaccinations_raw</th>\n",
              "      <th>daily_vaccinations</th>\n",
              "      <th>total_vaccinations_per_hundred</th>\n",
              "      <th>people_vaccinated_per_hundred</th>\n",
              "      <th>people_fully_vaccinated_per_hundred</th>\n",
              "      <th>daily_vaccinations_per_million</th>\n",
              "      <th>vaccines</th>\n",
              "      <th>source_name</th>\n",
              "      <th>source_website</th>\n",
              "    </tr>\n",
              "  </thead>\n",
              "  <tbody>\n",
              "    <tr>\n",
              "      <th>0</th>\n",
              "      <td>Afghanistan</td>\n",
              "      <td>AFG</td>\n",
              "      <td>2021-02-22</td>\n",
              "      <td>0.0</td>\n",
              "      <td>0.0</td>\n",
              "      <td>NaN</td>\n",
              "      <td>NaN</td>\n",
              "      <td>NaN</td>\n",
              "      <td>0.00</td>\n",
              "      <td>0.00</td>\n",
              "      <td>NaN</td>\n",
              "      <td>NaN</td>\n",
              "      <td>Johnson&amp;Johnson, Oxford/AstraZeneca, Pfizer/Bi...</td>\n",
              "      <td>World Health Organization</td>\n",
              "      <td>https://covid19.who.int/</td>\n",
              "    </tr>\n",
              "    <tr>\n",
              "      <th>1</th>\n",
              "      <td>Afghanistan</td>\n",
              "      <td>AFG</td>\n",
              "      <td>2021-02-23</td>\n",
              "      <td>NaN</td>\n",
              "      <td>NaN</td>\n",
              "      <td>NaN</td>\n",
              "      <td>NaN</td>\n",
              "      <td>1367.0</td>\n",
              "      <td>NaN</td>\n",
              "      <td>NaN</td>\n",
              "      <td>NaN</td>\n",
              "      <td>34.0</td>\n",
              "      <td>Johnson&amp;Johnson, Oxford/AstraZeneca, Pfizer/Bi...</td>\n",
              "      <td>World Health Organization</td>\n",
              "      <td>https://covid19.who.int/</td>\n",
              "    </tr>\n",
              "    <tr>\n",
              "      <th>2</th>\n",
              "      <td>Afghanistan</td>\n",
              "      <td>AFG</td>\n",
              "      <td>2021-02-24</td>\n",
              "      <td>NaN</td>\n",
              "      <td>NaN</td>\n",
              "      <td>NaN</td>\n",
              "      <td>NaN</td>\n",
              "      <td>1367.0</td>\n",
              "      <td>NaN</td>\n",
              "      <td>NaN</td>\n",
              "      <td>NaN</td>\n",
              "      <td>34.0</td>\n",
              "      <td>Johnson&amp;Johnson, Oxford/AstraZeneca, Pfizer/Bi...</td>\n",
              "      <td>World Health Organization</td>\n",
              "      <td>https://covid19.who.int/</td>\n",
              "    </tr>\n",
              "    <tr>\n",
              "      <th>3</th>\n",
              "      <td>Afghanistan</td>\n",
              "      <td>AFG</td>\n",
              "      <td>2021-02-25</td>\n",
              "      <td>NaN</td>\n",
              "      <td>NaN</td>\n",
              "      <td>NaN</td>\n",
              "      <td>NaN</td>\n",
              "      <td>1367.0</td>\n",
              "      <td>NaN</td>\n",
              "      <td>NaN</td>\n",
              "      <td>NaN</td>\n",
              "      <td>34.0</td>\n",
              "      <td>Johnson&amp;Johnson, Oxford/AstraZeneca, Pfizer/Bi...</td>\n",
              "      <td>World Health Organization</td>\n",
              "      <td>https://covid19.who.int/</td>\n",
              "    </tr>\n",
              "    <tr>\n",
              "      <th>4</th>\n",
              "      <td>Afghanistan</td>\n",
              "      <td>AFG</td>\n",
              "      <td>2021-02-26</td>\n",
              "      <td>NaN</td>\n",
              "      <td>NaN</td>\n",
              "      <td>NaN</td>\n",
              "      <td>NaN</td>\n",
              "      <td>1367.0</td>\n",
              "      <td>NaN</td>\n",
              "      <td>NaN</td>\n",
              "      <td>NaN</td>\n",
              "      <td>34.0</td>\n",
              "      <td>Johnson&amp;Johnson, Oxford/AstraZeneca, Pfizer/Bi...</td>\n",
              "      <td>World Health Organization</td>\n",
              "      <td>https://covid19.who.int/</td>\n",
              "    </tr>\n",
              "    <tr>\n",
              "      <th>...</th>\n",
              "      <td>...</td>\n",
              "      <td>...</td>\n",
              "      <td>...</td>\n",
              "      <td>...</td>\n",
              "      <td>...</td>\n",
              "      <td>...</td>\n",
              "      <td>...</td>\n",
              "      <td>...</td>\n",
              "      <td>...</td>\n",
              "      <td>...</td>\n",
              "      <td>...</td>\n",
              "      <td>...</td>\n",
              "      <td>...</td>\n",
              "      <td>...</td>\n",
              "      <td>...</td>\n",
              "    </tr>\n",
              "    <tr>\n",
              "      <th>77704</th>\n",
              "      <td>Zimbabwe</td>\n",
              "      <td>ZWE</td>\n",
              "      <td>2022-02-12</td>\n",
              "      <td>7753490.0</td>\n",
              "      <td>4316135.0</td>\n",
              "      <td>3346568.0</td>\n",
              "      <td>7774.0</td>\n",
              "      <td>8741.0</td>\n",
              "      <td>51.37</td>\n",
              "      <td>28.60</td>\n",
              "      <td>22.17</td>\n",
              "      <td>579.0</td>\n",
              "      <td>Oxford/AstraZeneca, Sinopharm/Beijing, Sinovac...</td>\n",
              "      <td>Ministry of Health</td>\n",
              "      <td>https://www.arcgis.com/home/webmap/viewer.html...</td>\n",
              "    </tr>\n",
              "    <tr>\n",
              "      <th>77705</th>\n",
              "      <td>Zimbabwe</td>\n",
              "      <td>ZWE</td>\n",
              "      <td>2022-02-13</td>\n",
              "      <td>7757768.0</td>\n",
              "      <td>4318075.0</td>\n",
              "      <td>3348299.0</td>\n",
              "      <td>4278.0</td>\n",
              "      <td>8749.0</td>\n",
              "      <td>51.40</td>\n",
              "      <td>28.61</td>\n",
              "      <td>22.19</td>\n",
              "      <td>580.0</td>\n",
              "      <td>Oxford/AstraZeneca, Sinopharm/Beijing, Sinovac...</td>\n",
              "      <td>Ministry of Health</td>\n",
              "      <td>https://www.arcgis.com/home/webmap/viewer.html...</td>\n",
              "    </tr>\n",
              "    <tr>\n",
              "      <th>77706</th>\n",
              "      <td>Zimbabwe</td>\n",
              "      <td>ZWE</td>\n",
              "      <td>2022-02-14</td>\n",
              "      <td>7764290.0</td>\n",
              "      <td>4319919.0</td>\n",
              "      <td>3350481.0</td>\n",
              "      <td>6522.0</td>\n",
              "      <td>8748.0</td>\n",
              "      <td>51.45</td>\n",
              "      <td>28.62</td>\n",
              "      <td>22.20</td>\n",
              "      <td>580.0</td>\n",
              "      <td>Oxford/AstraZeneca, Sinopharm/Beijing, Sinovac...</td>\n",
              "      <td>Ministry of Health</td>\n",
              "      <td>https://www.arcgis.com/home/webmap/viewer.html...</td>\n",
              "    </tr>\n",
              "    <tr>\n",
              "      <th>77707</th>\n",
              "      <td>Zimbabwe</td>\n",
              "      <td>ZWE</td>\n",
              "      <td>2022-02-15</td>\n",
              "      <td>7771022.0</td>\n",
              "      <td>4322787.0</td>\n",
              "      <td>3352751.0</td>\n",
              "      <td>6732.0</td>\n",
              "      <td>8662.0</td>\n",
              "      <td>51.49</td>\n",
              "      <td>28.64</td>\n",
              "      <td>22.22</td>\n",
              "      <td>574.0</td>\n",
              "      <td>Oxford/AstraZeneca, Sinopharm/Beijing, Sinovac...</td>\n",
              "      <td>Ministry of Health</td>\n",
              "      <td>https://www.arcgis.com/home/webmap/viewer.html...</td>\n",
              "    </tr>\n",
              "    <tr>\n",
              "      <th>77708</th>\n",
              "      <td>Zimbabwe</td>\n",
              "      <td>ZWE</td>\n",
              "      <td>2022-02-16</td>\n",
              "      <td>7782961.0</td>\n",
              "      <td>4327084.0</td>\n",
              "      <td>3357098.0</td>\n",
              "      <td>11939.0</td>\n",
              "      <td>8399.0</td>\n",
              "      <td>51.57</td>\n",
              "      <td>28.67</td>\n",
              "      <td>22.24</td>\n",
              "      <td>557.0</td>\n",
              "      <td>Oxford/AstraZeneca, Sinopharm/Beijing, Sinovac...</td>\n",
              "      <td>Ministry of Health</td>\n",
              "      <td>https://www.arcgis.com/home/webmap/viewer.html...</td>\n",
              "    </tr>\n",
              "  </tbody>\n",
              "</table>\n",
              "<p>77709 rows × 15 columns</p>\n",
              "</div>"
            ],
            "text/plain": [
              "           country iso_code        date  total_vaccinations  \\\n",
              "0      Afghanistan      AFG  2021-02-22                 0.0   \n",
              "1      Afghanistan      AFG  2021-02-23                 NaN   \n",
              "2      Afghanistan      AFG  2021-02-24                 NaN   \n",
              "3      Afghanistan      AFG  2021-02-25                 NaN   \n",
              "4      Afghanistan      AFG  2021-02-26                 NaN   \n",
              "...            ...      ...         ...                 ...   \n",
              "77704     Zimbabwe      ZWE  2022-02-12           7753490.0   \n",
              "77705     Zimbabwe      ZWE  2022-02-13           7757768.0   \n",
              "77706     Zimbabwe      ZWE  2022-02-14           7764290.0   \n",
              "77707     Zimbabwe      ZWE  2022-02-15           7771022.0   \n",
              "77708     Zimbabwe      ZWE  2022-02-16           7782961.0   \n",
              "\n",
              "       people_vaccinated  people_fully_vaccinated  daily_vaccinations_raw  \\\n",
              "0                    0.0                      NaN                     NaN   \n",
              "1                    NaN                      NaN                     NaN   \n",
              "2                    NaN                      NaN                     NaN   \n",
              "3                    NaN                      NaN                     NaN   \n",
              "4                    NaN                      NaN                     NaN   \n",
              "...                  ...                      ...                     ...   \n",
              "77704          4316135.0                3346568.0                  7774.0   \n",
              "77705          4318075.0                3348299.0                  4278.0   \n",
              "77706          4319919.0                3350481.0                  6522.0   \n",
              "77707          4322787.0                3352751.0                  6732.0   \n",
              "77708          4327084.0                3357098.0                 11939.0   \n",
              "\n",
              "       daily_vaccinations  total_vaccinations_per_hundred  \\\n",
              "0                     NaN                            0.00   \n",
              "1                  1367.0                             NaN   \n",
              "2                  1367.0                             NaN   \n",
              "3                  1367.0                             NaN   \n",
              "4                  1367.0                             NaN   \n",
              "...                   ...                             ...   \n",
              "77704              8741.0                           51.37   \n",
              "77705              8749.0                           51.40   \n",
              "77706              8748.0                           51.45   \n",
              "77707              8662.0                           51.49   \n",
              "77708              8399.0                           51.57   \n",
              "\n",
              "       people_vaccinated_per_hundred  people_fully_vaccinated_per_hundred  \\\n",
              "0                               0.00                                  NaN   \n",
              "1                                NaN                                  NaN   \n",
              "2                                NaN                                  NaN   \n",
              "3                                NaN                                  NaN   \n",
              "4                                NaN                                  NaN   \n",
              "...                              ...                                  ...   \n",
              "77704                          28.60                                22.17   \n",
              "77705                          28.61                                22.19   \n",
              "77706                          28.62                                22.20   \n",
              "77707                          28.64                                22.22   \n",
              "77708                          28.67                                22.24   \n",
              "\n",
              "       daily_vaccinations_per_million  \\\n",
              "0                                 NaN   \n",
              "1                                34.0   \n",
              "2                                34.0   \n",
              "3                                34.0   \n",
              "4                                34.0   \n",
              "...                               ...   \n",
              "77704                           579.0   \n",
              "77705                           580.0   \n",
              "77706                           580.0   \n",
              "77707                           574.0   \n",
              "77708                           557.0   \n",
              "\n",
              "                                                vaccines  \\\n",
              "0      Johnson&Johnson, Oxford/AstraZeneca, Pfizer/Bi...   \n",
              "1      Johnson&Johnson, Oxford/AstraZeneca, Pfizer/Bi...   \n",
              "2      Johnson&Johnson, Oxford/AstraZeneca, Pfizer/Bi...   \n",
              "3      Johnson&Johnson, Oxford/AstraZeneca, Pfizer/Bi...   \n",
              "4      Johnson&Johnson, Oxford/AstraZeneca, Pfizer/Bi...   \n",
              "...                                                  ...   \n",
              "77704  Oxford/AstraZeneca, Sinopharm/Beijing, Sinovac...   \n",
              "77705  Oxford/AstraZeneca, Sinopharm/Beijing, Sinovac...   \n",
              "77706  Oxford/AstraZeneca, Sinopharm/Beijing, Sinovac...   \n",
              "77707  Oxford/AstraZeneca, Sinopharm/Beijing, Sinovac...   \n",
              "77708  Oxford/AstraZeneca, Sinopharm/Beijing, Sinovac...   \n",
              "\n",
              "                     source_name  \\\n",
              "0      World Health Organization   \n",
              "1      World Health Organization   \n",
              "2      World Health Organization   \n",
              "3      World Health Organization   \n",
              "4      World Health Organization   \n",
              "...                          ...   \n",
              "77704         Ministry of Health   \n",
              "77705         Ministry of Health   \n",
              "77706         Ministry of Health   \n",
              "77707         Ministry of Health   \n",
              "77708         Ministry of Health   \n",
              "\n",
              "                                          source_website  \n",
              "0                               https://covid19.who.int/  \n",
              "1                               https://covid19.who.int/  \n",
              "2                               https://covid19.who.int/  \n",
              "3                               https://covid19.who.int/  \n",
              "4                               https://covid19.who.int/  \n",
              "...                                                  ...  \n",
              "77704  https://www.arcgis.com/home/webmap/viewer.html...  \n",
              "77705  https://www.arcgis.com/home/webmap/viewer.html...  \n",
              "77706  https://www.arcgis.com/home/webmap/viewer.html...  \n",
              "77707  https://www.arcgis.com/home/webmap/viewer.html...  \n",
              "77708  https://www.arcgis.com/home/webmap/viewer.html...  \n",
              "\n",
              "[77709 rows x 15 columns]"
            ]
          },
          "execution_count": 3,
          "metadata": {},
          "output_type": "execute_result"
        }
      ],
      "source": [
        "DatosVacunacion = pd.read_csv(\"https://raw.githubusercontent.com/OscarCasasolaGarcia/Practicas/master/1EDA/country_vaccinations.csv\")\n",
        "DatosVacunacion"
      ]
    },
    {
      "cell_type": "code",
      "execution_count": 4,
      "metadata": {
        "id": "Io8qryiTxGto",
        "outputId": "41df9b06-c2f5-4397-8021-503b44caa044"
      },
      "outputs": [
        {
          "data": {
            "text/html": [
              "<div>\n",
              "<style scoped>\n",
              "    .dataframe tbody tr th:only-of-type {\n",
              "        vertical-align: middle;\n",
              "    }\n",
              "\n",
              "    .dataframe tbody tr th {\n",
              "        vertical-align: top;\n",
              "    }\n",
              "\n",
              "    .dataframe thead th {\n",
              "        text-align: right;\n",
              "    }\n",
              "</style>\n",
              "<table border=\"1\" class=\"dataframe\">\n",
              "  <thead>\n",
              "    <tr style=\"text-align: right;\">\n",
              "      <th></th>\n",
              "      <th>country</th>\n",
              "      <th>iso_code</th>\n",
              "      <th>date</th>\n",
              "      <th>total_vaccinations</th>\n",
              "      <th>people_vaccinated</th>\n",
              "      <th>people_fully_vaccinated</th>\n",
              "      <th>daily_vaccinations_raw</th>\n",
              "      <th>daily_vaccinations</th>\n",
              "      <th>total_vaccinations_per_hundred</th>\n",
              "      <th>people_vaccinated_per_hundred</th>\n",
              "      <th>people_fully_vaccinated_per_hundred</th>\n",
              "      <th>daily_vaccinations_per_million</th>\n",
              "      <th>vaccines</th>\n",
              "      <th>source_name</th>\n",
              "      <th>source_website</th>\n",
              "    </tr>\n",
              "  </thead>\n",
              "  <tbody>\n",
              "    <tr>\n",
              "      <th>77704</th>\n",
              "      <td>Zimbabwe</td>\n",
              "      <td>ZWE</td>\n",
              "      <td>2022-02-12</td>\n",
              "      <td>7753490.0</td>\n",
              "      <td>4316135.0</td>\n",
              "      <td>3346568.0</td>\n",
              "      <td>7774.0</td>\n",
              "      <td>8741.0</td>\n",
              "      <td>51.37</td>\n",
              "      <td>28.60</td>\n",
              "      <td>22.17</td>\n",
              "      <td>579.0</td>\n",
              "      <td>Oxford/AstraZeneca, Sinopharm/Beijing, Sinovac...</td>\n",
              "      <td>Ministry of Health</td>\n",
              "      <td>https://www.arcgis.com/home/webmap/viewer.html...</td>\n",
              "    </tr>\n",
              "    <tr>\n",
              "      <th>77705</th>\n",
              "      <td>Zimbabwe</td>\n",
              "      <td>ZWE</td>\n",
              "      <td>2022-02-13</td>\n",
              "      <td>7757768.0</td>\n",
              "      <td>4318075.0</td>\n",
              "      <td>3348299.0</td>\n",
              "      <td>4278.0</td>\n",
              "      <td>8749.0</td>\n",
              "      <td>51.40</td>\n",
              "      <td>28.61</td>\n",
              "      <td>22.19</td>\n",
              "      <td>580.0</td>\n",
              "      <td>Oxford/AstraZeneca, Sinopharm/Beijing, Sinovac...</td>\n",
              "      <td>Ministry of Health</td>\n",
              "      <td>https://www.arcgis.com/home/webmap/viewer.html...</td>\n",
              "    </tr>\n",
              "    <tr>\n",
              "      <th>77706</th>\n",
              "      <td>Zimbabwe</td>\n",
              "      <td>ZWE</td>\n",
              "      <td>2022-02-14</td>\n",
              "      <td>7764290.0</td>\n",
              "      <td>4319919.0</td>\n",
              "      <td>3350481.0</td>\n",
              "      <td>6522.0</td>\n",
              "      <td>8748.0</td>\n",
              "      <td>51.45</td>\n",
              "      <td>28.62</td>\n",
              "      <td>22.20</td>\n",
              "      <td>580.0</td>\n",
              "      <td>Oxford/AstraZeneca, Sinopharm/Beijing, Sinovac...</td>\n",
              "      <td>Ministry of Health</td>\n",
              "      <td>https://www.arcgis.com/home/webmap/viewer.html...</td>\n",
              "    </tr>\n",
              "    <tr>\n",
              "      <th>77707</th>\n",
              "      <td>Zimbabwe</td>\n",
              "      <td>ZWE</td>\n",
              "      <td>2022-02-15</td>\n",
              "      <td>7771022.0</td>\n",
              "      <td>4322787.0</td>\n",
              "      <td>3352751.0</td>\n",
              "      <td>6732.0</td>\n",
              "      <td>8662.0</td>\n",
              "      <td>51.49</td>\n",
              "      <td>28.64</td>\n",
              "      <td>22.22</td>\n",
              "      <td>574.0</td>\n",
              "      <td>Oxford/AstraZeneca, Sinopharm/Beijing, Sinovac...</td>\n",
              "      <td>Ministry of Health</td>\n",
              "      <td>https://www.arcgis.com/home/webmap/viewer.html...</td>\n",
              "    </tr>\n",
              "    <tr>\n",
              "      <th>77708</th>\n",
              "      <td>Zimbabwe</td>\n",
              "      <td>ZWE</td>\n",
              "      <td>2022-02-16</td>\n",
              "      <td>7782961.0</td>\n",
              "      <td>4327084.0</td>\n",
              "      <td>3357098.0</td>\n",
              "      <td>11939.0</td>\n",
              "      <td>8399.0</td>\n",
              "      <td>51.57</td>\n",
              "      <td>28.67</td>\n",
              "      <td>22.24</td>\n",
              "      <td>557.0</td>\n",
              "      <td>Oxford/AstraZeneca, Sinopharm/Beijing, Sinovac...</td>\n",
              "      <td>Ministry of Health</td>\n",
              "      <td>https://www.arcgis.com/home/webmap/viewer.html...</td>\n",
              "    </tr>\n",
              "  </tbody>\n",
              "</table>\n",
              "</div>"
            ],
            "text/plain": [
              "        country iso_code        date  total_vaccinations  people_vaccinated  \\\n",
              "77704  Zimbabwe      ZWE  2022-02-12           7753490.0          4316135.0   \n",
              "77705  Zimbabwe      ZWE  2022-02-13           7757768.0          4318075.0   \n",
              "77706  Zimbabwe      ZWE  2022-02-14           7764290.0          4319919.0   \n",
              "77707  Zimbabwe      ZWE  2022-02-15           7771022.0          4322787.0   \n",
              "77708  Zimbabwe      ZWE  2022-02-16           7782961.0          4327084.0   \n",
              "\n",
              "       people_fully_vaccinated  daily_vaccinations_raw  daily_vaccinations  \\\n",
              "77704                3346568.0                  7774.0              8741.0   \n",
              "77705                3348299.0                  4278.0              8749.0   \n",
              "77706                3350481.0                  6522.0              8748.0   \n",
              "77707                3352751.0                  6732.0              8662.0   \n",
              "77708                3357098.0                 11939.0              8399.0   \n",
              "\n",
              "       total_vaccinations_per_hundred  people_vaccinated_per_hundred  \\\n",
              "77704                           51.37                          28.60   \n",
              "77705                           51.40                          28.61   \n",
              "77706                           51.45                          28.62   \n",
              "77707                           51.49                          28.64   \n",
              "77708                           51.57                          28.67   \n",
              "\n",
              "       people_fully_vaccinated_per_hundred  daily_vaccinations_per_million  \\\n",
              "77704                                22.17                           579.0   \n",
              "77705                                22.19                           580.0   \n",
              "77706                                22.20                           580.0   \n",
              "77707                                22.22                           574.0   \n",
              "77708                                22.24                           557.0   \n",
              "\n",
              "                                                vaccines         source_name  \\\n",
              "77704  Oxford/AstraZeneca, Sinopharm/Beijing, Sinovac...  Ministry of Health   \n",
              "77705  Oxford/AstraZeneca, Sinopharm/Beijing, Sinovac...  Ministry of Health   \n",
              "77706  Oxford/AstraZeneca, Sinopharm/Beijing, Sinovac...  Ministry of Health   \n",
              "77707  Oxford/AstraZeneca, Sinopharm/Beijing, Sinovac...  Ministry of Health   \n",
              "77708  Oxford/AstraZeneca, Sinopharm/Beijing, Sinovac...  Ministry of Health   \n",
              "\n",
              "                                          source_website  \n",
              "77704  https://www.arcgis.com/home/webmap/viewer.html...  \n",
              "77705  https://www.arcgis.com/home/webmap/viewer.html...  \n",
              "77706  https://www.arcgis.com/home/webmap/viewer.html...  \n",
              "77707  https://www.arcgis.com/home/webmap/viewer.html...  \n",
              "77708  https://www.arcgis.com/home/webmap/viewer.html...  "
            ]
          },
          "execution_count": 4,
          "metadata": {},
          "output_type": "execute_result"
        }
      ],
      "source": [
        "DatosVacunacion.tail()"
      ]
    },
    {
      "cell_type": "markdown",
      "metadata": {
        "id": "GcezVK6oH-uv"
      },
      "source": [
        "# Paso 1: Descripción de la estructura de los datos\n",
        "\n",
        "1) Forma (dimensiones) del DataFrame\n",
        "\n",
        "El atributo .shape de Pandas proporciona una estructura general de los datos. Devuelve la cantidad de filas y columnas que tiene el conjunto de datos."
      ]
    },
    {
      "cell_type": "code",
      "execution_count": 6,
      "metadata": {
        "colab": {
          "base_uri": "https://localhost:8080/"
        },
        "id": "PEqJIhlxIzVZ",
        "outputId": "023af451-514f-406b-890a-1e375af120fc"
      },
      "outputs": [
        {
          "data": {
            "text/plain": [
              "(77709, 15)"
            ]
          },
          "execution_count": 6,
          "metadata": {},
          "output_type": "execute_result"
        }
      ],
      "source": [
        "DatosVacunacion.shape"
      ]
    },
    {
      "cell_type": "markdown",
      "metadata": {
        "id": "8-cnllY2JTV1"
      },
      "source": [
        "2) Tipos de datos (variables)\n",
        "\n",
        "El atributo .dtypes muestra los tipos de datos de las columnas (variables y tipos)."
      ]
    },
    {
      "cell_type": "code",
      "execution_count": 7,
      "metadata": {
        "colab": {
          "base_uri": "https://localhost:8080/"
        },
        "id": "BFYuK9rQJXn6",
        "outputId": "4ab4a1cb-1a56-415d-e97c-a254bfba3ef0"
      },
      "outputs": [
        {
          "data": {
            "text/plain": [
              "country                                 object\n",
              "iso_code                                object\n",
              "date                                    object\n",
              "total_vaccinations                     float64\n",
              "people_vaccinated                      float64\n",
              "people_fully_vaccinated                float64\n",
              "daily_vaccinations_raw                 float64\n",
              "daily_vaccinations                     float64\n",
              "total_vaccinations_per_hundred         float64\n",
              "people_vaccinated_per_hundred          float64\n",
              "people_fully_vaccinated_per_hundred    float64\n",
              "daily_vaccinations_per_million         float64\n",
              "vaccines                                object\n",
              "source_name                             object\n",
              "source_website                          object\n",
              "dtype: object"
            ]
          },
          "execution_count": 7,
          "metadata": {},
          "output_type": "execute_result"
        }
      ],
      "source": [
        "DatosVacunacion.dtypes"
      ]
    },
    {
      "cell_type": "markdown",
      "metadata": {
        "id": "LqPT5W0xJksm"
      },
      "source": [
        "Se observa que el conjunto de datos tiene una combinación de variables categóricas (objeto) y numéricas (flotante)."
      ]
    },
    {
      "cell_type": "markdown",
      "metadata": {
        "id": "fbdpOwumIrDp"
      },
      "source": [
        "# Paso 2: Identificación de datos faltantes\n",
        "\n",
        "Una función útil de pandas es .isnull().sum() que regresa la suma de todos los valores nulos en cada variable."
      ]
    },
    {
      "cell_type": "code",
      "execution_count": 8,
      "metadata": {
        "colab": {
          "base_uri": "https://localhost:8080/"
        },
        "id": "nI1d8izYJ9ni",
        "outputId": "5ba8423f-67c4-4bd5-905a-f8181b4e7945"
      },
      "outputs": [
        {
          "data": {
            "text/plain": [
              "country                                    0\n",
              "iso_code                                   0\n",
              "date                                       0\n",
              "total_vaccinations                     37661\n",
              "people_vaccinated                      39764\n",
              "people_fully_vaccinated                42244\n",
              "daily_vaccinations_raw                 45118\n",
              "daily_vaccinations                       280\n",
              "total_vaccinations_per_hundred         37661\n",
              "people_vaccinated_per_hundred          39764\n",
              "people_fully_vaccinated_per_hundred    42244\n",
              "daily_vaccinations_per_million           280\n",
              "vaccines                                   0\n",
              "source_name                                0\n",
              "source_website                             0\n",
              "dtype: int64"
            ]
          },
          "execution_count": 8,
          "metadata": {},
          "output_type": "execute_result"
        }
      ],
      "source": [
        "DatosVacunacion.isnull().sum()"
      ]
    },
    {
      "cell_type": "code",
      "execution_count": 9,
      "metadata": {
        "colab": {
          "base_uri": "https://localhost:8080/"
        },
        "id": "3i0-YIF0KMzF",
        "outputId": "0efb56ca-0519-425a-d762-e20e73f389db"
      },
      "outputs": [
        {
          "name": "stdout",
          "output_type": "stream",
          "text": [
            "<class 'pandas.core.frame.DataFrame'>\n",
            "RangeIndex: 77709 entries, 0 to 77708\n",
            "Data columns (total 15 columns):\n",
            " #   Column                               Non-Null Count  Dtype  \n",
            "---  ------                               --------------  -----  \n",
            " 0   country                              77709 non-null  object \n",
            " 1   iso_code                             77709 non-null  object \n",
            " 2   date                                 77709 non-null  object \n",
            " 3   total_vaccinations                   40048 non-null  float64\n",
            " 4   people_vaccinated                    37945 non-null  float64\n",
            " 5   people_fully_vaccinated              35465 non-null  float64\n",
            " 6   daily_vaccinations_raw               32591 non-null  float64\n",
            " 7   daily_vaccinations                   77429 non-null  float64\n",
            " 8   total_vaccinations_per_hundred       40048 non-null  float64\n",
            " 9   people_vaccinated_per_hundred        37945 non-null  float64\n",
            " 10  people_fully_vaccinated_per_hundred  35465 non-null  float64\n",
            " 11  daily_vaccinations_per_million       77429 non-null  float64\n",
            " 12  vaccines                             77709 non-null  object \n",
            " 13  source_name                          77709 non-null  object \n",
            " 14  source_website                       77709 non-null  object \n",
            "dtypes: float64(9), object(6)\n",
            "memory usage: 8.9+ MB\n"
          ]
        }
      ],
      "source": [
        "DatosVacunacion.info()"
      ]
    },
    {
      "cell_type": "markdown",
      "metadata": {
        "id": "3UFHKSG2It_D"
      },
      "source": [
        "# Paso 3: Detección de valores atípicos\n",
        "\n",
        "Se pueden utilizar gráficos para tener una idea general de las distribuciones de los datos, y se sacan estadísticas para resumir los datos. Estas dos estrategias son recomendables y se complementan.\n",
        "\n",
        "La distribución se refiere a cómo se distribuyen los valores en una variable o con qué frecuencia ocurren.\n",
        "\n",
        "Para las variables numéricas, se observa cuántas veces aparecen grupos de números en una columna. Mientras que para las variables categóricas, son las clases de cada columna y su frecuencia."
      ]
    },
    {
      "cell_type": "markdown",
      "metadata": {
        "id": "XXGWHIN8hcEk"
      },
      "source": [
        "**1) Distribución de variables numéricas**\n",
        "\n",
        "* Se utilizan histogramas que agrupan los números en rangos.\n",
        "* La altura de una barra muestra cuántos números caen en ese rango. \n",
        "* Se emplea hist() para trazar el histograma de las variables numéricas. También se pueden usar los parámetros: figsize y xrot para aumentar el tamaño de la cuadrícula y rotar el eje x 45 grados."
      ]
    },
    {
      "cell_type": "code",
      "execution_count": 10,
      "metadata": {
        "colab": {
          "base_uri": "https://localhost:8080/",
          "height": 849
        },
        "id": "gPZ2ls_VhqXm",
        "outputId": "0d9d6382-f5cb-484d-fa79-096f1475d823"
      },
      "outputs": [
        {
          "data": {
            "image/png": "[encoded data removed]",
            "text/plain": [
              "<Figure size 1008x1008 with 9 Axes>"
            ]
          },
          "metadata": {
            "needs_background": "light"
          },
          "output_type": "display_data"
        }
      ],
      "source": [
        "DatosVacunacion.hist(figsize=(14,14), xrot=45)\n",
        "plt.show()"
      ]
    },
    {
      "cell_type": "code",
      "execution_count": 22,
      "metadata": {
        "colab": {
          "base_uri": "https://localhost:8080/",
          "height": 1000
        },
        "id": "UvmbRm5uckPw",
        "outputId": "bb857eac-a930-4901-d08c-3bbd6712abdb"
      },
      "outputs": [
        {
          "data": {
            "text/html": [
              "<div>\n",
              "<style scoped>\n",
              "    .dataframe tbody tr th:only-of-type {\n",
              "        vertical-align: middle;\n",
              "    }\n",
              "\n",
              "    .dataframe tbody tr th {\n",
              "        vertical-align: top;\n",
              "    }\n",
              "\n",
              "    .dataframe thead th {\n",
              "        text-align: right;\n",
              "    }\n",
              "</style>\n",
              "<table border=\"1\" class=\"dataframe\">\n",
              "  <thead>\n",
              "    <tr style=\"text-align: right;\">\n",
              "      <th></th>\n",
              "      <th>country</th>\n",
              "      <th>iso_code</th>\n",
              "      <th>date</th>\n",
              "      <th>total_vaccinations</th>\n",
              "      <th>people_vaccinated</th>\n",
              "      <th>people_fully_vaccinated</th>\n",
              "      <th>daily_vaccinations_raw</th>\n",
              "      <th>daily_vaccinations</th>\n",
              "      <th>total_vaccinations_per_hundred</th>\n",
              "      <th>people_vaccinated_per_hundred</th>\n",
              "      <th>people_fully_vaccinated_per_hundred</th>\n",
              "      <th>daily_vaccinations_per_million</th>\n",
              "      <th>vaccines</th>\n",
              "      <th>source_name</th>\n",
              "      <th>source_website</th>\n",
              "    </tr>\n",
              "  </thead>\n",
              "  <tbody>\n",
              "    <tr>\n",
              "      <th>44768</th>\n",
              "      <td>Mexico</td>\n",
              "      <td>MEX</td>\n",
              "      <td>2020-12-24</td>\n",
              "      <td>2924.0</td>\n",
              "      <td>2924.0</td>\n",
              "      <td>NaN</td>\n",
              "      <td>NaN</td>\n",
              "      <td>NaN</td>\n",
              "      <td>0.00</td>\n",
              "      <td>0.00</td>\n",
              "      <td>NaN</td>\n",
              "      <td>NaN</td>\n",
              "      <td>CanSino, Johnson&amp;Johnson, Moderna, Oxford/Astr...</td>\n",
              "      <td>Secretary of Health</td>\n",
              "      <td>http://www.gob.mx/cms/uploads/attachment/file/...</td>\n",
              "    </tr>\n",
              "    <tr>\n",
              "      <th>44769</th>\n",
              "      <td>Mexico</td>\n",
              "      <td>MEX</td>\n",
              "      <td>2020-12-25</td>\n",
              "      <td>NaN</td>\n",
              "      <td>NaN</td>\n",
              "      <td>NaN</td>\n",
              "      <td>NaN</td>\n",
              "      <td>1300.0</td>\n",
              "      <td>NaN</td>\n",
              "      <td>NaN</td>\n",
              "      <td>NaN</td>\n",
              "      <td>10.0</td>\n",
              "      <td>CanSino, Johnson&amp;Johnson, Moderna, Oxford/Astr...</td>\n",
              "      <td>Secretary of Health</td>\n",
              "      <td>http://www.gob.mx/cms/uploads/attachment/file/...</td>\n",
              "    </tr>\n",
              "    <tr>\n",
              "      <th>44770</th>\n",
              "      <td>Mexico</td>\n",
              "      <td>MEX</td>\n",
              "      <td>2020-12-26</td>\n",
              "      <td>NaN</td>\n",
              "      <td>NaN</td>\n",
              "      <td>NaN</td>\n",
              "      <td>NaN</td>\n",
              "      <td>1300.0</td>\n",
              "      <td>NaN</td>\n",
              "      <td>NaN</td>\n",
              "      <td>NaN</td>\n",
              "      <td>10.0</td>\n",
              "      <td>CanSino, Johnson&amp;Johnson, Moderna, Oxford/Astr...</td>\n",
              "      <td>Secretary of Health</td>\n",
              "      <td>http://www.gob.mx/cms/uploads/attachment/file/...</td>\n",
              "    </tr>\n",
              "    <tr>\n",
              "      <th>44771</th>\n",
              "      <td>Mexico</td>\n",
              "      <td>MEX</td>\n",
              "      <td>2020-12-27</td>\n",
              "      <td>6824.0</td>\n",
              "      <td>6824.0</td>\n",
              "      <td>NaN</td>\n",
              "      <td>NaN</td>\n",
              "      <td>1300.0</td>\n",
              "      <td>0.01</td>\n",
              "      <td>0.01</td>\n",
              "      <td>NaN</td>\n",
              "      <td>10.0</td>\n",
              "      <td>CanSino, Johnson&amp;Johnson, Moderna, Oxford/Astr...</td>\n",
              "      <td>Secretary of Health</td>\n",
              "      <td>http://www.gob.mx/cms/uploads/attachment/file/...</td>\n",
              "    </tr>\n",
              "    <tr>\n",
              "      <th>44772</th>\n",
              "      <td>Mexico</td>\n",
              "      <td>MEX</td>\n",
              "      <td>2020-12-28</td>\n",
              "      <td>9579.0</td>\n",
              "      <td>9579.0</td>\n",
              "      <td>NaN</td>\n",
              "      <td>2755.0</td>\n",
              "      <td>1664.0</td>\n",
              "      <td>0.01</td>\n",
              "      <td>0.01</td>\n",
              "      <td>NaN</td>\n",
              "      <td>13.0</td>\n",
              "      <td>CanSino, Johnson&amp;Johnson, Moderna, Oxford/Astr...</td>\n",
              "      <td>Secretary of Health</td>\n",
              "      <td>http://www.gob.mx/cms/uploads/attachment/file/...</td>\n",
              "    </tr>\n",
              "    <tr>\n",
              "      <th>...</th>\n",
              "      <td>...</td>\n",
              "      <td>...</td>\n",
              "      <td>...</td>\n",
              "      <td>...</td>\n",
              "      <td>...</td>\n",
              "      <td>...</td>\n",
              "      <td>...</td>\n",
              "      <td>...</td>\n",
              "      <td>...</td>\n",
              "      <td>...</td>\n",
              "      <td>...</td>\n",
              "      <td>...</td>\n",
              "      <td>...</td>\n",
              "      <td>...</td>\n",
              "      <td>...</td>\n",
              "    </tr>\n",
              "    <tr>\n",
              "      <th>45183</th>\n",
              "      <td>Mexico</td>\n",
              "      <td>MEX</td>\n",
              "      <td>2022-02-12</td>\n",
              "      <td>172046323.0</td>\n",
              "      <td>84064526.0</td>\n",
              "      <td>77885188.0</td>\n",
              "      <td>592569.0</td>\n",
              "      <td>423504.0</td>\n",
              "      <td>132.08</td>\n",
              "      <td>64.53</td>\n",
              "      <td>59.79</td>\n",
              "      <td>3251.0</td>\n",
              "      <td>CanSino, Johnson&amp;Johnson, Moderna, Oxford/Astr...</td>\n",
              "      <td>Secretary of Health</td>\n",
              "      <td>http://www.gob.mx/cms/uploads/attachment/file/...</td>\n",
              "    </tr>\n",
              "    <tr>\n",
              "      <th>45184</th>\n",
              "      <td>Mexico</td>\n",
              "      <td>MEX</td>\n",
              "      <td>2022-02-13</td>\n",
              "      <td>172480864.0</td>\n",
              "      <td>84097727.0</td>\n",
              "      <td>77924179.0</td>\n",
              "      <td>434541.0</td>\n",
              "      <td>407567.0</td>\n",
              "      <td>132.41</td>\n",
              "      <td>64.56</td>\n",
              "      <td>59.82</td>\n",
              "      <td>3129.0</td>\n",
              "      <td>CanSino, Johnson&amp;Johnson, Moderna, Oxford/Astr...</td>\n",
              "      <td>Secretary of Health</td>\n",
              "      <td>http://www.gob.mx/cms/uploads/attachment/file/...</td>\n",
              "    </tr>\n",
              "    <tr>\n",
              "      <th>45185</th>\n",
              "      <td>Mexico</td>\n",
              "      <td>MEX</td>\n",
              "      <td>2022-02-14</td>\n",
              "      <td>172673715.0</td>\n",
              "      <td>84112878.0</td>\n",
              "      <td>77952732.0</td>\n",
              "      <td>192851.0</td>\n",
              "      <td>427489.0</td>\n",
              "      <td>132.56</td>\n",
              "      <td>64.57</td>\n",
              "      <td>59.84</td>\n",
              "      <td>3282.0</td>\n",
              "      <td>CanSino, Johnson&amp;Johnson, Moderna, Oxford/Astr...</td>\n",
              "      <td>Secretary of Health</td>\n",
              "      <td>http://www.gob.mx/cms/uploads/attachment/file/...</td>\n",
              "    </tr>\n",
              "    <tr>\n",
              "      <th>45186</th>\n",
              "      <td>Mexico</td>\n",
              "      <td>MEX</td>\n",
              "      <td>2022-02-15</td>\n",
              "      <td>173037874.0</td>\n",
              "      <td>84765334.0</td>\n",
              "      <td>78499390.0</td>\n",
              "      <td>364159.0</td>\n",
              "      <td>460366.0</td>\n",
              "      <td>132.84</td>\n",
              "      <td>65.07</td>\n",
              "      <td>60.26</td>\n",
              "      <td>3534.0</td>\n",
              "      <td>CanSino, Johnson&amp;Johnson, Moderna, Oxford/Astr...</td>\n",
              "      <td>Secretary of Health</td>\n",
              "      <td>http://www.gob.mx/cms/uploads/attachment/file/...</td>\n",
              "    </tr>\n",
              "    <tr>\n",
              "      <th>45187</th>\n",
              "      <td>Mexico</td>\n",
              "      <td>MEX</td>\n",
              "      <td>2022-02-16</td>\n",
              "      <td>173826545.0</td>\n",
              "      <td>84782507.0</td>\n",
              "      <td>78528456.0</td>\n",
              "      <td>788671.0</td>\n",
              "      <td>517553.0</td>\n",
              "      <td>133.44</td>\n",
              "      <td>65.09</td>\n",
              "      <td>60.28</td>\n",
              "      <td>3973.0</td>\n",
              "      <td>CanSino, Johnson&amp;Johnson, Moderna, Oxford/Astr...</td>\n",
              "      <td>Secretary of Health</td>\n",
              "      <td>http://www.gob.mx/cms/uploads/attachment/file/...</td>\n",
              "    </tr>\n",
              "  </tbody>\n",
              "</table>\n",
              "<p>420 rows × 15 columns</p>\n",
              "</div>"
            ],
            "text/plain": [
              "      country iso_code        date  total_vaccinations  people_vaccinated  \\\n",
              "44768  Mexico      MEX  2020-12-24              2924.0             2924.0   \n",
              "44769  Mexico      MEX  2020-12-25                 NaN                NaN   \n",
              "44770  Mexico      MEX  2020-12-26                 NaN                NaN   \n",
              "44771  Mexico      MEX  2020-12-27              6824.0             6824.0   \n",
              "44772  Mexico      MEX  2020-12-28              9579.0             9579.0   \n",
              "...       ...      ...         ...                 ...                ...   \n",
              "45183  Mexico      MEX  2022-02-12         172046323.0         84064526.0   \n",
              "45184  Mexico      MEX  2022-02-13         172480864.0         84097727.0   \n",
              "45185  Mexico      MEX  2022-02-14         172673715.0         84112878.0   \n",
              "45186  Mexico      MEX  2022-02-15         173037874.0         84765334.0   \n",
              "45187  Mexico      MEX  2022-02-16         173826545.0         84782507.0   \n",
              "\n",
              "       people_fully_vaccinated  daily_vaccinations_raw  daily_vaccinations  \\\n",
              "44768                      NaN                     NaN                 NaN   \n",
              "44769                      NaN                     NaN              1300.0   \n",
              "44770                      NaN                     NaN              1300.0   \n",
              "44771                      NaN                     NaN              1300.0   \n",
              "44772                      NaN                  2755.0              1664.0   \n",
              "...                        ...                     ...                 ...   \n",
              "45183               77885188.0                592569.0            423504.0   \n",
              "45184               77924179.0                434541.0            407567.0   \n",
              "45185               77952732.0                192851.0            427489.0   \n",
              "45186               78499390.0                364159.0            460366.0   \n",
              "45187               78528456.0                788671.0            517553.0   \n",
              "\n",
              "       total_vaccinations_per_hundred  people_vaccinated_per_hundred  \\\n",
              "44768                            0.00                           0.00   \n",
              "44769                             NaN                            NaN   \n",
              "44770                             NaN                            NaN   \n",
              "44771                            0.01                           0.01   \n",
              "44772                            0.01                           0.01   \n",
              "...                               ...                            ...   \n",
              "45183                          132.08                          64.53   \n",
              "45184                          132.41                          64.56   \n",
              "45185                          132.56                          64.57   \n",
              "45186                          132.84                          65.07   \n",
              "45187                          133.44                          65.09   \n",
              "\n",
              "       people_fully_vaccinated_per_hundred  daily_vaccinations_per_million  \\\n",
              "44768                                  NaN                             NaN   \n",
              "44769                                  NaN                            10.0   \n",
              "44770                                  NaN                            10.0   \n",
              "44771                                  NaN                            10.0   \n",
              "44772                                  NaN                            13.0   \n",
              "...                                    ...                             ...   \n",
              "45183                                59.79                          3251.0   \n",
              "45184                                59.82                          3129.0   \n",
              "45185                                59.84                          3282.0   \n",
              "45186                                60.26                          3534.0   \n",
              "45187                                60.28                          3973.0   \n",
              "\n",
              "                                                vaccines          source_name  \\\n",
              "44768  CanSino, Johnson&Johnson, Moderna, Oxford/Astr...  Secretary of Health   \n",
              "44769  CanSino, Johnson&Johnson, Moderna, Oxford/Astr...  Secretary of Health   \n",
              "44770  CanSino, Johnson&Johnson, Moderna, Oxford/Astr...  Secretary of Health   \n",
              "44771  CanSino, Johnson&Johnson, Moderna, Oxford/Astr...  Secretary of Health   \n",
              "44772  CanSino, Johnson&Johnson, Moderna, Oxford/Astr...  Secretary of Health   \n",
              "...                                                  ...                  ...   \n",
              "45183  CanSino, Johnson&Johnson, Moderna, Oxford/Astr...  Secretary of Health   \n",
              "45184  CanSino, Johnson&Johnson, Moderna, Oxford/Astr...  Secretary of Health   \n",
              "45185  CanSino, Johnson&Johnson, Moderna, Oxford/Astr...  Secretary of Health   \n",
              "45186  CanSino, Johnson&Johnson, Moderna, Oxford/Astr...  Secretary of Health   \n",
              "45187  CanSino, Johnson&Johnson, Moderna, Oxford/Astr...  Secretary of Health   \n",
              "\n",
              "                                          source_website  \n",
              "44768  http://www.gob.mx/cms/uploads/attachment/file/...  \n",
              "44769  http://www.gob.mx/cms/uploads/attachment/file/...  \n",
              "44770  http://www.gob.mx/cms/uploads/attachment/file/...  \n",
              "44771  http://www.gob.mx/cms/uploads/attachment/file/...  \n",
              "44772  http://www.gob.mx/cms/uploads/attachment/file/...  \n",
              "...                                                  ...  \n",
              "45183  http://www.gob.mx/cms/uploads/attachment/file/...  \n",
              "45184  http://www.gob.mx/cms/uploads/attachment/file/...  \n",
              "45185  http://www.gob.mx/cms/uploads/attachment/file/...  \n",
              "45186  http://www.gob.mx/cms/uploads/attachment/file/...  \n",
              "45187  http://www.gob.mx/cms/uploads/attachment/file/...  \n",
              "\n",
              "[420 rows x 15 columns]"
            ]
          },
          "execution_count": 22,
          "metadata": {},
          "output_type": "execute_result"
        }
      ],
      "source": [
        "DatosVacunacion[DatosVacunacion.country == 'Mexico']\n"
      ]
    },
    {
      "cell_type": "code",
      "execution_count": 12,
      "metadata": {
        "colab": {
          "base_uri": "https://localhost:8080/",
          "height": 844
        },
        "id": "NpABbFtHqO_J",
        "outputId": "826208e1-c2fb-4095-913c-978125cb2a94"
      },
      "outputs": [
        {
          "data": {
            "image/png": "[encoded data removed]",
            "text/plain": [
              "<Figure size 1008x1008 with 9 Axes>"
            ]
          },
          "metadata": {
            "needs_background": "light"
          },
          "output_type": "display_data"
        }
      ],
      "source": [
        "DatosVacunacion[DatosVacunacion.country == 'Mexico'].hist(figsize=(14,14), xrot=45)\n",
        "plt.show()"
      ]
    },
    {
      "cell_type": "code",
      "execution_count": null,
      "metadata": {},
      "outputs": [],
      "source": []
    },
    {
      "cell_type": "markdown",
      "metadata": {
        "id": "Png--NKNigVz"
      },
      "source": [
        "**Qué buscar:**\n",
        "\n",
        "* Posibles valores atípicos, que pueden ser errores de medición.\n",
        "\n",
        "* Límites que no tienen sentido, como valores porcentuales > 100.\n",
        "* Se sugiere quitar la variable: total_vaccinations_per_hundred."
      ]
    },
    {
      "cell_type": "markdown",
      "metadata": {
        "id": "kcoFF4zwi5Z3"
      },
      "source": [
        "**2) Resumen estadístico de variables numéricas**\n",
        "\n",
        "Se sacan estadísticas usando describe() que muestra un resumen estadístico de las variables numéricas."
      ]
    },
    {
      "cell_type": "code",
      "execution_count": 13,
      "metadata": {
        "colab": {
          "base_uri": "https://localhost:8080/",
          "height": 364
        },
        "id": "iMYq7Xjki6_0",
        "outputId": "175eecc9-9acf-43cc-f09d-040b539136ca"
      },
      "outputs": [
        {
          "data": {
            "text/html": [
              "<div>\n",
              "<style scoped>\n",
              "    .dataframe tbody tr th:only-of-type {\n",
              "        vertical-align: middle;\n",
              "    }\n",
              "\n",
              "    .dataframe tbody tr th {\n",
              "        vertical-align: top;\n",
              "    }\n",
              "\n",
              "    .dataframe thead th {\n",
              "        text-align: right;\n",
              "    }\n",
              "</style>\n",
              "<table border=\"1\" class=\"dataframe\">\n",
              "  <thead>\n",
              "    <tr style=\"text-align: right;\">\n",
              "      <th></th>\n",
              "      <th>total_vaccinations</th>\n",
              "      <th>people_vaccinated</th>\n",
              "      <th>people_fully_vaccinated</th>\n",
              "      <th>daily_vaccinations_raw</th>\n",
              "      <th>daily_vaccinations</th>\n",
              "      <th>total_vaccinations_per_hundred</th>\n",
              "      <th>people_vaccinated_per_hundred</th>\n",
              "      <th>people_fully_vaccinated_per_hundred</th>\n",
              "      <th>daily_vaccinations_per_million</th>\n",
              "    </tr>\n",
              "  </thead>\n",
              "  <tbody>\n",
              "    <tr>\n",
              "      <th>count</th>\n",
              "      <td>3.610000e+02</td>\n",
              "      <td>3.520000e+02</td>\n",
              "      <td>3.340000e+02</td>\n",
              "      <td>3.180000e+02</td>\n",
              "      <td>4.190000e+02</td>\n",
              "      <td>361.000000</td>\n",
              "      <td>352.000000</td>\n",
              "      <td>334.000000</td>\n",
              "      <td>419.000000</td>\n",
              "    </tr>\n",
              "    <tr>\n",
              "      <th>mean</th>\n",
              "      <td>6.312366e+07</td>\n",
              "      <td>3.932007e+07</td>\n",
              "      <td>3.017572e+07</td>\n",
              "      <td>4.431414e+05</td>\n",
              "      <td>4.112672e+05</td>\n",
              "      <td>48.458947</td>\n",
              "      <td>30.185455</td>\n",
              "      <td>23.165359</td>\n",
              "      <td>3157.217184</td>\n",
              "    </tr>\n",
              "    <tr>\n",
              "      <th>std</th>\n",
              "      <td>5.593993e+07</td>\n",
              "      <td>3.061532e+07</td>\n",
              "      <td>2.674850e+07</td>\n",
              "      <td>6.305156e+05</td>\n",
              "      <td>2.972282e+05</td>\n",
              "      <td>42.944174</td>\n",
              "      <td>23.503036</td>\n",
              "      <td>20.534355</td>\n",
              "      <td>2281.745765</td>\n",
              "    </tr>\n",
              "    <tr>\n",
              "      <th>min</th>\n",
              "      <td>2.924000e+03</td>\n",
              "      <td>2.924000e+03</td>\n",
              "      <td>1.958000e+03</td>\n",
              "      <td>0.000000e+00</td>\n",
              "      <td>1.300000e+03</td>\n",
              "      <td>0.000000</td>\n",
              "      <td>0.000000</td>\n",
              "      <td>0.000000</td>\n",
              "      <td>10.000000</td>\n",
              "    </tr>\n",
              "    <tr>\n",
              "      <th>25%</th>\n",
              "      <td>8.644446e+06</td>\n",
              "      <td>9.377838e+06</td>\n",
              "      <td>4.629287e+06</td>\n",
              "      <td>1.348690e+05</td>\n",
              "      <td>1.862860e+05</td>\n",
              "      <td>6.640000</td>\n",
              "      <td>7.202500</td>\n",
              "      <td>3.550000</td>\n",
              "      <td>1430.000000</td>\n",
              "    </tr>\n",
              "    <tr>\n",
              "      <th>50%</th>\n",
              "      <td>4.985702e+07</td>\n",
              "      <td>3.597939e+07</td>\n",
              "      <td>2.245211e+07</td>\n",
              "      <td>3.557615e+05</td>\n",
              "      <td>4.139270e+05</td>\n",
              "      <td>38.270000</td>\n",
              "      <td>27.620000</td>\n",
              "      <td>17.235000</td>\n",
              "      <td>3178.000000</td>\n",
              "    </tr>\n",
              "    <tr>\n",
              "      <th>75%</th>\n",
              "      <td>1.079217e+08</td>\n",
              "      <td>6.824424e+07</td>\n",
              "      <td>5.240372e+07</td>\n",
              "      <td>5.987792e+05</td>\n",
              "      <td>5.622330e+05</td>\n",
              "      <td>82.850000</td>\n",
              "      <td>52.390000</td>\n",
              "      <td>40.227500</td>\n",
              "      <td>4316.000000</td>\n",
              "    </tr>\n",
              "    <tr>\n",
              "      <th>max</th>\n",
              "      <td>1.738265e+08</td>\n",
              "      <td>8.478251e+07</td>\n",
              "      <td>7.852846e+07</td>\n",
              "      <td>7.246123e+06</td>\n",
              "      <td>1.648223e+06</td>\n",
              "      <td>133.440000</td>\n",
              "      <td>65.090000</td>\n",
              "      <td>60.280000</td>\n",
              "      <td>12653.000000</td>\n",
              "    </tr>\n",
              "  </tbody>\n",
              "</table>\n",
              "</div>"
            ],
            "text/plain": [
              "       total_vaccinations  people_vaccinated  people_fully_vaccinated  \\\n",
              "count        3.610000e+02       3.520000e+02             3.340000e+02   \n",
              "mean         6.312366e+07       3.932007e+07             3.017572e+07   \n",
              "std          5.593993e+07       3.061532e+07             2.674850e+07   \n",
              "min          2.924000e+03       2.924000e+03             1.958000e+03   \n",
              "25%          8.644446e+06       9.377838e+06             4.629287e+06   \n",
              "50%          4.985702e+07       3.597939e+07             2.245211e+07   \n",
              "75%          1.079217e+08       6.824424e+07             5.240372e+07   \n",
              "max          1.738265e+08       8.478251e+07             7.852846e+07   \n",
              "\n",
              "       daily_vaccinations_raw  daily_vaccinations  \\\n",
              "count            3.180000e+02        4.190000e+02   \n",
              "mean             4.431414e+05        4.112672e+05   \n",
              "std              6.305156e+05        2.972282e+05   \n",
              "min              0.000000e+00        1.300000e+03   \n",
              "25%              1.348690e+05        1.862860e+05   \n",
              "50%              3.557615e+05        4.139270e+05   \n",
              "75%              5.987792e+05        5.622330e+05   \n",
              "max              7.246123e+06        1.648223e+06   \n",
              "\n",
              "       total_vaccinations_per_hundred  people_vaccinated_per_hundred  \\\n",
              "count                      361.000000                     352.000000   \n",
              "mean                        48.458947                      30.185455   \n",
              "std                         42.944174                      23.503036   \n",
              "min                          0.000000                       0.000000   \n",
              "25%                          6.640000                       7.202500   \n",
              "50%                         38.270000                      27.620000   \n",
              "75%                         82.850000                      52.390000   \n",
              "max                        133.440000                      65.090000   \n",
              "\n",
              "       people_fully_vaccinated_per_hundred  daily_vaccinations_per_million  \n",
              "count                           334.000000                      419.000000  \n",
              "mean                             23.165359                     3157.217184  \n",
              "std                              20.534355                     2281.745765  \n",
              "min                               0.000000                       10.000000  \n",
              "25%                               3.550000                     1430.000000  \n",
              "50%                              17.235000                     3178.000000  \n",
              "75%                              40.227500                     4316.000000  \n",
              "max                              60.280000                    12653.000000  "
            ]
          },
          "execution_count": 13,
          "metadata": {},
          "output_type": "execute_result"
        }
      ],
      "source": [
        "DatosVacunacion[DatosVacunacion.country == 'Mexico'].describe()"
      ]
    },
    {
      "cell_type": "markdown",
      "metadata": {
        "id": "xM7pCf-VjHfX"
      },
      "source": [
        "Se incluye un recuento, media, desviación, valor mínimo, valor máximo, percentil inferior (25%), 50% y percentil superior (75%).\n",
        "\n",
        "Por defecto, el percentil 50 es lo mismo que la mediana."
      ]
    },
    {
      "cell_type": "markdown",
      "metadata": {
        "id": "PcOVoZsvjToG"
      },
      "source": [
        "3)   Diagramas para detectar posibles valores atípicos\n",
        "\n",
        "Para este tipo de gráficos se utiliza Seaborn, que permite generar diagramas de cajas para detectar valores atípicos."
      ]
    },
    {
      "cell_type": "code",
      "execution_count": 14,
      "metadata": {
        "colab": {
          "base_uri": "https://localhost:8080/",
          "height": 1000
        },
        "id": "ANZprC0sjhgu",
        "outputId": "1b1bbf43-8080-4d65-fc5f-273225786d87"
      },
      "outputs": [
        {
          "name": "stderr",
          "output_type": "stream",
          "text": [
            "c:\\Users\\johnc\\anaconda3\\envs\\IA\\lib\\site-packages\\seaborn\\_decorators.py:36: FutureWarning: Pass the following variable as a keyword arg: x. From version 0.12, the only valid positional argument will be `data`, and passing other arguments without an explicit keyword will result in an error or misinterpretation.\n",
            "  warnings.warn(\n"
          ]
        },
        {
          "data": {
            "image/png": "[encoded data removed]",
            "text/plain": [
              "<Figure size 432x288 with 1 Axes>"
            ]
          },
          "metadata": {
            "needs_background": "light"
          },
          "output_type": "display_data"
        },
        {
          "name": "stderr",
          "output_type": "stream",
          "text": [
            "c:\\Users\\johnc\\anaconda3\\envs\\IA\\lib\\site-packages\\seaborn\\_decorators.py:36: FutureWarning: Pass the following variable as a keyword arg: x. From version 0.12, the only valid positional argument will be `data`, and passing other arguments without an explicit keyword will result in an error or misinterpretation.\n",
            "  warnings.warn(\n"
          ]
        },
        {
          "data": {
            "image/png": "[encoded data removed]",
            "text/plain": [
              "<Figure size 432x288 with 1 Axes>"
            ]
          },
          "metadata": {
            "needs_background": "light"
          },
          "output_type": "display_data"
        },
        {
          "name": "stderr",
          "output_type": "stream",
          "text": [
            "c:\\Users\\johnc\\anaconda3\\envs\\IA\\lib\\site-packages\\seaborn\\_decorators.py:36: FutureWarning: Pass the following variable as a keyword arg: x. From version 0.12, the only valid positional argument will be `data`, and passing other arguments without an explicit keyword will result in an error or misinterpretation.\n",
            "  warnings.warn(\n"
          ]
        },
        {
          "data": {
            "image/png": "[encoded data removed]",
            "text/plain": [
              "<Figure size 432x288 with 1 Axes>"
            ]
          },
          "metadata": {
            "needs_background": "light"
          },
          "output_type": "display_data"
        },
        {
          "name": "stderr",
          "output_type": "stream",
          "text": [
            "c:\\Users\\johnc\\anaconda3\\envs\\IA\\lib\\site-packages\\seaborn\\_decorators.py:36: FutureWarning: Pass the following variable as a keyword arg: x. From version 0.12, the only valid positional argument will be `data`, and passing other arguments without an explicit keyword will result in an error or misinterpretation.\n",
            "  warnings.warn(\n"
          ]
        },
        {
          "data": {
            "image/png": "[encoded data removed]",
            "text/plain": [
              "<Figure size 432x288 with 1 Axes>"
            ]
          },
          "metadata": {
            "needs_background": "light"
          },
          "output_type": "display_data"
        }
      ],
      "source": [
        "VariablesValoresAtipicos = ['daily_vaccinations', 'total_vaccinations', 'people_fully_vaccinated', 'daily_vaccinations_raw']\n",
        "for col in VariablesValoresAtipicos:\n",
        "  sns.boxplot(col, data=DatosVacunacion[DatosVacunacion.country == 'Mexico'])\n",
        "  plt.show()\n",
        "\n",
        "#En Daily Vaccinations se observan valores atípicos, pero pasa por las fechas de vacunaciones, las cuales no eran constantes.\n",
        "#No se ponen las demás variables porque son variables calculadas a partir de las que se presentan a continuación. \n"
      ]
    },
    {
      "cell_type": "markdown",
      "metadata": {
        "id": "-tRvxGmDlVAh"
      },
      "source": [
        "4) Distribución de variables categóricas\n",
        "\n",
        "Se refiere a la observación de las clases de cada columna (variable) y su frecuencia. Aquí, los gráficos ayudan para tener una idea general de las distribuciones, mientras que las estadísticas dan números reales."
      ]
    },
    {
      "cell_type": "code",
      "execution_count": 15,
      "metadata": {
        "colab": {
          "base_uri": "https://localhost:8080/",
          "height": 236
        },
        "id": "jk-mkeGtlW5_",
        "outputId": "4c9b58a5-631b-4ff4-d30a-dbab90357304"
      },
      "outputs": [
        {
          "data": {
            "text/html": [
              "<div>\n",
              "<style scoped>\n",
              "    .dataframe tbody tr th:only-of-type {\n",
              "        vertical-align: middle;\n",
              "    }\n",
              "\n",
              "    .dataframe tbody tr th {\n",
              "        vertical-align: top;\n",
              "    }\n",
              "\n",
              "    .dataframe thead th {\n",
              "        text-align: right;\n",
              "    }\n",
              "</style>\n",
              "<table border=\"1\" class=\"dataframe\">\n",
              "  <thead>\n",
              "    <tr style=\"text-align: right;\">\n",
              "      <th></th>\n",
              "      <th>country</th>\n",
              "      <th>iso_code</th>\n",
              "      <th>date</th>\n",
              "      <th>vaccines</th>\n",
              "      <th>source_name</th>\n",
              "      <th>source_website</th>\n",
              "    </tr>\n",
              "  </thead>\n",
              "  <tbody>\n",
              "    <tr>\n",
              "      <th>count</th>\n",
              "      <td>420</td>\n",
              "      <td>420</td>\n",
              "      <td>420</td>\n",
              "      <td>420</td>\n",
              "      <td>420</td>\n",
              "      <td>420</td>\n",
              "    </tr>\n",
              "    <tr>\n",
              "      <th>unique</th>\n",
              "      <td>1</td>\n",
              "      <td>1</td>\n",
              "      <td>420</td>\n",
              "      <td>1</td>\n",
              "      <td>1</td>\n",
              "      <td>1</td>\n",
              "    </tr>\n",
              "    <tr>\n",
              "      <th>top</th>\n",
              "      <td>Mexico</td>\n",
              "      <td>MEX</td>\n",
              "      <td>2020-12-24</td>\n",
              "      <td>CanSino, Johnson&amp;Johnson, Moderna, Oxford/Astr...</td>\n",
              "      <td>Secretary of Health</td>\n",
              "      <td>http://www.gob.mx/cms/uploads/attachment/file/...</td>\n",
              "    </tr>\n",
              "    <tr>\n",
              "      <th>freq</th>\n",
              "      <td>420</td>\n",
              "      <td>420</td>\n",
              "      <td>1</td>\n",
              "      <td>420</td>\n",
              "      <td>420</td>\n",
              "      <td>420</td>\n",
              "    </tr>\n",
              "  </tbody>\n",
              "</table>\n",
              "</div>"
            ],
            "text/plain": [
              "       country iso_code        date  \\\n",
              "count      420      420         420   \n",
              "unique       1        1         420   \n",
              "top     Mexico      MEX  2020-12-24   \n",
              "freq       420      420           1   \n",
              "\n",
              "                                                 vaccines  \\\n",
              "count                                                 420   \n",
              "unique                                                  1   \n",
              "top     CanSino, Johnson&Johnson, Moderna, Oxford/Astr...   \n",
              "freq                                                  420   \n",
              "\n",
              "                source_name                                     source_website  \n",
              "count                   420                                                420  \n",
              "unique                    1                                                  1  \n",
              "top     Secretary of Health  http://www.gob.mx/cms/uploads/attachment/file/...  \n",
              "freq                    420                                                420  "
            ]
          },
          "execution_count": 15,
          "metadata": {},
          "output_type": "execute_result"
        }
      ],
      "source": [
        "DatosVacunacion[DatosVacunacion.country == 'Mexico'].describe(include='object')"
      ]
    },
    {
      "cell_type": "markdown",
      "metadata": {
        "id": "YbBE5RS0lmvH"
      },
      "source": [
        "Esta tabla es diferente al de los valores numéricos. Aquí, se obtiene el recuento de los valores de cada variable, el número de clases únicas, la clase más frecuente y con qué frecuencia ocurre esa clase en el conjunto de datos."
      ]
    },
    {
      "cell_type": "markdown",
      "metadata": {
        "id": "44ZG1kAGmInT"
      },
      "source": [
        "**Plot**\n",
        "\n"
      ]
    },
    {
      "cell_type": "code",
      "execution_count": 16,
      "metadata": {
        "colab": {
          "base_uri": "https://localhost:8080/",
          "height": 311
        },
        "id": "Au1ZmPCHkCsg",
        "outputId": "44285524-e6e6-4d22-f3ae-0583488ce62d"
      },
      "outputs": [
        {
          "data": {
            "image/png": "[encoded data removed]",
            "text/plain": [
              "<Figure size 1440x360 with 1 Axes>"
            ]
          },
          "metadata": {
            "needs_background": "light"
          },
          "output_type": "display_data"
        }
      ],
      "source": [
        "plt.figure(figsize=(20, 5))\n",
        "plt.plot(DatosVacunacion[DatosVacunacion.country == 'Canada']['date'], \n",
        "         DatosVacunacion[DatosVacunacion.country == 'Canada']['people_fully_vaccinated'], color='green', marker='*', label='Canada')\n",
        "plt.plot(DatosVacunacion[DatosVacunacion.country == 'United States']['date'], \n",
        "         DatosVacunacion[DatosVacunacion.country == 'United States']['people_fully_vaccinated'], color='red', marker='+', label='United States')\n",
        "plt.xlabel('Fecha')\n",
        "plt.ylabel('Personas vacunadas')\n",
        "plt.title('Personas vacunadas')\n",
        "plt.grid(True)\n",
        "plt.legend()\n",
        "plt.show()"
      ]
    },
    {
      "cell_type": "code",
      "execution_count": 17,
      "metadata": {
        "colab": {
          "base_uri": "https://localhost:8080/",
          "height": 261
        },
        "id": "g2Yd8brJnSl1",
        "outputId": "68789f07-f9ed-4950-a2bf-64e714aae3d7"
      },
      "outputs": [
        {
          "data": {
            "image/png": "[encoded data removed]",
            "text/plain": [
              "<Figure size 1440x360 with 1 Axes>"
            ]
          },
          "metadata": {
            "needs_background": "light"
          },
          "output_type": "display_data"
        }
      ],
      "source": [
        "plt.figure(figsize=(20, 5))\n",
        "plt.plot(DatosVacunacion[DatosVacunacion.country == 'Mexico']['date'], \n",
        "        DatosVacunacion[DatosVacunacion.country == 'Mexico']['people_fully_vaccinated'], color='green', marker='o', label='Mexico')\n",
        "plt.plot(DatosVacunacion[DatosVacunacion.country == 'United States']['date'], \n",
        "        DatosVacunacion[DatosVacunacion.country == 'United States']['people_fully_vaccinated'], color='red', marker='+', label='USA')\n",
        "plt.plot(DatosVacunacion[DatosVacunacion.country == 'Canada']['date'], \n",
        "        DatosVacunacion[DatosVacunacion.country == 'Canada']['people_fully_vaccinated'], color='purple', marker='+', label='Canada')\n",
        "plt.xlabel('Fecha')\n",
        "plt.ylabel('Personas vacunadas')\n",
        "plt.title('Personas vacunadas')\n",
        "plt.grid(True)\n",
        "plt.legend()\n",
        "plt.show()\n"
      ]
    },
    {
      "cell_type": "markdown",
      "metadata": {
        "id": "koHr8LNKIwc8"
      },
      "source": [
        "# Paso 4: Identificación de relaciones entre pares variables\n",
        "\n",
        "Una matriz de correlaciones es útil para analizar la relación entre las variables numéricas.\n",
        "Se emplea la función corr()"
      ]
    },
    {
      "cell_type": "code",
      "execution_count": 18,
      "metadata": {
        "colab": {
          "base_uri": "https://localhost:8080/",
          "height": 396
        },
        "id": "RT2Uqg7c0K2U",
        "outputId": "b071916f-3418-4d30-c278-f158614c6886"
      },
      "outputs": [
        {
          "data": {
            "text/html": [
              "<div>\n",
              "<style scoped>\n",
              "    .dataframe tbody tr th:only-of-type {\n",
              "        vertical-align: middle;\n",
              "    }\n",
              "\n",
              "    .dataframe tbody tr th {\n",
              "        vertical-align: top;\n",
              "    }\n",
              "\n",
              "    .dataframe thead th {\n",
              "        text-align: right;\n",
              "    }\n",
              "</style>\n",
              "<table border=\"1\" class=\"dataframe\">\n",
              "  <thead>\n",
              "    <tr style=\"text-align: right;\">\n",
              "      <th></th>\n",
              "      <th>total_vaccinations</th>\n",
              "      <th>people_vaccinated</th>\n",
              "      <th>people_fully_vaccinated</th>\n",
              "      <th>daily_vaccinations_raw</th>\n",
              "      <th>daily_vaccinations</th>\n",
              "      <th>total_vaccinations_per_hundred</th>\n",
              "      <th>people_vaccinated_per_hundred</th>\n",
              "      <th>people_fully_vaccinated_per_hundred</th>\n",
              "      <th>daily_vaccinations_per_million</th>\n",
              "    </tr>\n",
              "  </thead>\n",
              "  <tbody>\n",
              "    <tr>\n",
              "      <th>total_vaccinations</th>\n",
              "      <td>1.000000</td>\n",
              "      <td>0.986744</td>\n",
              "      <td>0.995763</td>\n",
              "      <td>0.303737</td>\n",
              "      <td>0.483504</td>\n",
              "      <td>1.000000</td>\n",
              "      <td>0.986744</td>\n",
              "      <td>0.995763</td>\n",
              "      <td>0.483504</td>\n",
              "    </tr>\n",
              "    <tr>\n",
              "      <th>people_vaccinated</th>\n",
              "      <td>0.986744</td>\n",
              "      <td>1.000000</td>\n",
              "      <td>0.973495</td>\n",
              "      <td>0.321683</td>\n",
              "      <td>0.532892</td>\n",
              "      <td>0.986744</td>\n",
              "      <td>1.000000</td>\n",
              "      <td>0.973498</td>\n",
              "      <td>0.532892</td>\n",
              "    </tr>\n",
              "    <tr>\n",
              "      <th>people_fully_vaccinated</th>\n",
              "      <td>0.995763</td>\n",
              "      <td>0.973495</td>\n",
              "      <td>1.000000</td>\n",
              "      <td>0.262629</td>\n",
              "      <td>0.384686</td>\n",
              "      <td>0.995764</td>\n",
              "      <td>0.973496</td>\n",
              "      <td>1.000000</td>\n",
              "      <td>0.384686</td>\n",
              "    </tr>\n",
              "    <tr>\n",
              "      <th>daily_vaccinations_raw</th>\n",
              "      <td>0.303737</td>\n",
              "      <td>0.321683</td>\n",
              "      <td>0.262629</td>\n",
              "      <td>1.000000</td>\n",
              "      <td>0.618454</td>\n",
              "      <td>0.303737</td>\n",
              "      <td>0.321679</td>\n",
              "      <td>0.262638</td>\n",
              "      <td>0.618451</td>\n",
              "    </tr>\n",
              "    <tr>\n",
              "      <th>daily_vaccinations</th>\n",
              "      <td>0.483504</td>\n",
              "      <td>0.532892</td>\n",
              "      <td>0.384686</td>\n",
              "      <td>0.618454</td>\n",
              "      <td>1.000000</td>\n",
              "      <td>0.483501</td>\n",
              "      <td>0.532891</td>\n",
              "      <td>0.384690</td>\n",
              "      <td>1.000000</td>\n",
              "    </tr>\n",
              "    <tr>\n",
              "      <th>total_vaccinations_per_hundred</th>\n",
              "      <td>1.000000</td>\n",
              "      <td>0.986744</td>\n",
              "      <td>0.995764</td>\n",
              "      <td>0.303737</td>\n",
              "      <td>0.483501</td>\n",
              "      <td>1.000000</td>\n",
              "      <td>0.986744</td>\n",
              "      <td>0.995764</td>\n",
              "      <td>0.483501</td>\n",
              "    </tr>\n",
              "    <tr>\n",
              "      <th>people_vaccinated_per_hundred</th>\n",
              "      <td>0.986744</td>\n",
              "      <td>1.000000</td>\n",
              "      <td>0.973496</td>\n",
              "      <td>0.321679</td>\n",
              "      <td>0.532891</td>\n",
              "      <td>0.986744</td>\n",
              "      <td>1.000000</td>\n",
              "      <td>0.973499</td>\n",
              "      <td>0.532891</td>\n",
              "    </tr>\n",
              "    <tr>\n",
              "      <th>people_fully_vaccinated_per_hundred</th>\n",
              "      <td>0.995763</td>\n",
              "      <td>0.973498</td>\n",
              "      <td>1.000000</td>\n",
              "      <td>0.262638</td>\n",
              "      <td>0.384690</td>\n",
              "      <td>0.995764</td>\n",
              "      <td>0.973499</td>\n",
              "      <td>1.000000</td>\n",
              "      <td>0.384689</td>\n",
              "    </tr>\n",
              "    <tr>\n",
              "      <th>daily_vaccinations_per_million</th>\n",
              "      <td>0.483504</td>\n",
              "      <td>0.532892</td>\n",
              "      <td>0.384686</td>\n",
              "      <td>0.618451</td>\n",
              "      <td>1.000000</td>\n",
              "      <td>0.483501</td>\n",
              "      <td>0.532891</td>\n",
              "      <td>0.384689</td>\n",
              "      <td>1.000000</td>\n",
              "    </tr>\n",
              "  </tbody>\n",
              "</table>\n",
              "</div>"
            ],
            "text/plain": [
              "                                     total_vaccinations  people_vaccinated  \\\n",
              "total_vaccinations                             1.000000           0.986744   \n",
              "people_vaccinated                              0.986744           1.000000   \n",
              "people_fully_vaccinated                        0.995763           0.973495   \n",
              "daily_vaccinations_raw                         0.303737           0.321683   \n",
              "daily_vaccinations                             0.483504           0.532892   \n",
              "total_vaccinations_per_hundred                 1.000000           0.986744   \n",
              "people_vaccinated_per_hundred                  0.986744           1.000000   \n",
              "people_fully_vaccinated_per_hundred            0.995763           0.973498   \n",
              "daily_vaccinations_per_million                 0.483504           0.532892   \n",
              "\n",
              "                                     people_fully_vaccinated  \\\n",
              "total_vaccinations                                  0.995763   \n",
              "people_vaccinated                                   0.973495   \n",
              "people_fully_vaccinated                             1.000000   \n",
              "daily_vaccinations_raw                              0.262629   \n",
              "daily_vaccinations                                  0.384686   \n",
              "total_vaccinations_per_hundred                      0.995764   \n",
              "people_vaccinated_per_hundred                       0.973496   \n",
              "people_fully_vaccinated_per_hundred                 1.000000   \n",
              "daily_vaccinations_per_million                      0.384686   \n",
              "\n",
              "                                     daily_vaccinations_raw  \\\n",
              "total_vaccinations                                 0.303737   \n",
              "people_vaccinated                                  0.321683   \n",
              "people_fully_vaccinated                            0.262629   \n",
              "daily_vaccinations_raw                             1.000000   \n",
              "daily_vaccinations                                 0.618454   \n",
              "total_vaccinations_per_hundred                     0.303737   \n",
              "people_vaccinated_per_hundred                      0.321679   \n",
              "people_fully_vaccinated_per_hundred                0.262638   \n",
              "daily_vaccinations_per_million                     0.618451   \n",
              "\n",
              "                                     daily_vaccinations  \\\n",
              "total_vaccinations                             0.483504   \n",
              "people_vaccinated                              0.532892   \n",
              "people_fully_vaccinated                        0.384686   \n",
              "daily_vaccinations_raw                         0.618454   \n",
              "daily_vaccinations                             1.000000   \n",
              "total_vaccinations_per_hundred                 0.483501   \n",
              "people_vaccinated_per_hundred                  0.532891   \n",
              "people_fully_vaccinated_per_hundred            0.384690   \n",
              "daily_vaccinations_per_million                 1.000000   \n",
              "\n",
              "                                     total_vaccinations_per_hundred  \\\n",
              "total_vaccinations                                         1.000000   \n",
              "people_vaccinated                                          0.986744   \n",
              "people_fully_vaccinated                                    0.995764   \n",
              "daily_vaccinations_raw                                     0.303737   \n",
              "daily_vaccinations                                         0.483501   \n",
              "total_vaccinations_per_hundred                             1.000000   \n",
              "people_vaccinated_per_hundred                              0.986744   \n",
              "people_fully_vaccinated_per_hundred                        0.995764   \n",
              "daily_vaccinations_per_million                             0.483501   \n",
              "\n",
              "                                     people_vaccinated_per_hundred  \\\n",
              "total_vaccinations                                        0.986744   \n",
              "people_vaccinated                                         1.000000   \n",
              "people_fully_vaccinated                                   0.973496   \n",
              "daily_vaccinations_raw                                    0.321679   \n",
              "daily_vaccinations                                        0.532891   \n",
              "total_vaccinations_per_hundred                            0.986744   \n",
              "people_vaccinated_per_hundred                             1.000000   \n",
              "people_fully_vaccinated_per_hundred                       0.973499   \n",
              "daily_vaccinations_per_million                            0.532891   \n",
              "\n",
              "                                     people_fully_vaccinated_per_hundred  \\\n",
              "total_vaccinations                                              0.995763   \n",
              "people_vaccinated                                               0.973498   \n",
              "people_fully_vaccinated                                         1.000000   \n",
              "daily_vaccinations_raw                                          0.262638   \n",
              "daily_vaccinations                                              0.384690   \n",
              "total_vaccinations_per_hundred                                  0.995764   \n",
              "people_vaccinated_per_hundred                                   0.973499   \n",
              "people_fully_vaccinated_per_hundred                             1.000000   \n",
              "daily_vaccinations_per_million                                  0.384689   \n",
              "\n",
              "                                     daily_vaccinations_per_million  \n",
              "total_vaccinations                                         0.483504  \n",
              "people_vaccinated                                          0.532892  \n",
              "people_fully_vaccinated                                    0.384686  \n",
              "daily_vaccinations_raw                                     0.618451  \n",
              "daily_vaccinations                                         1.000000  \n",
              "total_vaccinations_per_hundred                             0.483501  \n",
              "people_vaccinated_per_hundred                              0.532891  \n",
              "people_fully_vaccinated_per_hundred                        0.384689  \n",
              "daily_vaccinations_per_million                             1.000000  "
            ]
          },
          "execution_count": 18,
          "metadata": {},
          "output_type": "execute_result"
        }
      ],
      "source": [
        "DatosVacunacion[DatosVacunacion.country == 'Mexico'].corr()"
      ]
    },
    {
      "cell_type": "code",
      "execution_count": 20,
      "metadata": {
        "colab": {
          "base_uri": "https://localhost:8080/",
          "height": 607
        },
        "id": "z3w43J2xL8IZ",
        "outputId": "6a5e08d9-e6f4-471c-9509-6098de93d3b5"
      },
      "outputs": [
        {
          "data": {
            "image/png": "[encoded data removed]",
            "text/plain": [
              "<Figure size 1008x504 with 2 Axes>"
            ]
          },
          "metadata": {
            "needs_background": "light"
          },
          "output_type": "display_data"
        }
      ],
      "source": [
        "plt.figure(figsize=(14,7))\n",
        "MatrizInf = np.triu(DatosVacunacion[DatosVacunacion.country == 'Mexico'].corr())\n",
        "sns.heatmap(DatosVacunacion[DatosVacunacion.country == 'Mexico'].corr(), \n",
        "            cmap='RdBu_r', \n",
        "            annot=True, \n",
        "            mask=MatrizInf)\n",
        "plt.show()"
      ]
    }
  ],
  "metadata": {
    "colab": {
      "provenance": []
    },
    "kernelspec": {
      "display_name": "Python 3.8.12 ('IA')",
      "language": "python",
      "name": "python3"
    },
    "language_info": {
      "codemirror_mode": {
        "name": "ipython",
        "version": 3
      },
      "file_extension": ".py",
      "mimetype": "text/x-python",
      "name": "python",
      "nbconvert_exporter": "python",
      "pygments_lexer": "ipython3",
      "version": "3.8.12"
    },
    "vscode": {
      "interpreter": {
        "hash": "4af4b2b7b2f1c560c9a3b780a55e49e5c58b4702e92f6186fcdc9ed34c53fe61"
      }
    }
  },
  "nbformat": 4,
  "nbformat_minor": 0
}
